{
  "cells": [
    {
      "cell_type": "markdown",
      "metadata": {
        "id": "f-5bYlDLL31Y",
        "outputId": "d3ad9389-0dd7-4464-ce61-2f11bd2e915b"
      },
      "source": [
        "##  Pytorch geometric\n",
        "\n",
        "Pytorch geometric is a pytorch package to train Graph Neural Networks.\n",
        "\n",
        "One \"simple\" architecture is the Graph Convolutional Network (kipf et al)\n",
        "\n",
        "references:\n",
        "- http://tkipf.github.io/graph-convolutional-networks/\n",
        "- https://proceedings.neurips.cc/paper/2015/hash/f9be311e65d81a9ad8150a60844bb94c-Abstract.html\n",
        "- https://arxiv.org/abs/1609.02907\n"
      ]
    },
    {
      "cell_type": "markdown",
      "metadata": {
        "id": "UUMvBxxuWXG4"
      },
      "source": [
        "Install pytorch geometric : https://pytorch-geometric.readthedocs.io/en/latest/"
      ]
    },
    {
      "cell_type": "code",
      "execution_count": 99,
      "metadata": {
        "id": "sHrzuqi7Mj2O",
        "outputId": "72ee8a2b-942f-45f2-8ed7-91b25fb689d9",
        "colab": {
          "base_uri": "https://localhost:8080/"
        }
      },
      "outputs": [
        {
          "output_type": "stream",
          "name": "stdout",
          "text": [
            "Requirement already satisfied: torch_geometric in /usr/local/lib/python3.10/dist-packages (2.3.1)\n",
            "Requirement already satisfied: tqdm in /usr/local/lib/python3.10/dist-packages (from torch_geometric) (4.66.1)\n",
            "Requirement already satisfied: numpy in /usr/local/lib/python3.10/dist-packages (from torch_geometric) (1.23.5)\n",
            "Requirement already satisfied: scipy in /usr/local/lib/python3.10/dist-packages (from torch_geometric) (1.11.2)\n",
            "Requirement already satisfied: jinja2 in /usr/local/lib/python3.10/dist-packages (from torch_geometric) (3.1.2)\n",
            "Requirement already satisfied: requests in /usr/local/lib/python3.10/dist-packages (from torch_geometric) (2.31.0)\n",
            "Requirement already satisfied: pyparsing in /usr/local/lib/python3.10/dist-packages (from torch_geometric) (3.1.1)\n",
            "Requirement already satisfied: scikit-learn in /usr/local/lib/python3.10/dist-packages (from torch_geometric) (1.2.2)\n",
            "Requirement already satisfied: psutil>=5.8.0 in /usr/local/lib/python3.10/dist-packages (from torch_geometric) (5.9.5)\n",
            "Requirement already satisfied: MarkupSafe>=2.0 in /usr/local/lib/python3.10/dist-packages (from jinja2->torch_geometric) (2.1.3)\n",
            "Requirement already satisfied: charset-normalizer<4,>=2 in /usr/local/lib/python3.10/dist-packages (from requests->torch_geometric) (3.2.0)\n",
            "Requirement already satisfied: idna<4,>=2.5 in /usr/local/lib/python3.10/dist-packages (from requests->torch_geometric) (3.4)\n",
            "Requirement already satisfied: urllib3<3,>=1.21.1 in /usr/local/lib/python3.10/dist-packages (from requests->torch_geometric) (2.0.4)\n",
            "Requirement already satisfied: certifi>=2017.4.17 in /usr/local/lib/python3.10/dist-packages (from requests->torch_geometric) (2023.7.22)\n",
            "Requirement already satisfied: joblib>=1.1.1 in /usr/local/lib/python3.10/dist-packages (from scikit-learn->torch_geometric) (1.3.2)\n",
            "Requirement already satisfied: threadpoolctl>=2.0.0 in /usr/local/lib/python3.10/dist-packages (from scikit-learn->torch_geometric) (3.2.0)\n",
            "Requirement already satisfied: rdkit in /usr/local/lib/python3.10/dist-packages (2023.3.3)\n",
            "Requirement already satisfied: numpy in /usr/local/lib/python3.10/dist-packages (from rdkit) (1.23.5)\n",
            "Requirement already satisfied: Pillow in /usr/local/lib/python3.10/dist-packages (from rdkit) (9.4.0)\n"
          ]
        }
      ],
      "source": [
        "!pip install torch_geometric\n",
        "!pip install rdkit"
      ]
    },
    {
      "cell_type": "markdown",
      "metadata": {
        "id": "Q6bXT9FWWXG6"
      },
      "source": [
        "Simple graphs are manipulated with the torch_geometric.data.Data class : https://pytorch-geometric.readthedocs.io/en/latest/modules/data.html#torch_geometric.data.Data\n",
        "\n",
        "The constructor takes a collection a tensor representing the nodes and a tensor representing the edges.\n",
        "\n",
        "Edges are represented by a 2D tensor (cf example here : https://pytorch-geometric.readthedocs.io/en/latest/notes/introduction.html) where each columns represents an edge.\n",
        "\n",
        "\n",
        "Create a simple undirected Graph with three nodes where node 1 is connected to node 2 and 3.\n",
        "Specify the node values to be 1, 2, 3"
      ]
    },
    {
      "cell_type": "code",
      "execution_count": 100,
      "metadata": {
        "id": "PHn3Y5SkWXG8",
        "colab": {
          "base_uri": "https://localhost:8080/"
        },
        "outputId": "1f5af7d8-6c74-4c25-f2b7-218f789045c5"
      },
      "outputs": [
        {
          "output_type": "execute_result",
          "data": {
            "text/plain": [
              "Data(x=[3, 1], edge_index=[2, 2])"
            ]
          },
          "metadata": {},
          "execution_count": 100
        }
      ],
      "source": [
        "import torch\n",
        "from torch_geometric.data import Data\n",
        "\n",
        "edge_index = torch.tensor([[0, 1], [0, 2]], dtype=torch.long).t().contiguous()\n",
        "x = torch.tensor([[1], [2], [3]], dtype=torch.float)\n",
        "\n",
        "test = Data(x=x, edge_index=edge_index)\n",
        "test"
      ]
    },
    {
      "cell_type": "markdown",
      "metadata": {
        "id": "clynGmCNNrCF"
      },
      "source": [
        "# 1. Explore dataset in Pytorch_geometric\n",
        "\n",
        "\n",
        "To better understand molecule and graph, we will load and explore one of the molecule datasets that come from the pytorch_geometric library.\n",
        "\n",
        "1. Load the HIV dataset from the torch_geometric.datasets.MoleculeNet module.\n"
      ]
    },
    {
      "cell_type": "code",
      "execution_count": 101,
      "metadata": {
        "id": "tzbY2RjgOQdo",
        "colab": {
          "base_uri": "https://localhost:8080/"
        },
        "outputId": "b2674ba5-aee2-42d8-84dd-a883063b23f5"
      },
      "outputs": [
        {
          "output_type": "execute_result",
          "data": {
            "text/plain": [
              "HIV(41127)"
            ]
          },
          "metadata": {},
          "execution_count": 101
        }
      ],
      "source": [
        "from torch_geometric.datasets import MoleculeNet\n",
        "\n",
        "data = MoleculeNet(\".\", \"HIV\")\n",
        "data"
      ]
    },
    {
      "cell_type": "markdown",
      "metadata": {
        "id": "PMJfbFG2WXG9"
      },
      "source": [
        "\n",
        "2. How many graphs are there in this dataset ? Print out the number of features and the number of classes for this dataset."
      ]
    },
    {
      "cell_type": "code",
      "execution_count": 102,
      "metadata": {
        "id": "53u0fhbFWXG-",
        "colab": {
          "base_uri": "https://localhost:8080/"
        },
        "outputId": "9a4c911a-7ec8-4e9f-b9e8-19d4ee4e0a27"
      },
      "outputs": [
        {
          "output_type": "stream",
          "name": "stdout",
          "text": [
            "Number of graphs : 41127\n",
            "Number of features : 9\n",
            "Number of classes : 2\n"
          ]
        }
      ],
      "source": [
        "print(\"Number of graphs :\", len(data))\n",
        "print(\"Number of features :\", len(data[0].x[0]))\n",
        "unique_class = set([d.y.item() for d in data])\n",
        "print(\"Number of classes :\", len(unique_class))"
      ]
    },
    {
      "cell_type": "markdown",
      "metadata": {
        "id": "38afm3ObWXG-"
      },
      "source": [
        "3. Get the first graph in this dataset. Print out the number of nodes, the number of edges, the number of features and  the adjency matrix of this graph. This graph is undirected or not ?"
      ]
    },
    {
      "cell_type": "code",
      "execution_count": 103,
      "metadata": {
        "id": "61YCHLYEWXG_",
        "colab": {
          "base_uri": "https://localhost:8080/"
        },
        "outputId": "8711e31b-06cd-41cd-ed85-d554cb5e8a9a"
      },
      "outputs": [
        {
          "output_type": "stream",
          "name": "stdout",
          "text": [
            "Number of nodes : 19\n",
            "Number of edges : 40\n",
            "Number of features : 9\n",
            "Adjacency matrix:\n",
            " [[0. 1. 0. 0. 0. 0. 0. 0. 0. 0. 0. 0. 0. 0. 0. 0. 0. 0. 0.]\n",
            " [1. 0. 1. 0. 0. 0. 0. 0. 0. 0. 0. 0. 0. 0. 0. 0. 0. 0. 0.]\n",
            " [0. 1. 0. 1. 0. 0. 0. 0. 0. 1. 0. 0. 0. 0. 0. 0. 0. 0. 0.]\n",
            " [0. 0. 1. 0. 1. 0. 0. 0. 0. 0. 0. 0. 0. 0. 0. 0. 0. 0. 0.]\n",
            " [0. 0. 0. 1. 0. 1. 0. 0. 0. 0. 1. 0. 0. 0. 0. 0. 0. 0. 1.]\n",
            " [0. 0. 0. 0. 1. 0. 1. 0. 0. 0. 0. 0. 0. 0. 0. 0. 0. 0. 0.]\n",
            " [0. 0. 0. 0. 0. 1. 0. 1. 0. 1. 0. 0. 0. 0. 0. 0. 0. 0. 0.]\n",
            " [0. 0. 0. 0. 0. 0. 1. 0. 1. 0. 0. 0. 0. 0. 0. 0. 0. 0. 0.]\n",
            " [0. 0. 0. 0. 0. 0. 0. 1. 0. 0. 0. 0. 0. 0. 0. 0. 0. 0. 0.]\n",
            " [0. 0. 1. 0. 0. 0. 1. 0. 0. 0. 0. 0. 0. 0. 0. 0. 0. 0. 0.]\n",
            " [0. 0. 0. 0. 1. 0. 0. 0. 0. 0. 0. 1. 0. 0. 0. 0. 0. 0. 0.]\n",
            " [0. 0. 0. 0. 0. 0. 0. 0. 0. 0. 1. 0. 1. 0. 1. 0. 0. 0. 0.]\n",
            " [0. 0. 0. 0. 0. 0. 0. 0. 0. 0. 0. 1. 0. 1. 0. 0. 0. 0. 0.]\n",
            " [0. 0. 0. 0. 0. 0. 0. 0. 0. 0. 0. 0. 1. 0. 0. 0. 0. 0. 0.]\n",
            " [0. 0. 0. 0. 0. 0. 0. 0. 0. 0. 0. 1. 0. 0. 0. 1. 0. 0. 0.]\n",
            " [0. 0. 0. 0. 0. 0. 0. 0. 0. 0. 0. 0. 0. 0. 1. 0. 1. 0. 1.]\n",
            " [0. 0. 0. 0. 0. 0. 0. 0. 0. 0. 0. 0. 0. 0. 0. 1. 0. 1. 0.]\n",
            " [0. 0. 0. 0. 0. 0. 0. 0. 0. 0. 0. 0. 0. 0. 0. 0. 1. 0. 0.]\n",
            " [0. 0. 0. 0. 1. 0. 0. 0. 0. 0. 0. 0. 0. 0. 0. 1. 0. 0. 0.]]\n",
            "Is the graph undirected? True\n"
          ]
        }
      ],
      "source": [
        "from torch_geometric.utils import to_dense_adj\n",
        "\n",
        "first_graph = data[0]\n",
        "print(\"Number of nodes :\", len(first_graph.x))\n",
        "print(\"Number of edges :\", len(first_graph.edge_index[0]))\n",
        "print(\"Number of features :\", len(first_graph.x[0]))\n",
        "\n",
        "adj_matrix = to_dense_adj(first_graph.edge_index).squeeze().numpy()\n",
        "print(f\"Adjacency matrix:\\n {adj_matrix}\")\n",
        "is_undirected = (adj_matrix.T == adj_matrix).all()\n",
        "print(f\"Is the graph undirected? {is_undirected}\")"
      ]
    },
    {
      "cell_type": "markdown",
      "metadata": {
        "id": "NyQUnzcTWXG_"
      },
      "source": [
        "4. Draw this graph using networkx (it's already installed with pytorch_geometric) and torch_geometric.utils.to_networkx.\n"
      ]
    },
    {
      "cell_type": "code",
      "execution_count": 104,
      "metadata": {
        "id": "SuqnN7yeWXHA",
        "colab": {
          "base_uri": "https://localhost:8080/",
          "height": 1000
        },
        "outputId": "1d811250-64f4-4ff8-dfab-48573e483299"
      },
      "outputs": [
        {
          "output_type": "display_data",
          "data": {
            "text/plain": [
              "<Figure size 1200x1200 with 1 Axes>"
            ],
            "image/png": "[encoded data removed]"
          },
          "metadata": {}
        }
      ],
      "source": [
        "from torch_geometric.utils import to_networkx\n",
        "import networkx as nx\n",
        "import matplotlib.pyplot as plt\n",
        "\n",
        "G = to_networkx(first_graph)\n",
        "\n",
        "plt.figure(figsize=(12,12))\n",
        "nx.draw(G, with_labels=True, node_color='skyblue', edge_color='gray', node_size=200, font_size=10)\n",
        "plt.title(\"First Graph from HIV Dataset\")\n",
        "plt.show()"
      ]
    },
    {
      "cell_type": "markdown",
      "metadata": {
        "id": "W0dbGDEOWXHA"
      },
      "source": [
        "5. (Optional) Get the SMILES string of this molecule and draw its structure with Rdkit. The structure of this molecule looks like the graph that you've drawn in 4. ?"
      ]
    },
    {
      "cell_type": "code",
      "execution_count": 105,
      "metadata": {
        "id": "BZ_Ij6KKWXHA",
        "colab": {
          "base_uri": "https://localhost:8080/",
          "height": 317
        },
        "outputId": "907949d9-e89a-43b5-b688-8239b5ebe304"
      },
      "outputs": [
        {
          "output_type": "execute_result",
          "data": {
            "text/plain": [
              "<PIL.PngImagePlugin.PngImageFile image mode=RGB size=300x300>"
            ],
            "image/png": "[encoded data removed]"
          },
          "metadata": {},
          "execution_count": 105
        }
      ],
      "source": [
        "from rdkit import Chem\n",
        "from rdkit.Chem import Draw\n",
        "\n",
        "mol = Chem.MolFromSmiles(first_graph.smiles)\n",
        "Draw.MolToImage(mol)"
      ]
    },
    {
      "cell_type": "markdown",
      "source": [
        "Yes it looks like the graph."
      ],
      "metadata": {
        "id": "ePJF0YlDXNwQ"
      }
    },
    {
      "cell_type": "markdown",
      "metadata": {
        "id": "a5QV7llwgk6v"
      },
      "source": [
        "# EX 2. Convert a molecule to graph\n",
        "\n",
        "A single graph in PyTorch Geometric is described by an instance of the torch_geometric.data.Data class. So, in order to use graph neural network in pytorch_geometric,  we need convert molecules to torch_geometric.data.Data object.\n",
        "\n",
        "\n",
        "The **mol2graph(mol, y, smiles)** function below allows us to convert a molecule (rdkit format) to graph (a torch_geometric.data.Data object).\n",
        "\n",
        "\n",
        "Just load the tab"
      ]
    },
    {
      "cell_type": "code",
      "execution_count": 106,
      "metadata": {
        "id": "Qd4weA8-fn3X"
      },
      "outputs": [],
      "source": [
        "x_map = {\n",
        "    'atomic_num':\n",
        "    list(range(0, 119)),\n",
        "    'chirality': [\n",
        "        'CHI_UNSPECIFIED',\n",
        "        'CHI_TETRAHEDRAL_CW',\n",
        "        'CHI_TETRAHEDRAL_CCW',\n",
        "        'CHI_OTHER',\n",
        "    ],\n",
        "    'degree':\n",
        "    list(range(0, 11)),\n",
        "    'formal_charge':\n",
        "    list(range(-5, 7)),\n",
        "    'num_hs':\n",
        "    list(range(0, 9)),\n",
        "    'num_radical_electrons':\n",
        "    list(range(0, 5)),\n",
        "    'hybridization': [\n",
        "        'UNSPECIFIED',\n",
        "        'S',\n",
        "        'SP',\n",
        "        'SP2',\n",
        "        'SP3',\n",
        "        'SP3D',\n",
        "        'SP3D2',\n",
        "        'OTHER',\n",
        "    ],\n",
        "    'is_aromatic': [False, True],\n",
        "    'is_in_ring': [False, True],\n",
        "}\n",
        "\n",
        "\n",
        "\n",
        "\n",
        "e_map = {\n",
        "    'bond_type': [\n",
        "        'misc',\n",
        "        'SINGLE',\n",
        "        'DOUBLE',\n",
        "        'TRIPLE',\n",
        "        'AROMATIC',\n",
        "    ],\n",
        "    'stereo': [\n",
        "        'STEREONONE',\n",
        "        'STEREOZ',\n",
        "        'STEREOE',\n",
        "        'STEREOCIS',\n",
        "        'STEREOTRANS',\n",
        "        'STEREOANY',\n",
        "    ],\n",
        "    'is_conjugated': [False, True],\n",
        "}\n",
        "\n",
        "\n",
        "def mol2graph(mol, y, smiles):\n",
        "\n",
        "    from torch_geometric.data import Data\n",
        "    import torch\n",
        "    import torch_geometric\n",
        "\n",
        "\n",
        "    xs = []\n",
        "\n",
        "    for atom in mol.GetAtoms():\n",
        "\n",
        "        x = []\n",
        "\n",
        "        x.append(x_map['atomic_num'].index(atom.GetAtomicNum()))\n",
        "        # The atomic number is the number of protons in the nucleus of an atom\n",
        "\n",
        "        x.append(x_map['chirality'].index(str(atom.GetChiralTag())))\n",
        "\n",
        "        x.append(x_map['degree'].index(atom.GetTotalDegree()))\n",
        "        # the number of carbon atoms that this atom is attached to\n",
        "\n",
        "        x.append(x_map['formal_charge'].index(atom.GetFormalCharge()))\n",
        "        x.append(x_map['num_hs'].index(atom.GetTotalNumHs()))\n",
        "        x.append(x_map['num_radical_electrons'].index(\n",
        "            atom.GetNumRadicalElectrons()))\n",
        "        x.append(x_map['hybridization'].index(str(atom.GetHybridization())))\n",
        "        x.append(x_map['is_aromatic'].index(atom.GetIsAromatic()))\n",
        "        x.append(x_map['is_in_ring'].index(atom.IsInRing()))\n",
        "\n",
        "        xs.append(x)\n",
        "\n",
        "\n",
        "\n",
        "    x = torch.tensor(xs, dtype=torch.float).view(-1, 9)\n",
        "\n",
        "    #print(\"x\", x)\n",
        "\n",
        "    edge_indices, edge_attrs = [], []\n",
        "    for bond in mol.GetBonds():\n",
        "        i = bond.GetBeginAtomIdx()\n",
        "        j = bond.GetEndAtomIdx()\n",
        "\n",
        "        e = []\n",
        "        e.append(e_map['bond_type'].index(str(bond.GetBondType())))\n",
        "        e.append(e_map['stereo'].index(str(bond.GetStereo())))\n",
        "        e.append(e_map['is_conjugated'].index(bond.GetIsConjugated()))\n",
        "\n",
        "        edge_indices += [[i, j], [j, i]]\n",
        "        edge_attrs += [e, e]\n",
        "\n",
        "    edge_index = torch.tensor(edge_indices)\n",
        "    edge_index = edge_index.t().to(torch.long).view(2, -1)\n",
        "    edge_attr = torch.tensor(edge_attrs, dtype=torch.long).view(-1, 3)\n",
        "\n",
        "    # Sort indices.\n",
        "    y = torch.tensor(y, dtype=torch.long)\n",
        "\n",
        "    if edge_index.numel() > 0:\n",
        "        perm = (edge_index[0] * x.size(0) + edge_index[1]).argsort()\n",
        "        edge_index, edge_attr = edge_index[:, perm], edge_attr[perm]\n",
        "\n",
        "    data = Data(x=x, edge_index=edge_index, edge_attr=edge_attr, y = y, smiles=smiles)\n",
        "\n",
        "    return data\n"
      ]
    },
    {
      "cell_type": "markdown",
      "metadata": {
        "id": "gvPjMDsXWXHC"
      },
      "source": [
        "1. Use this function to convert a acetic acid molecule to graph. This function takes three parametes as inputs: rdkit molecule (mol), label of graph (here molecule is active or not) (y) and SMILES string of molecule.  Known that the SMILES string of acetic acid is \"CC(O)=O\" and you can choose in this case the label y = 1.\n",
        "\n",
        "\n",
        "2. How many features are there in the nodes ? What are they ? Print out the \"edge_index\" of the acetic acide graph.\n"
      ]
    },
    {
      "cell_type": "code",
      "execution_count": 107,
      "metadata": {
        "id": "jWDK8zIzmUtE",
        "colab": {
          "base_uri": "https://localhost:8080/"
        },
        "outputId": "58e78f35-5683-428a-f575-59a4d15ca601"
      },
      "outputs": [
        {
          "output_type": "stream",
          "name": "stdout",
          "text": [
            "Features count : 9\n",
            "edge index : tensor([[0, 1, 1, 1, 2, 3],\n",
            "        [1, 0, 2, 3, 1, 1]])\n"
          ]
        }
      ],
      "source": [
        "from rdkit import Chem\n",
        "\n",
        "smiles_acetic_acid = \"CC(O)=O\"\n",
        "mol = Chem.MolFromSmiles(smiles_acetic_acid)\n",
        "\n",
        "#convert the mol to a graph\n",
        "g = mol2graph(mol, 1, \"CC(O)=O\")\n",
        "\n",
        "print(\"Features count :\", len(g.x[0]))\n",
        "print(\"edge index :\", g.edge_index)"
      ]
    },
    {
      "cell_type": "markdown",
      "source": [
        "**Features per atoms (node)**\n",
        "\n",
        "\n",
        "1.   atomic_num\n",
        "2.  chirality\n",
        "3.   degree\n",
        "4.   formal_charge\n",
        "5.   num_hs\n",
        "6.   num_radical_electrons\n",
        "7.   hybridization\n",
        "8.   is_aromatic\n",
        "9.   is_in_ring\n",
        "\n",
        "\n"
      ],
      "metadata": {
        "id": "AOC3IwuVpx7K"
      }
    },
    {
      "cell_type": "markdown",
      "metadata": {
        "id": "i58VGkbqxdgk"
      },
      "source": [
        "# Buid a Graph Neural Network (GNN)\n",
        "\n",
        " In the next exercises of this notebook, we will try to build a graph network to predict the ability of molecules to inhibit a protein known as ERK2. For this purpose, we will use compounds that are derived from the DUD-E database."
      ]
    },
    {
      "cell_type": "markdown",
      "metadata": {
        "id": "uWlmiF0yn1oV"
      },
      "source": [
        "#Ex 3: Create dataset\n",
        "\n",
        "The file named \"active_data.csv\" consists of more than 300 active and decoy molecules. The dataset is made of two components:\n",
        "\n",
        "-  Chemical structural data on compounds: each chemical compound is described under the SMILES format.\n",
        "\n",
        "-  ERK2-activity : it corresponds to the screening result evaluating the activity (1) or the inactivity (0) of the chemical compound.\n",
        "\n",
        "\n",
        "1. Read the \"active_data.csv\" file into a pandas dataframe. Are there how many active molecules and how many decoy molecules?\n",
        "\n",
        "\n",
        "2. From this dataframe, create a list of RDKit molecules.\n",
        "\n",
        "\n",
        "3. Using the mol2graph(mol, y, smiles) function to convert the list of Rdkit molecules to a list of torch_geometric.data.Data objects. You should call this list as \"list_data\".\n",
        "\n",
        "\n",
        "4. Plot the histogram to see the ratio between the  compounds active and inactive."
      ]
    },
    {
      "cell_type": "code",
      "execution_count": 108,
      "metadata": {
        "id": "9uDVldMnmp4X",
        "colab": {
          "base_uri": "https://localhost:8080/"
        },
        "outputId": "867c2ec0-8f46-483a-cb25-4eaf90bf6546"
      },
      "outputs": [
        {
          "output_type": "stream",
          "name": "stdout",
          "text": [
            "Dataset size : 379\n",
            "Dataset non active : 300\n",
            "Dataset active : 79\n"
          ]
        }
      ],
      "source": [
        "import pandas as pd\n",
        "from rdkit import Chem\n",
        "\n",
        "data = pd.read_csv('active_data.csv')\n",
        "\n",
        "data['is_active'].values.tolist().count(0)\n",
        "\n",
        "print(\"Dataset size :\", len(data))\n",
        "print(\"Dataset non active :\", data['is_active'].values.tolist().count(0))\n",
        "print(\"Dataset active :\", data['is_active'].values.tolist().count(1))"
      ]
    },
    {
      "cell_type": "code",
      "source": [
        "smiles_list = data['SMILES'].values.tolist()\n",
        "y = data['is_active'].values.tolist()\n",
        "\n",
        "molecule_list = []\n",
        "for smiles in smiles_list:\n",
        "  mol = Chem.MolFromSmiles(smiles)\n",
        "  molecule_list.append(mol)\n",
        "\n",
        "list_data = []\n",
        "for index, mol in enumerate(molecule_list):\n",
        "  g = mol2graph(mol, y[index], smiles_list[index])\n",
        "  list_data.append(g)"
      ],
      "metadata": {
        "id": "T_8W5aJKtkDp"
      },
      "execution_count": 109,
      "outputs": []
    },
    {
      "cell_type": "code",
      "source": [
        "assert(list_data[0].smiles == data['SMILES'][0])\n",
        "assert(list_data[0].y == data['is_active'][0])"
      ],
      "metadata": {
        "id": "1Woi4TZRtCmS"
      },
      "execution_count": 110,
      "outputs": []
    },
    {
      "cell_type": "markdown",
      "metadata": {
        "id": "WAyN3trZ5kum"
      },
      "source": [
        "# EX 4. Create training set and test set\n",
        "In this exercise, we will prepare a training set and a test set.\n",
        "\n",
        "1. Shuffle the \"list_data\" list that you've created above.\n",
        "\n",
        "2. Take the first 300 molecules for \"train_dataset\" and the rest for \"test_dataset\".\n"
      ]
    },
    {
      "cell_type": "code",
      "execution_count": 111,
      "metadata": {
        "id": "N5BbkGyk5yBA"
      },
      "outputs": [],
      "source": [
        "import random\n",
        "\n",
        "random.seed(123)\n",
        "random.shuffle(list_data)\n",
        "\n",
        "train_dataset = list_data[:300]\n",
        "test_dataset = list_data[300:]"
      ]
    },
    {
      "cell_type": "markdown",
      "metadata": {
        "id": "lRfuRXtiIHvo"
      },
      "source": [
        "# Ex5: Create DataLoader\n",
        "\n",
        "Usually a graph classification task trains on a lot of graphs, and it will be very inefficient to use only one graph at a time when training the model.\n",
        "\n",
        "Pytorch Geometric opts for building a single giant graph from a list of graphs by stacking adjacency matrices in a diagonal fashion and node that target features are simply concatenated in the note dimension.\n",
        "\n",
        "A single giant graph is automatically built from a list of graphs with DataLoader.\n",
        "\n",
        "1. Create **train_loader** and **test_loader** from **train_dataset** and **test_dataset** by using the torch_geometric.data.DataLoader class.\n",
        "\n",
        "\n",
        "2. Get a batch from **train_loader**. Print out the number of graphs and data of this batch."
      ]
    },
    {
      "cell_type": "code",
      "execution_count": 125,
      "metadata": {
        "id": "EHiIeHZ761f_"
      },
      "outputs": [],
      "source": [
        "from torch_geometric.data import DataLoader\n",
        "\n",
        "train_loader = DataLoader(train_dataset, batch_size=64, shuffle=True)\n",
        "\n",
        "\n",
        "### TODO ###\n",
        "test_loader = DataLoader(test_dataset, batch_size=64, shuffle=True)"
      ]
    },
    {
      "cell_type": "code",
      "source": [
        "batch = next(iter(train_loader))\n",
        "print(\"Batch size :\", len(batch))"
      ],
      "metadata": {
        "colab": {
          "base_uri": "https://localhost:8080/"
        },
        "id": "Z8sxolrk5jq1",
        "outputId": "4d90e3c7-aeaa-43b3-c22c-480d21d8a8ab"
      },
      "execution_count": 124,
      "outputs": [
        {
          "output_type": "stream",
          "name": "stdout",
          "text": [
            "Batch size : 64\n"
          ]
        }
      ]
    },
    {
      "cell_type": "markdown",
      "metadata": {
        "id": "hWtYDyqY3SQx"
      },
      "source": [
        "# Ex 6: Graph Neural Network Layer\n",
        "\n",
        " Let's try to test a graph neural network layer. This kind of layer is available on the pytorch_geometric.nn module. This layer's similar to Linear Layer (Multi-layer Perception Network) in deep learning.\n",
        "\n",
        "\n",
        " 1. Create an instance of the torch_geometric.nn. GCNConv class. You need choose two parameters: number of features and number of hidden layers.\n",
        "\n",
        "2. Apply it to the graph of acetic acid.\n",
        "\n",
        "\n",
        "3. What is the output ? its size ?\n"
      ]
    },
    {
      "cell_type": "code",
      "execution_count": 139,
      "metadata": {
        "id": "uwKtqlYI3Qw7"
      },
      "outputs": [],
      "source": [
        "from rdkit import Chem\n",
        "\n",
        "smiles_acetic_acid = \"CC(O)=O\"\n",
        "mol_acetic_acid = Chem.MolFromSmiles(smiles_acetic_acid)\n",
        "graph_acetic_acid = mol2graph(mol, y = 1, smiles = smiles_acetic_acid)"
      ]
    },
    {
      "cell_type": "code",
      "source": [
        "print(\"X shape: \", graph_acetic_acid.x.shape)\n",
        "print(\"Edge shape: \", graph_acetic_acid.edge_index.shape)"
      ],
      "metadata": {
        "colab": {
          "base_uri": "https://localhost:8080/"
        },
        "id": "QeM6UMNMBXqV",
        "outputId": "a1260df7-0c68-4a19-8a64-f07b7e330f43"
      },
      "execution_count": 140,
      "outputs": [
        {
          "output_type": "stream",
          "name": "stdout",
          "text": [
            "X shape:  torch.Size([23, 9])\n",
            "Edge shape:  torch.Size([2, 50])\n"
          ]
        }
      ]
    },
    {
      "cell_type": "code",
      "execution_count": 141,
      "metadata": {
        "id": "9XoXr9LaOGzf",
        "colab": {
          "base_uri": "https://localhost:8080/"
        },
        "outputId": "9ac47df4-b320-484d-b060-54f89a6e44ea"
      },
      "outputs": [
        {
          "output_type": "execute_result",
          "data": {
            "text/plain": [
              "tensor([[ 4.5363e-01,  3.0725e+00, -2.0024e+00,  2.8630e+00, -1.1744e+00,\n",
              "         -1.5413e+00, -2.9062e+00,  1.2796e+00, -2.8685e+00, -3.4982e-01,\n",
              "          4.4845e-02, -3.4578e+00,  1.9161e+00, -3.6932e+00,  2.9598e+00,\n",
              "         -2.6064e+00],\n",
              "        [ 8.0718e-01,  3.9102e+00, -2.4707e+00,  3.3281e+00, -1.3187e+00,\n",
              "         -2.3719e+00, -3.9832e+00,  1.2146e+00, -4.0138e+00, -5.2443e-01,\n",
              "         -1.2197e-01, -4.5387e+00,  2.6660e+00, -5.2290e+00,  4.1153e+00,\n",
              "         -3.5253e+00],\n",
              "        [ 1.8711e+00,  4.1348e+00, -1.9777e+00,  3.6546e+00, -6.5200e-01,\n",
              "         -3.7191e+00, -4.9823e+00,  3.4408e-01, -4.6418e+00, -1.8383e+00,\n",
              "         -8.3323e-01, -4.8967e+00,  2.8342e+00, -5.9673e+00,  4.5466e+00,\n",
              "         -3.3437e+00],\n",
              "        [ 1.0114e+00,  3.0868e+00, -2.0029e+00,  2.3375e+00, -8.7289e-01,\n",
              "         -2.3535e+00, -3.2097e+00,  5.6085e-01, -3.7041e+00, -4.8883e-01,\n",
              "         -5.7492e-01, -3.2435e+00,  2.0331e+00, -4.5530e+00,  3.6734e+00,\n",
              "         -3.1892e+00],\n",
              "        [ 1.0114e+00,  3.0868e+00, -2.0029e+00,  2.3375e+00, -8.7289e-01,\n",
              "         -2.3535e+00, -3.2097e+00,  5.6085e-01, -3.7041e+00, -4.8883e-01,\n",
              "         -5.7492e-01, -3.2435e+00,  2.0331e+00, -4.5530e+00,  3.6734e+00,\n",
              "         -3.1892e+00],\n",
              "        [ 3.0434e+00,  4.8527e+00, -2.0554e+00,  5.0480e+00,  3.2946e-02,\n",
              "         -5.0934e+00, -6.7968e+00, -2.8485e-02, -6.3340e+00, -3.4602e+00,\n",
              "         -1.1324e+00, -6.5736e+00,  3.5676e+00, -7.7165e+00,  5.4170e+00,\n",
              "         -3.0187e+00],\n",
              "        [ 1.9101e+00,  3.5146e+00, -1.6156e+00,  3.0596e+00, -2.4312e-01,\n",
              "         -3.5525e+00, -4.4580e+00, -1.2635e-01, -4.3591e+00, -1.8656e+00,\n",
              "         -9.3481e-01, -4.2472e+00,  2.5754e+00, -5.5066e+00,  4.1047e+00,\n",
              "         -2.8170e+00],\n",
              "        [ 2.1426e+00,  3.6227e+00, -1.3750e+00,  3.8272e+00,  9.5129e-02,\n",
              "         -3.6702e+00, -5.1947e+00, -6.9423e-03, -4.6839e+00, -2.5766e+00,\n",
              "         -7.3077e-01, -5.2745e+00,  2.7476e+00, -5.6219e+00,  3.9907e+00,\n",
              "         -2.0919e+00],\n",
              "        [ 5.4075e-01,  3.1060e+00, -1.6622e+00,  2.3458e+00, -1.0684e+00,\n",
              "         -1.9846e+00, -3.3910e+00,  7.8705e-01, -2.9086e+00, -3.5711e-01,\n",
              "         -1.1402e-02, -3.9148e+00,  2.3114e+00, -4.1475e+00,  3.2915e+00,\n",
              "         -2.8498e+00],\n",
              "        [ 8.2626e-01,  3.6673e+00, -2.0653e+00,  2.9731e+00, -1.0112e+00,\n",
              "         -2.5246e+00, -4.3465e+00,  8.2640e-01, -4.1882e+00, -5.7122e-01,\n",
              "         -5.9998e-02, -5.0004e+00,  2.9106e+00, -5.3663e+00,  4.1615e+00,\n",
              "         -3.3580e+00],\n",
              "        [ 7.0678e-01,  2.5935e+00, -1.3779e+00,  2.1123e+00, -6.9556e-01,\n",
              "         -1.8905e+00, -3.4805e+00,  6.8106e-01, -3.1406e+00, -5.3589e-01,\n",
              "          5.5677e-02, -3.9803e+00,  2.0770e+00, -4.0105e+00,  3.0177e+00,\n",
              "         -2.2439e+00],\n",
              "        [ 4.3684e-01,  3.7703e+00, -2.2906e+00,  3.0772e+00, -1.1214e+00,\n",
              "         -2.2196e+00, -3.4893e+00,  7.3144e-01, -3.9478e+00, -1.2619e-01,\n",
              "         -3.1108e-01, -4.1492e+00,  2.8640e+00, -4.8022e+00,  4.1152e+00,\n",
              "         -3.8632e+00],\n",
              "        [ 4.0027e-01,  3.4529e+00, -2.1407e+00,  3.0092e+00, -9.9158e-01,\n",
              "         -1.9929e+00, -3.0460e+00,  6.9475e-01, -3.6355e+00, -1.6483e-01,\n",
              "         -3.6738e-01, -3.5960e+00,  2.5335e+00, -4.2200e+00,  3.6931e+00,\n",
              "         -3.5297e+00],\n",
              "        [ 3.3432e-01,  3.3807e+00, -2.0034e+00,  2.7996e+00, -9.5079e-01,\n",
              "         -1.9608e+00, -2.9636e+00,  5.5855e-01, -3.4836e+00, -8.8514e-02,\n",
              "         -3.9191e-01, -3.5448e+00,  2.5373e+00, -4.0965e+00,  3.6552e+00,\n",
              "         -3.5228e+00],\n",
              "        [ 6.3827e-01,  4.1769e+00, -2.3695e+00,  3.4128e+00, -1.1422e+00,\n",
              "         -2.7653e+00, -4.0910e+00,  6.0439e-01, -4.4331e+00, -3.3762e-01,\n",
              "         -4.6385e-01, -4.6338e+00,  3.2511e+00, -5.4065e+00,  4.6159e+00,\n",
              "         -4.3424e+00],\n",
              "        [ 3.3432e-01,  3.3807e+00, -2.0034e+00,  2.7996e+00, -9.5079e-01,\n",
              "         -1.9608e+00, -2.9636e+00,  5.5855e-01, -3.4836e+00, -8.8514e-02,\n",
              "         -3.9191e-01, -3.5448e+00,  2.5373e+00, -4.0965e+00,  3.6552e+00,\n",
              "         -3.5228e+00],\n",
              "        [ 4.0027e-01,  3.4529e+00, -2.1407e+00,  3.0092e+00, -9.9158e-01,\n",
              "         -1.9929e+00, -3.0460e+00,  6.9475e-01, -3.6355e+00, -1.6483e-01,\n",
              "         -3.6738e-01, -3.5960e+00,  2.5335e+00, -4.2200e+00,  3.6931e+00,\n",
              "         -3.5297e+00],\n",
              "        [ 8.4212e-01,  3.6650e+00, -1.8423e+00,  2.9359e+00, -9.0022e-01,\n",
              "         -2.7535e+00, -4.3536e+00,  5.2371e-01, -4.1541e+00, -6.2102e-01,\n",
              "         -2.9097e-01, -4.8338e+00,  2.9647e+00, -5.1909e+00,  4.2047e+00,\n",
              "         -3.5800e+00],\n",
              "        [ 7.5468e-01,  2.6330e+00, -1.3096e+00,  2.2071e+00, -6.4591e-01,\n",
              "         -2.0591e+00, -3.5320e+00,  5.5981e-01, -3.2045e+00, -6.1196e-01,\n",
              "         -8.1979e-02, -3.9000e+00,  2.1103e+00, -3.9656e+00,  3.0676e+00,\n",
              "         -2.3935e+00],\n",
              "        [ 6.3294e-01,  2.9446e+00, -1.5041e+00,  2.2278e+00, -7.8660e-01,\n",
              "         -2.3169e+00, -3.3430e+00,  2.7255e-01, -3.2147e+00, -3.9034e-01,\n",
              "         -3.1114e-01, -3.5669e+00,  2.4606e+00, -4.1716e+00,  3.4033e+00,\n",
              "         -3.1365e+00],\n",
              "        [ 1.1337e+00,  3.7302e+00, -1.9776e+00,  3.2667e+00, -9.0888e-01,\n",
              "         -3.0175e+00, -4.7366e+00,  6.9179e-01, -4.4556e+00, -9.5988e-01,\n",
              "         -2.3584e-01, -5.0231e+00,  2.9800e+00, -5.5665e+00,  4.2553e+00,\n",
              "         -3.4764e+00],\n",
              "        [ 7.5468e-01,  2.6330e+00, -1.3096e+00,  2.2071e+00, -6.4591e-01,\n",
              "         -2.0591e+00, -3.5320e+00,  5.5981e-01, -3.2045e+00, -6.1196e-01,\n",
              "         -8.1979e-02, -3.9000e+00,  2.1103e+00, -3.9656e+00,  3.0676e+00,\n",
              "         -2.3935e+00],\n",
              "        [ 4.9947e-01,  3.0151e+00, -1.5065e+00,  2.2094e+00, -7.7488e-01,\n",
              "         -2.2060e+00, -3.1684e+00,  1.9850e-01, -3.1555e+00, -2.6042e-01,\n",
              "         -3.7327e-01, -3.5267e+00,  2.5011e+00, -4.0444e+00,  3.4498e+00,\n",
              "         -3.2328e+00]], grad_fn=<AddBackward0>)"
            ]
          },
          "metadata": {},
          "execution_count": 141
        }
      ],
      "source": [
        "# TODO\n",
        "from torch_geometric.nn import GCNConv\n",
        "\n",
        "conv_layer = GCNConv(9, 16)\n",
        "x = graph_acetic_acid.x  # Node features\n",
        "edge_index = graph_acetic_acid.edge_index  # Edge information\n",
        "\n",
        "# Apply the layer\n",
        "out = conv_layer(x, edge_index)\n",
        "out"
      ]
    },
    {
      "cell_type": "code",
      "source": [
        "out.size()"
      ],
      "metadata": {
        "colab": {
          "base_uri": "https://localhost:8080/"
        },
        "id": "jTZwsMa7BPy4",
        "outputId": "1f29a815-1192-4931-9e70-343b76b96fd6"
      },
      "execution_count": 142,
      "outputs": [
        {
          "output_type": "execute_result",
          "data": {
            "text/plain": [
              "torch.Size([23, 16])"
            ]
          },
          "metadata": {},
          "execution_count": 142
        }
      ]
    },
    {
      "cell_type": "markdown",
      "source": [
        "Ca c'est les embeddings des noeuds du graph."
      ],
      "metadata": {
        "id": "Lgq0O41mCBhd"
      }
    },
    {
      "cell_type": "markdown",
      "metadata": {
        "id": "gjTreX5M65sC"
      },
      "source": [
        "# EX 7: global_mean_pool Layer\n",
        "\n",
        "As we've seen in the ex 6, the output of a GNN layer is a tensor with size (35, 16). However, for the graph classification task, the label of graph is just a scaler number. So, we need to aggregate node embeddings into a unified graph embedding (known as readout layer) before training a final classifier. Let's try it to see what the output of a global_mean_pool layer is.\n",
        "\n",
        "\n",
        "1. Pass the **out_GCN_layer** variable to the global_mean_pool function. Store the result in a variable named **out_GMP_layer**\n",
        "\n",
        "2. Print out the shape of **out_GMP_layer**.\n",
        "\n"
      ]
    },
    {
      "cell_type": "code",
      "execution_count": 147,
      "metadata": {
        "id": "m0-2aMh483Rc",
        "colab": {
          "base_uri": "https://localhost:8080/"
        },
        "outputId": "baf71bc1-6b8f-47d9-b502-dab4ca7f380b"
      },
      "outputs": [
        {
          "output_type": "stream",
          "name": "stdout",
          "text": [
            "tensor([[-0.9227, -0.2041, -3.0066,  0.9586,  3.2627,  1.4848,  0.3403, -5.5282,\n",
            "         -0.7576, -2.3550,  1.8459, -1.8079, -0.7538,  0.1055, -1.7244,  1.2959]],\n",
            "       grad_fn=<DivBackward0>)\n",
            "shape of output_GMP_layer  torch.Size([1, 16])\n"
          ]
        }
      ],
      "source": [
        "from torch_geometric.nn import GCNConv\n",
        "from torch_geometric.nn import global_mean_pool\n",
        "\n",
        "# GMP mean Global mean pool\n",
        "data_for_test_GMP_layer = DataLoader([graph_acetic_acid], batch_size=1 )\n",
        "conv_test = GCNConv(9, 16)\n",
        "\n",
        "\n",
        "data = next(iter(data_for_test_GMP_layer))\n",
        "out_GCN_layer = conv_test(data.x, data.edge_index)\n",
        "\n",
        "\n",
        "#### TO DO #####\n",
        "out_GMP_layer = global_mean_pool(out_GCN_layer, data.batch)\n",
        "\n",
        "print(out_GMP_layer)\n",
        "print(\"shape of output_GMP_layer \", out_GMP_layer.size() )\n",
        "\n"
      ]
    },
    {
      "cell_type": "markdown",
      "metadata": {
        "id": "gVYBeplH7QEu"
      },
      "source": [
        "# EX 8: Building a graph network for graph classification task with Pytorch geometric\n",
        "\n",
        "\n",
        "In this exercise, we will create a network to classify if a molecule is active. This network consists of 4 layers:\n",
        "\n",
        "1. A graph convolution network layer conv1\n",
        "\n",
        "2. Another GCN layer conv2\n",
        "\n",
        "3. Another GCN layer conv3\n",
        "\n",
        "4. A torch_geometric.nn.global_mean_pool layer\n",
        "\n",
        "5. A linear layer\n",
        "\n",
        "Relu activation function is used after the two first layers.\n",
        "\n",
        "Complete the lines below (after #TODO) to finish the definition of this network.\n"
      ]
    },
    {
      "cell_type": "code",
      "execution_count": 195,
      "metadata": {
        "id": "wkU-LtEm43SI"
      },
      "outputs": [],
      "source": [
        "from torch_geometric.nn import GCNConv\n",
        "from torch_geometric.nn import global_mean_pool\n",
        "\n",
        "import torch\n",
        "import torch.nn.functional as F\n",
        "from torch.nn import Linear\n",
        "\n",
        "#### TODO\n",
        "n_features = 9\n",
        "\n",
        "\n",
        "\n",
        "class Net(torch.nn.Module):\n",
        "    def __init__(self):\n",
        "        super(Net, self).__init__()\n",
        "        torch.manual_seed(12)\n",
        "        self.conv1 = GCNConv(n_features, 8)\n",
        "        self.conv2 = GCNConv(8, 16)\n",
        "        self.conv3 = GCNConv(16, 32)\n",
        "\n",
        "        # TO DO\n",
        "        self.linear = Linear(32, 1)\n",
        "\n",
        "\n",
        "    def forward(self, x, edge_index, batch):\n",
        "\n",
        "\n",
        "        # 1. Obtain node embeddings\n",
        "        # First GCN layer\n",
        "        x = self.conv1(x, edge_index)\n",
        "        x = F.relu(x)\n",
        "\n",
        "        ## TODO\n",
        "        # Second GCN layer\n",
        "        x =  self.conv2(x, edge_index)\n",
        "        x =  F.relu(x)\n",
        "\n",
        "\n",
        "        # Third GCN layer\n",
        "        x = self.conv3(x, edge_index)\n",
        "\n",
        "\n",
        "        ### TODO#####\n",
        "        #2. REadout layer\n",
        "        x = global_mean_pool(x, batch)\n",
        "\n",
        "\n",
        "        # 3. Linear Layer\n",
        "        ## TO DO\n",
        "        x = self.linear(x)\n",
        "\n",
        "        return x\n"
      ]
    },
    {
      "cell_type": "markdown",
      "metadata": {
        "id": "PucPIEd5UTWn"
      },
      "source": [
        "# Ex 9: Create network\n",
        "\n",
        "\n",
        "1. Create the network then print out the model and look at it's text representation\n",
        "\n",
        "2. Define an optimizer. You should use the torch.optim.Adam class.\n",
        "\n",
        "3. Define a loss function. You should use the CrossEntropyLoss class.\n",
        "\n"
      ]
    },
    {
      "cell_type": "code",
      "execution_count": 210,
      "metadata": {
        "id": "ll1q9TLdUagf",
        "colab": {
          "base_uri": "https://localhost:8080/"
        },
        "outputId": "d2fecb48-7c54-4318-b001-c7b0153e76ca"
      },
      "outputs": [
        {
          "output_type": "stream",
          "name": "stdout",
          "text": [
            "Net(\n",
            "  (conv1): GCNConv(9, 8)\n",
            "  (conv2): GCNConv(8, 16)\n",
            "  (conv3): GCNConv(16, 32)\n",
            "  (linear): Linear(in_features=32, out_features=1, bias=True)\n",
            ")\n"
          ]
        }
      ],
      "source": [
        "model = Net()\n",
        "optimizer = torch.optim.Adam(model.parameters(), lr=0.001)\n",
        "loss_func = torch.nn.BCEWithLogitsLoss()\n",
        "print(model)"
      ]
    },
    {
      "cell_type": "markdown",
      "metadata": {
        "id": "ZhsGNksI7zVa"
      },
      "source": [
        "# Ex 10: Train model for an epoch\n",
        "\n",
        "Write a function named **train()** that allows us to train a model for an epoch.\n",
        "\n",
        "The tasks that the function should execute:\n",
        "\n",
        "\n",
        "0. Iterate in batches over the train_loader\n",
        "\n",
        "1. Perform a single forward pass\n",
        "\n",
        "2. Compute the loss\n",
        "\n",
        "3. Derive the gradient\n",
        "\n",
        "4. Update parameters\n",
        "\n",
        "5. Clearn gradients\n",
        "\n",
        "\n",
        "\n",
        "Complete the lines (with ?????) below to finish the function."
      ]
    },
    {
      "cell_type": "code",
      "execution_count": 208,
      "metadata": {
        "id": "xpjXAr8T7qFd"
      },
      "outputs": [],
      "source": [
        "def train():\n",
        "    model.train()\n",
        "\n",
        "    total_loss = 0\n",
        "    for data in train_loader:\n",
        "        # TODO ( )\n",
        "        #1.Forward pass\n",
        "         out = model(data.x, data.edge_index, data.batch).squeeze()\n",
        "         # 2. Compute the loss\n",
        "         loss = loss_func(out, data.y.float())\n",
        "         total_loss += loss\n",
        "         # 3. Calculate the gradient\n",
        "         loss.backward()\n",
        "         #4. Update the parameters (weights)\n",
        "         optimizer.step()\n",
        "         #5. Clean gradients\n",
        "         optimizer.zero_grad()\n",
        "    return total_loss / len(train_loader)\n"
      ]
    },
    {
      "cell_type": "markdown",
      "metadata": {
        "id": "9k4VvLPX8sCA"
      },
      "source": [
        "# Ex 11: Test\n",
        "\n",
        "Similar to Ex9, write a function named **tes(loader)** that allows to compute the accuracy of the model on dataset \"loader\".\n",
        "\n",
        "The steps to calculate the accuracy of a classification model:\n",
        "\n",
        "1. Iterate in batches over the train_loader.\n",
        "\n",
        "2. Compute the output of the model\n",
        "\n",
        "3. Find the class with highest probability\n",
        "\n",
        "4. Count ground-truth labels\n",
        "\n",
        "5. Compute the accuracy\n",
        "\n",
        "\n",
        "Complete the lines (with ?????)  to finish the definition of this network."
      ]
    },
    {
      "cell_type": "code",
      "execution_count": 211,
      "metadata": {
        "id": "Hqf4QsUg8VUE"
      },
      "outputs": [],
      "source": [
        "def test(loader):\n",
        "     model.eval()\n",
        "\n",
        "     correct = 0\n",
        "     for data in loader:\n",
        "         ########### TODO ####\n",
        "         # output of the model\n",
        "         out = model(data.x, data.edge_index, data.batch).squeeze()\n",
        "         # Use the class with highest probability\n",
        "         pred = (torch.sigmoid(out) > 0.5).long().squeeze()\n",
        "\n",
        "         # Check against ground-truth labels\n",
        "         correct += int((pred == data.y).sum())\n",
        "     return correct / len(loader.dataset)\n",
        "\n"
      ]
    },
    {
      "cell_type": "markdown",
      "metadata": {
        "id": "-4gcODV_8vTs"
      },
      "source": [
        "# Ex 12: Training model\n",
        "\n",
        "Training model for 100 epoches.\n",
        "\n",
        "Calculate training accuracy for train_loader and test_loader by using the **train()** function and the **test(loader)** function\n"
      ]
    },
    {
      "cell_type": "code",
      "execution_count": 213,
      "metadata": {
        "id": "Si4ay8qM8Zl5",
        "colab": {
          "base_uri": "https://localhost:8080/"
        },
        "outputId": "81bbcf0d-9e16-41c1-c899-891783c0c3da"
      },
      "outputs": [
        {
          "output_type": "stream",
          "name": "stdout",
          "text": [
            "Epoch 1/100 - Loss: 0.3407 - Train Accuracy: 0.8400 - Test Accuracy: 0.7848\n",
            "Epoch 2/100 - Loss: 0.3359 - Train Accuracy: 0.8433 - Test Accuracy: 0.7975\n",
            "Epoch 3/100 - Loss: 0.3347 - Train Accuracy: 0.8533 - Test Accuracy: 0.7975\n",
            "Epoch 4/100 - Loss: 0.3321 - Train Accuracy: 0.8400 - Test Accuracy: 0.7975\n",
            "Epoch 5/100 - Loss: 0.3329 - Train Accuracy: 0.8533 - Test Accuracy: 0.7975\n",
            "Epoch 6/100 - Loss: 0.3405 - Train Accuracy: 0.8533 - Test Accuracy: 0.8101\n",
            "Epoch 7/100 - Loss: 0.3287 - Train Accuracy: 0.8500 - Test Accuracy: 0.7975\n",
            "Epoch 8/100 - Loss: 0.3341 - Train Accuracy: 0.8733 - Test Accuracy: 0.8354\n",
            "Epoch 9/100 - Loss: 0.3395 - Train Accuracy: 0.8700 - Test Accuracy: 0.8608\n",
            "Epoch 10/100 - Loss: 0.3281 - Train Accuracy: 0.8333 - Test Accuracy: 0.7722\n",
            "Epoch 11/100 - Loss: 0.3334 - Train Accuracy: 0.8733 - Test Accuracy: 0.8734\n",
            "Epoch 12/100 - Loss: 0.3371 - Train Accuracy: 0.8567 - Test Accuracy: 0.8101\n",
            "Epoch 13/100 - Loss: 0.3129 - Train Accuracy: 0.8567 - Test Accuracy: 0.8101\n",
            "Epoch 14/100 - Loss: 0.3140 - Train Accuracy: 0.8567 - Test Accuracy: 0.8101\n",
            "Epoch 15/100 - Loss: 0.3260 - Train Accuracy: 0.8633 - Test Accuracy: 0.8354\n",
            "Epoch 16/100 - Loss: 0.3276 - Train Accuracy: 0.8767 - Test Accuracy: 0.8734\n",
            "Epoch 17/100 - Loss: 0.3123 - Train Accuracy: 0.8567 - Test Accuracy: 0.7975\n",
            "Epoch 18/100 - Loss: 0.3102 - Train Accuracy: 0.8567 - Test Accuracy: 0.7975\n",
            "Epoch 19/100 - Loss: 0.3201 - Train Accuracy: 0.8700 - Test Accuracy: 0.8734\n",
            "Epoch 20/100 - Loss: 0.3180 - Train Accuracy: 0.8567 - Test Accuracy: 0.7975\n",
            "Epoch 21/100 - Loss: 0.3149 - Train Accuracy: 0.8700 - Test Accuracy: 0.8354\n",
            "Epoch 22/100 - Loss: 0.3212 - Train Accuracy: 0.8733 - Test Accuracy: 0.8608\n",
            "Epoch 23/100 - Loss: 0.3085 - Train Accuracy: 0.8767 - Test Accuracy: 0.8608\n",
            "Epoch 24/100 - Loss: 0.3225 - Train Accuracy: 0.8633 - Test Accuracy: 0.7975\n",
            "Epoch 25/100 - Loss: 0.3213 - Train Accuracy: 0.8767 - Test Accuracy: 0.8734\n",
            "Epoch 26/100 - Loss: 0.3136 - Train Accuracy: 0.8733 - Test Accuracy: 0.8354\n",
            "Epoch 27/100 - Loss: 0.3063 - Train Accuracy: 0.8700 - Test Accuracy: 0.8354\n",
            "Epoch 28/100 - Loss: 0.3115 - Train Accuracy: 0.8767 - Test Accuracy: 0.8608\n",
            "Epoch 29/100 - Loss: 0.3083 - Train Accuracy: 0.8700 - Test Accuracy: 0.8354\n",
            "Epoch 30/100 - Loss: 0.3041 - Train Accuracy: 0.8800 - Test Accuracy: 0.8734\n",
            "Epoch 31/100 - Loss: 0.3106 - Train Accuracy: 0.8633 - Test Accuracy: 0.8354\n",
            "Epoch 32/100 - Loss: 0.3110 - Train Accuracy: 0.8700 - Test Accuracy: 0.8734\n",
            "Epoch 33/100 - Loss: 0.3195 - Train Accuracy: 0.8733 - Test Accuracy: 0.8354\n",
            "Epoch 34/100 - Loss: 0.3000 - Train Accuracy: 0.8767 - Test Accuracy: 0.8734\n",
            "Epoch 35/100 - Loss: 0.3058 - Train Accuracy: 0.8800 - Test Accuracy: 0.8481\n",
            "Epoch 36/100 - Loss: 0.3065 - Train Accuracy: 0.8800 - Test Accuracy: 0.8608\n",
            "Epoch 37/100 - Loss: 0.3203 - Train Accuracy: 0.8700 - Test Accuracy: 0.8101\n",
            "Epoch 38/100 - Loss: 0.3236 - Train Accuracy: 0.8767 - Test Accuracy: 0.8987\n",
            "Epoch 39/100 - Loss: 0.3260 - Train Accuracy: 0.8600 - Test Accuracy: 0.7975\n",
            "Epoch 40/100 - Loss: 0.3133 - Train Accuracy: 0.8833 - Test Accuracy: 0.8734\n",
            "Epoch 41/100 - Loss: 0.3064 - Train Accuracy: 0.8767 - Test Accuracy: 0.8734\n",
            "Epoch 42/100 - Loss: 0.3058 - Train Accuracy: 0.8767 - Test Accuracy: 0.8481\n",
            "Epoch 43/100 - Loss: 0.3048 - Train Accuracy: 0.8733 - Test Accuracy: 0.8734\n",
            "Epoch 44/100 - Loss: 0.3066 - Train Accuracy: 0.8800 - Test Accuracy: 0.8354\n",
            "Epoch 45/100 - Loss: 0.3004 - Train Accuracy: 0.8800 - Test Accuracy: 0.8734\n",
            "Epoch 46/100 - Loss: 0.3084 - Train Accuracy: 0.8800 - Test Accuracy: 0.8734\n",
            "Epoch 47/100 - Loss: 0.2967 - Train Accuracy: 0.8833 - Test Accuracy: 0.8481\n",
            "Epoch 48/100 - Loss: 0.2984 - Train Accuracy: 0.8800 - Test Accuracy: 0.8734\n",
            "Epoch 49/100 - Loss: 0.2948 - Train Accuracy: 0.8767 - Test Accuracy: 0.8481\n",
            "Epoch 50/100 - Loss: 0.2999 - Train Accuracy: 0.8767 - Test Accuracy: 0.8734\n",
            "Epoch 51/100 - Loss: 0.3087 - Train Accuracy: 0.8767 - Test Accuracy: 0.8734\n",
            "Epoch 52/100 - Loss: 0.3040 - Train Accuracy: 0.8833 - Test Accuracy: 0.8481\n",
            "Epoch 53/100 - Loss: 0.3131 - Train Accuracy: 0.8667 - Test Accuracy: 0.8228\n",
            "Epoch 54/100 - Loss: 0.3001 - Train Accuracy: 0.8767 - Test Accuracy: 0.8861\n",
            "Epoch 55/100 - Loss: 0.3158 - Train Accuracy: 0.8767 - Test Accuracy: 0.8608\n",
            "Epoch 56/100 - Loss: 0.3005 - Train Accuracy: 0.8733 - Test Accuracy: 0.8228\n",
            "Epoch 57/100 - Loss: 0.2987 - Train Accuracy: 0.8833 - Test Accuracy: 0.8734\n",
            "Epoch 58/100 - Loss: 0.2899 - Train Accuracy: 0.8767 - Test Accuracy: 0.8734\n",
            "Epoch 59/100 - Loss: 0.3005 - Train Accuracy: 0.8833 - Test Accuracy: 0.8354\n",
            "Epoch 60/100 - Loss: 0.2990 - Train Accuracy: 0.8833 - Test Accuracy: 0.8734\n",
            "Epoch 61/100 - Loss: 0.2934 - Train Accuracy: 0.8833 - Test Accuracy: 0.8481\n",
            "Epoch 62/100 - Loss: 0.3015 - Train Accuracy: 0.8833 - Test Accuracy: 0.8734\n",
            "Epoch 63/100 - Loss: 0.2985 - Train Accuracy: 0.8800 - Test Accuracy: 0.8734\n",
            "Epoch 64/100 - Loss: 0.2998 - Train Accuracy: 0.8867 - Test Accuracy: 0.8734\n",
            "Epoch 65/100 - Loss: 0.2934 - Train Accuracy: 0.8767 - Test Accuracy: 0.8734\n",
            "Epoch 66/100 - Loss: 0.2981 - Train Accuracy: 0.8867 - Test Accuracy: 0.8608\n",
            "Epoch 67/100 - Loss: 0.2920 - Train Accuracy: 0.8833 - Test Accuracy: 0.8734\n",
            "Epoch 68/100 - Loss: 0.2855 - Train Accuracy: 0.8833 - Test Accuracy: 0.8354\n",
            "Epoch 69/100 - Loss: 0.3099 - Train Accuracy: 0.8767 - Test Accuracy: 0.8734\n",
            "Epoch 70/100 - Loss: 0.2978 - Train Accuracy: 0.8800 - Test Accuracy: 0.8734\n",
            "Epoch 71/100 - Loss: 0.2874 - Train Accuracy: 0.8867 - Test Accuracy: 0.8481\n",
            "Epoch 72/100 - Loss: 0.2994 - Train Accuracy: 0.8833 - Test Accuracy: 0.8734\n",
            "Epoch 73/100 - Loss: 0.2908 - Train Accuracy: 0.8767 - Test Accuracy: 0.8734\n",
            "Epoch 74/100 - Loss: 0.3033 - Train Accuracy: 0.8867 - Test Accuracy: 0.8481\n",
            "Epoch 75/100 - Loss: 0.2899 - Train Accuracy: 0.8900 - Test Accuracy: 0.8861\n",
            "Epoch 76/100 - Loss: 0.2905 - Train Accuracy: 0.8900 - Test Accuracy: 0.8481\n",
            "Epoch 77/100 - Loss: 0.2926 - Train Accuracy: 0.8900 - Test Accuracy: 0.8481\n",
            "Epoch 78/100 - Loss: 0.2868 - Train Accuracy: 0.8767 - Test Accuracy: 0.8734\n",
            "Epoch 79/100 - Loss: 0.2859 - Train Accuracy: 0.8767 - Test Accuracy: 0.8734\n",
            "Epoch 80/100 - Loss: 0.2813 - Train Accuracy: 0.8933 - Test Accuracy: 0.8481\n",
            "Epoch 81/100 - Loss: 0.2866 - Train Accuracy: 0.8833 - Test Accuracy: 0.8734\n",
            "Epoch 82/100 - Loss: 0.3018 - Train Accuracy: 0.8800 - Test Accuracy: 0.8734\n",
            "Epoch 83/100 - Loss: 0.2925 - Train Accuracy: 0.8900 - Test Accuracy: 0.8608\n",
            "Epoch 84/100 - Loss: 0.2891 - Train Accuracy: 0.8833 - Test Accuracy: 0.8734\n",
            "Epoch 85/100 - Loss: 0.2994 - Train Accuracy: 0.8833 - Test Accuracy: 0.8734\n",
            "Epoch 86/100 - Loss: 0.2924 - Train Accuracy: 0.8933 - Test Accuracy: 0.8481\n",
            "Epoch 87/100 - Loss: 0.2879 - Train Accuracy: 0.8833 - Test Accuracy: 0.8734\n",
            "Epoch 88/100 - Loss: 0.2838 - Train Accuracy: 0.8833 - Test Accuracy: 0.8734\n",
            "Epoch 89/100 - Loss: 0.2889 - Train Accuracy: 0.8933 - Test Accuracy: 0.8481\n",
            "Epoch 90/100 - Loss: 0.2924 - Train Accuracy: 0.8867 - Test Accuracy: 0.8734\n",
            "Epoch 91/100 - Loss: 0.3051 - Train Accuracy: 0.8900 - Test Accuracy: 0.8734\n",
            "Epoch 92/100 - Loss: 0.2872 - Train Accuracy: 0.8933 - Test Accuracy: 0.8734\n",
            "Epoch 93/100 - Loss: 0.2837 - Train Accuracy: 0.8867 - Test Accuracy: 0.8608\n",
            "Epoch 94/100 - Loss: 0.2916 - Train Accuracy: 0.8933 - Test Accuracy: 0.8481\n",
            "Epoch 95/100 - Loss: 0.2879 - Train Accuracy: 0.8867 - Test Accuracy: 0.8734\n",
            "Epoch 96/100 - Loss: 0.2870 - Train Accuracy: 0.8833 - Test Accuracy: 0.8734\n",
            "Epoch 97/100 - Loss: 0.2861 - Train Accuracy: 0.8933 - Test Accuracy: 0.8481\n",
            "Epoch 98/100 - Loss: 0.2772 - Train Accuracy: 0.8933 - Test Accuracy: 0.8734\n",
            "Epoch 99/100 - Loss: 0.2833 - Train Accuracy: 0.8867 - Test Accuracy: 0.8734\n",
            "Epoch 100/100 - Loss: 0.2938 - Train Accuracy: 0.8833 - Test Accuracy: 0.8734\n"
          ]
        }
      ],
      "source": [
        "nb_epochs = 100\n",
        "\n",
        "train_acc = []\n",
        "test_acc = []\n",
        "\n",
        "for ep in range(nb_epochs):\n",
        "  train_loss = train()\n",
        "\n",
        "  tr = test(train_loader)\n",
        "  te = test(test_loader)\n",
        "\n",
        "  train_acc.append(tr)\n",
        "  test_acc.append(te)\n",
        "\n",
        "  print(f\"Epoch {ep+1}/{nb_epochs} - Loss: {train_loss:.4f} - Train Accuracy: {tr:.4f} - Test Accuracy: {te:.4f}\")"
      ]
    }
  ],
  "metadata": {
    "colab": {
      "provenance": []
    },
    "kernelspec": {
      "display_name": "Python 3 (ipykernel)",
      "language": "python",
      "name": "python3"
    },
    "language_info": {
      "codemirror_mode": {
        "name": "ipython",
        "version": 3
      },
      "file_extension": ".py",
      "mimetype": "text/x-python",
      "name": "python",
      "nbconvert_exporter": "python",
      "pygments_lexer": "ipython3",
      "version": "3.9.9"
    }
  },
  "nbformat": 4,
  "nbformat_minor": 0
}