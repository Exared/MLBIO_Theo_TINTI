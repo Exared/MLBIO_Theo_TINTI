{
  "cells": [
    {
      "cell_type": "markdown",
      "metadata": {
        "id": "7YhDx0Tsyyhd"
      },
      "source": [
        "# RNN Based molucule generation\n",
        "\n",
        "Laurent Cetinsoy\n",
        "\n",
        "In this hands-on we want to generate molecule formulas for denovo-drug discovery.\n",
        "\n",
        "For that we need to use Generative models. Generative models are models which goes beyond classification or simple regression : they are able to generate data that look like previously seens dataset.\n",
        "\n",
        "There exists a lot of models :\n",
        "\n",
        "- Bayesian models like graphical models\n",
        "- Recurrent models (for sequence generation like texte)\n",
        "- Variational auto encoders\n",
        "- Generative adversarial models\n",
        "- Flow and diffusion models\n",
        "\n",
        "\n",
        "In the hands-on we will start by  trainning a character based RNN to generate smile molecules\n",
        "\n",
        "\n",
        "We want to feed smile representations of molecules to an RNN.\n",
        "The basic idea is we will train it to predict the next smile token of a molecule given the previous one.\n",
        "\n",
        "For instance for the following molecule \"CC(=O)NC1=CC=C(O)C=C1\" will may give to the model\n",
        "\n",
        "X = \"CC(=O)N\"\n",
        "y = C\n",
        "\n",
        "and ask the RNN to learn to predict y given X\n",
        "\n",
        "Like a standard language model !\n"
      ]
    },
    {
      "cell_type": "markdown",
      "metadata": {
        "id": "c-Que9IFyyhk"
      },
      "source": [
        "## RNN Language model\n",
        "\n",
        "\n",
        "A language model is a model which predict the next token of a sequence given the previous ones :\n",
        "\n",
        "$ P(X_t | X_{t-1}, X_{t-2}, ..., X_{t-p})  $\n",
        "\n",
        "\n",
        "This model can be learned with a Recurrent neural network\n",
        "\n",
        "$ y = P(X_t | X_{t-1}, X_{t-2}, ..., X_{t-p}) = RNN_{\\theta} (X_{t-1}, X_{t-2}, ..., X_{t-p})  $\n",
        "\n",
        "\n",
        "In order to train such model you need a corpus of data.\n",
        "\n",
        "\n",
        "\n",
        "There are two main ways to do that : Word level model or character level model\n",
        "\n",
        "For character level models, an interesting resource is : http://karpathy.github.io/2015/05/21/rnn-effectiveness/\n",
        "\n"
      ]
    },
    {
      "cell_type": "markdown",
      "metadata": {
        "id": "ZaSGBHWXyyhm"
      },
      "source": [
        "Explain briefly what is the difference between word based language model and character based language model"
      ]
    },
    {
      "cell_type": "markdown",
      "metadata": {
        "id": "7c3FB6X4yyhn"
      },
      "source": []
    },
    {
      "cell_type": "markdown",
      "metadata": {
        "id": "WU_SbWlJyyhn"
      },
      "source": [
        "## Loading the data"
      ]
    },
    {
      "cell_type": "markdown",
      "metadata": {
        "id": "9CAnQcj3yyho"
      },
      "source": [
        "Dowload the following dataset : https://github.com/joeymach/Leveraging-VAE-to-generate-molecules"
      ]
    },
    {
      "cell_type": "markdown",
      "metadata": {
        "id": "nyvW9PMyyyhr"
      },
      "source": [
        "Import pandas and load the first 1000 lines"
      ]
    },
    {
      "cell_type": "code",
      "execution_count": 2,
      "metadata": {
        "id": "p2FuRl15yyhr"
      },
      "outputs": [],
      "source": [
        "import pandas as pd\n",
        "\n",
        "smiles_csv = pd.read_csv(\"250k_smiles.csv\", nrows=1000)"
      ]
    },
    {
      "cell_type": "markdown",
      "metadata": {
        "id": "gO3XWPQMyyhs"
      },
      "source": [
        "Display the first rows of the dataframe"
      ]
    },
    {
      "cell_type": "code",
      "execution_count": 3,
      "metadata": {
        "id": "zjQ6_NK3yyht",
        "colab": {
          "base_uri": "https://localhost:8080/",
          "height": 206
        },
        "outputId": "95a8dbcc-b403-41f3-9b34-518bbcdfa43d"
      },
      "outputs": [
        {
          "output_type": "execute_result",
          "data": {
            "text/plain": [
              "                                              smiles     logP       qed  \\\n",
              "0          CC(C)(C)c1ccc2occ(CC(=O)Nc3ccccc3F)c2c1\\n  5.05060  0.702012   \n",
              "1     C[C@@H]1CC(Nc2cncc(-c3nncn3C)c2)C[C@@H](C)C1\\n  3.11370  0.928975   \n",
              "2  N#Cc1ccc(-c2ccc(O[C@@H](C(=O)N3CCCC3)c3ccccc3)...  4.96778  0.599682   \n",
              "3  CCOC(=O)[C@@H]1CCCN(C(=O)c2nc(-c3ccc(C)cc3)n3c...  4.00022  0.690944   \n",
              "4  N#CC1=C(SCC(=O)Nc2cccc(Cl)c2)N=C([O-])[C@H](C#...  3.60956  0.789027   \n",
              "\n",
              "        SAS  \n",
              "0  2.084095  \n",
              "1  3.432004  \n",
              "2  2.470633  \n",
              "3  2.822753  \n",
              "4  4.035182  "
            ],
            "text/html": [
              "\n",
              "  <div id=\"df-fe2d12f4-defb-496b-8cd1-ef5f5f5d28e7\" class=\"colab-df-container\">\n",
              "    <div>\n",
              "<style scoped>\n",
              "    .dataframe tbody tr th:only-of-type {\n",
              "        vertical-align: middle;\n",
              "    }\n",
              "\n",
              "    .dataframe tbody tr th {\n",
              "        vertical-align: top;\n",
              "    }\n",
              "\n",
              "    .dataframe thead th {\n",
              "        text-align: right;\n",
              "    }\n",
              "</style>\n",
              "<table border=\"1\" class=\"dataframe\">\n",
              "  <thead>\n",
              "    <tr style=\"text-align: right;\">\n",
              "      <th></th>\n",
              "      <th>smiles</th>\n",
              "      <th>logP</th>\n",
              "      <th>qed</th>\n",
              "      <th>SAS</th>\n",
              "    </tr>\n",
              "  </thead>\n",
              "  <tbody>\n",
              "    <tr>\n",
              "      <th>0</th>\n",
              "      <td>CC(C)(C)c1ccc2occ(CC(=O)Nc3ccccc3F)c2c1\\n</td>\n",
              "      <td>5.05060</td>\n",
              "      <td>0.702012</td>\n",
              "      <td>2.084095</td>\n",
              "    </tr>\n",
              "    <tr>\n",
              "      <th>1</th>\n",
              "      <td>C[C@@H]1CC(Nc2cncc(-c3nncn3C)c2)C[C@@H](C)C1\\n</td>\n",
              "      <td>3.11370</td>\n",
              "      <td>0.928975</td>\n",
              "      <td>3.432004</td>\n",
              "    </tr>\n",
              "    <tr>\n",
              "      <th>2</th>\n",
              "      <td>N#Cc1ccc(-c2ccc(O[C@@H](C(=O)N3CCCC3)c3ccccc3)...</td>\n",
              "      <td>4.96778</td>\n",
              "      <td>0.599682</td>\n",
              "      <td>2.470633</td>\n",
              "    </tr>\n",
              "    <tr>\n",
              "      <th>3</th>\n",
              "      <td>CCOC(=O)[C@@H]1CCCN(C(=O)c2nc(-c3ccc(C)cc3)n3c...</td>\n",
              "      <td>4.00022</td>\n",
              "      <td>0.690944</td>\n",
              "      <td>2.822753</td>\n",
              "    </tr>\n",
              "    <tr>\n",
              "      <th>4</th>\n",
              "      <td>N#CC1=C(SCC(=O)Nc2cccc(Cl)c2)N=C([O-])[C@H](C#...</td>\n",
              "      <td>3.60956</td>\n",
              "      <td>0.789027</td>\n",
              "      <td>4.035182</td>\n",
              "    </tr>\n",
              "  </tbody>\n",
              "</table>\n",
              "</div>\n",
              "    <div class=\"colab-df-buttons\">\n",
              "\n",
              "  <div class=\"colab-df-container\">\n",
              "    <button class=\"colab-df-convert\" onclick=\"convertToInteractive('df-fe2d12f4-defb-496b-8cd1-ef5f5f5d28e7')\"\n",
              "            title=\"Convert this dataframe to an interactive table.\"\n",
              "            style=\"display:none;\">\n",
              "\n",
              "  <svg xmlns=\"http://www.w3.org/2000/svg\" height=\"24px\" viewBox=\"0 -960 960 960\">\n",
              "    <path d=\"M120-120v-720h720v720H120Zm60-500h600v-160H180v160Zm220 220h160v-160H400v160Zm0 220h160v-160H400v160ZM180-400h160v-160H180v160Zm440 0h160v-160H620v160ZM180-180h160v-160H180v160Zm440 0h160v-160H620v160Z\"/>\n",
              "  </svg>\n",
              "    </button>\n",
              "\n",
              "  <style>\n",
              "    .colab-df-container {\n",
              "      display:flex;\n",
              "      gap: 12px;\n",
              "    }\n",
              "\n",
              "    .colab-df-convert {\n",
              "      background-color: #E8F0FE;\n",
              "      border: none;\n",
              "      border-radius: 50%;\n",
              "      cursor: pointer;\n",
              "      display: none;\n",
              "      fill: #1967D2;\n",
              "      height: 32px;\n",
              "      padding: 0 0 0 0;\n",
              "      width: 32px;\n",
              "    }\n",
              "\n",
              "    .colab-df-convert:hover {\n",
              "      background-color: #E2EBFA;\n",
              "      box-shadow: 0px 1px 2px rgba(60, 64, 67, 0.3), 0px 1px 3px 1px rgba(60, 64, 67, 0.15);\n",
              "      fill: #174EA6;\n",
              "    }\n",
              "\n",
              "    .colab-df-buttons div {\n",
              "      margin-bottom: 4px;\n",
              "    }\n",
              "\n",
              "    [theme=dark] .colab-df-convert {\n",
              "      background-color: #3B4455;\n",
              "      fill: #D2E3FC;\n",
              "    }\n",
              "\n",
              "    [theme=dark] .colab-df-convert:hover {\n",
              "      background-color: #434B5C;\n",
              "      box-shadow: 0px 1px 3px 1px rgba(0, 0, 0, 0.15);\n",
              "      filter: drop-shadow(0px 1px 2px rgba(0, 0, 0, 0.3));\n",
              "      fill: #FFFFFF;\n",
              "    }\n",
              "  </style>\n",
              "\n",
              "    <script>\n",
              "      const buttonEl =\n",
              "        document.querySelector('#df-fe2d12f4-defb-496b-8cd1-ef5f5f5d28e7 button.colab-df-convert');\n",
              "      buttonEl.style.display =\n",
              "        google.colab.kernel.accessAllowed ? 'block' : 'none';\n",
              "\n",
              "      async function convertToInteractive(key) {\n",
              "        const element = document.querySelector('#df-fe2d12f4-defb-496b-8cd1-ef5f5f5d28e7');\n",
              "        const dataTable =\n",
              "          await google.colab.kernel.invokeFunction('convertToInteractive',\n",
              "                                                    [key], {});\n",
              "        if (!dataTable) return;\n",
              "\n",
              "        const docLinkHtml = 'Like what you see? Visit the ' +\n",
              "          '<a target=\"_blank\" href=https://colab.research.google.com/notebooks/data_table.ipynb>data table notebook</a>'\n",
              "          + ' to learn more about interactive tables.';\n",
              "        element.innerHTML = '';\n",
              "        dataTable['output_type'] = 'display_data';\n",
              "        await google.colab.output.renderOutput(dataTable, element);\n",
              "        const docLink = document.createElement('div');\n",
              "        docLink.innerHTML = docLinkHtml;\n",
              "        element.appendChild(docLink);\n",
              "      }\n",
              "    </script>\n",
              "  </div>\n",
              "\n",
              "\n",
              "<div id=\"df-dad72089-f9aa-4e36-8c73-04eb0329d494\">\n",
              "  <button class=\"colab-df-quickchart\" onclick=\"quickchart('df-dad72089-f9aa-4e36-8c73-04eb0329d494')\"\n",
              "            title=\"Suggest charts.\"\n",
              "            style=\"display:none;\">\n",
              "\n",
              "<svg xmlns=\"http://www.w3.org/2000/svg\" height=\"24px\"viewBox=\"0 0 24 24\"\n",
              "     width=\"24px\">\n",
              "    <g>\n",
              "        <path d=\"M19 3H5c-1.1 0-2 .9-2 2v14c0 1.1.9 2 2 2h14c1.1 0 2-.9 2-2V5c0-1.1-.9-2-2-2zM9 17H7v-7h2v7zm4 0h-2V7h2v10zm4 0h-2v-4h2v4z\"/>\n",
              "    </g>\n",
              "</svg>\n",
              "  </button>\n",
              "\n",
              "<style>\n",
              "  .colab-df-quickchart {\n",
              "      --bg-color: #E8F0FE;\n",
              "      --fill-color: #1967D2;\n",
              "      --hover-bg-color: #E2EBFA;\n",
              "      --hover-fill-color: #174EA6;\n",
              "      --disabled-fill-color: #AAA;\n",
              "      --disabled-bg-color: #DDD;\n",
              "  }\n",
              "\n",
              "  [theme=dark] .colab-df-quickchart {\n",
              "      --bg-color: #3B4455;\n",
              "      --fill-color: #D2E3FC;\n",
              "      --hover-bg-color: #434B5C;\n",
              "      --hover-fill-color: #FFFFFF;\n",
              "      --disabled-bg-color: #3B4455;\n",
              "      --disabled-fill-color: #666;\n",
              "  }\n",
              "\n",
              "  .colab-df-quickchart {\n",
              "    background-color: var(--bg-color);\n",
              "    border: none;\n",
              "    border-radius: 50%;\n",
              "    cursor: pointer;\n",
              "    display: none;\n",
              "    fill: var(--fill-color);\n",
              "    height: 32px;\n",
              "    padding: 0;\n",
              "    width: 32px;\n",
              "  }\n",
              "\n",
              "  .colab-df-quickchart:hover {\n",
              "    background-color: var(--hover-bg-color);\n",
              "    box-shadow: 0 1px 2px rgba(60, 64, 67, 0.3), 0 1px 3px 1px rgba(60, 64, 67, 0.15);\n",
              "    fill: var(--button-hover-fill-color);\n",
              "  }\n",
              "\n",
              "  .colab-df-quickchart-complete:disabled,\n",
              "  .colab-df-quickchart-complete:disabled:hover {\n",
              "    background-color: var(--disabled-bg-color);\n",
              "    fill: var(--disabled-fill-color);\n",
              "    box-shadow: none;\n",
              "  }\n",
              "\n",
              "  .colab-df-spinner {\n",
              "    border: 2px solid var(--fill-color);\n",
              "    border-color: transparent;\n",
              "    border-bottom-color: var(--fill-color);\n",
              "    animation:\n",
              "      spin 1s steps(1) infinite;\n",
              "  }\n",
              "\n",
              "  @keyframes spin {\n",
              "    0% {\n",
              "      border-color: transparent;\n",
              "      border-bottom-color: var(--fill-color);\n",
              "      border-left-color: var(--fill-color);\n",
              "    }\n",
              "    20% {\n",
              "      border-color: transparent;\n",
              "      border-left-color: var(--fill-color);\n",
              "      border-top-color: var(--fill-color);\n",
              "    }\n",
              "    30% {\n",
              "      border-color: transparent;\n",
              "      border-left-color: var(--fill-color);\n",
              "      border-top-color: var(--fill-color);\n",
              "      border-right-color: var(--fill-color);\n",
              "    }\n",
              "    40% {\n",
              "      border-color: transparent;\n",
              "      border-right-color: var(--fill-color);\n",
              "      border-top-color: var(--fill-color);\n",
              "    }\n",
              "    60% {\n",
              "      border-color: transparent;\n",
              "      border-right-color: var(--fill-color);\n",
              "    }\n",
              "    80% {\n",
              "      border-color: transparent;\n",
              "      border-right-color: var(--fill-color);\n",
              "      border-bottom-color: var(--fill-color);\n",
              "    }\n",
              "    90% {\n",
              "      border-color: transparent;\n",
              "      border-bottom-color: var(--fill-color);\n",
              "    }\n",
              "  }\n",
              "</style>\n",
              "\n",
              "  <script>\n",
              "    async function quickchart(key) {\n",
              "      const quickchartButtonEl =\n",
              "        document.querySelector('#' + key + ' button');\n",
              "      quickchartButtonEl.disabled = true;  // To prevent multiple clicks.\n",
              "      quickchartButtonEl.classList.add('colab-df-spinner');\n",
              "      try {\n",
              "        const charts = await google.colab.kernel.invokeFunction(\n",
              "            'suggestCharts', [key], {});\n",
              "      } catch (error) {\n",
              "        console.error('Error during call to suggestCharts:', error);\n",
              "      }\n",
              "      quickchartButtonEl.classList.remove('colab-df-spinner');\n",
              "      quickchartButtonEl.classList.add('colab-df-quickchart-complete');\n",
              "    }\n",
              "    (() => {\n",
              "      let quickchartButtonEl =\n",
              "        document.querySelector('#df-dad72089-f9aa-4e36-8c73-04eb0329d494 button');\n",
              "      quickchartButtonEl.style.display =\n",
              "        google.colab.kernel.accessAllowed ? 'block' : 'none';\n",
              "    })();\n",
              "  </script>\n",
              "</div>\n",
              "    </div>\n",
              "  </div>\n"
            ]
          },
          "metadata": {},
          "execution_count": 3
        }
      ],
      "source": [
        "smiles_csv.head()"
      ]
    },
    {
      "cell_type": "markdown",
      "metadata": {
        "id": "VfyMV4QXyyhu"
      },
      "source": [
        "## Processing the data\n",
        "\n",
        "We need to do the following things :\n",
        "\n",
        "- convert smile tokens to numbers\n",
        "- build  smile token sequences and corresponding labels pairs"
      ]
    },
    {
      "cell_type": "markdown",
      "metadata": {
        "id": "C-wwZXCOyyhu"
      },
      "source": [
        "Compute the biggest smile molecule size"
      ]
    },
    {
      "cell_type": "code",
      "execution_count": 9,
      "metadata": {
        "id": "FMkUcyH3yyhv",
        "colab": {
          "base_uri": "https://localhost:8080/"
        },
        "outputId": "08222028-6e97-44ac-b1b9-f3cb7fc72555"
      },
      "outputs": [
        {
          "output_type": "stream",
          "name": "stdout",
          "text": [
            "The biggest SMILE is: 106\n"
          ]
        }
      ],
      "source": [
        "biggest = smiles_csv['smiles'].str.len().max()\n",
        "\n",
        "print(\"The biggest SMILE is:\", biggest)"
      ]
    },
    {
      "cell_type": "markdown",
      "metadata": {
        "id": "7WrIDz_cyyhv"
      },
      "source": [
        "\n",
        "Code a function **unic_characters(string)** which return the unic characters in a string\n"
      ]
    },
    {
      "cell_type": "code",
      "execution_count": 10,
      "metadata": {
        "id": "alXR3qcHyyhw",
        "colab": {
          "base_uri": "https://localhost:8080/"
        },
        "outputId": "b7a0b613-aec9-4c1b-8199-edbf35a6c9b0"
      },
      "outputs": [
        {
          "output_type": "stream",
          "name": "stdout",
          "text": [
            "['O', '(', '1', '=', 'N', ')', 'C']\n"
          ]
        }
      ],
      "source": [
        "def unic_characters(string):\n",
        "  return list(set(string))\n",
        "\n",
        "print(unic_characters(\"CC(=O)NC1=CC=C(O)C=C1\"))"
      ]
    },
    {
      "cell_type": "markdown",
      "metadata": {
        "id": "4DITuFSeyyhx"
      },
      "source": [
        "Concatenate all smile string of the pandas dataframe and use **unic_characters** to get the unic_characters"
      ]
    },
    {
      "cell_type": "code",
      "execution_count": 11,
      "metadata": {
        "id": "Pweel8bxyyhx",
        "colab": {
          "base_uri": "https://localhost:8080/"
        },
        "outputId": "7f8d983c-2a7c-4825-c771-8e857b498c45"
      },
      "outputs": [
        {
          "output_type": "execute_result",
          "data": {
            "text/plain": [
              "['\\\\',\n",
              " 'r',\n",
              " 'o',\n",
              " '5',\n",
              " 'l',\n",
              " 'N',\n",
              " '7',\n",
              " ')',\n",
              " '2',\n",
              " 'O',\n",
              " '+',\n",
              " '-',\n",
              " '#',\n",
              " ']',\n",
              " 'F',\n",
              " '\\n',\n",
              " '[',\n",
              " '3',\n",
              " '6',\n",
              " '=',\n",
              " 'c',\n",
              " '4',\n",
              " 's',\n",
              " 'I',\n",
              " 'n',\n",
              " '1',\n",
              " '(',\n",
              " 'S',\n",
              " '/',\n",
              " 'B',\n",
              " 'H',\n",
              " '@',\n",
              " 'C']"
            ]
          },
          "metadata": {},
          "execution_count": 11
        }
      ],
      "source": [
        "concat_smiles = ''.join(smiles_csv['smiles'])\n",
        "\n",
        "unic_chars = unic_characters(concat_smiles)\n",
        "\n",
        "unic_chars"
      ]
    },
    {
      "cell_type": "code",
      "source": [
        "print(\"Vocab size :\", len(unic_chars))"
      ],
      "metadata": {
        "colab": {
          "base_uri": "https://localhost:8080/"
        },
        "id": "LgsjanfWLS9L",
        "outputId": "61b90960-5c84-4cf5-ea94-4a10986342e5"
      },
      "execution_count": 12,
      "outputs": [
        {
          "output_type": "stream",
          "name": "stdout",
          "text": [
            "Vocab size : 33\n"
          ]
        }
      ]
    },
    {
      "cell_type": "markdown",
      "metadata": {
        "id": "LXmrYw-nyyhy"
      },
      "source": [
        "Code a function **map_char_to_int(unic_chars)** which returns a dictionnary where each char is assigned an int value.\n",
        "Add a character to specify the end of the molecule (like \"\\n\")\n"
      ]
    },
    {
      "cell_type": "code",
      "execution_count": 13,
      "metadata": {
        "id": "dPvQzt1Oyyhy",
        "colab": {
          "base_uri": "https://localhost:8080/"
        },
        "outputId": "8fd204eb-ef5f-48bf-f374-58b6fc45b5ec"
      },
      "outputs": [
        {
          "output_type": "stream",
          "name": "stdout",
          "text": [
            "{'\\\\': 0, 'r': 1, 'o': 2, '5': 3, 'l': 4, 'N': 5, '7': 6, ')': 7, '2': 8, 'O': 9, '+': 10, '-': 11, '#': 12, ']': 13, 'F': 14, '\\n': 15, '[': 16, '3': 17, '6': 18, '=': 19, 'c': 20, '4': 21, 's': 22, 'I': 23, 'n': 24, '1': 25, '(': 26, 'S': 27, '/': 28, 'B': 29, 'H': 30, '@': 31, 'C': 32}\n"
          ]
        }
      ],
      "source": [
        "def map_char_to_int(unic_chars):\n",
        "\n",
        "    char_to_int = {char: i for i, char in enumerate(unic_chars)}\n",
        "\n",
        "    return char_to_int\n",
        "\n",
        "unic_chars = unic_characters(concat_smiles)\n",
        "char_to_int_map = map_char_to_int(unic_chars)\n",
        "print(char_to_int_map)"
      ]
    },
    {
      "cell_type": "markdown",
      "metadata": {
        "id": "GbrgQmRgyyhz"
      },
      "source": [
        "Code a function map_int_to_char(unic_chars) which returns the reverse mapping.\n",
        "\n",
        "If you want you can merge both functions in a class"
      ]
    },
    {
      "cell_type": "code",
      "execution_count": 14,
      "metadata": {
        "id": "mX3883sYyyh0",
        "colab": {
          "base_uri": "https://localhost:8080/"
        },
        "outputId": "5ccba875-5254-45bd-af77-0a43b55f037d"
      },
      "outputs": [
        {
          "output_type": "stream",
          "name": "stdout",
          "text": [
            "{0: '\\\\', 1: 'r', 2: 'o', 3: '5', 4: 'l', 5: 'N', 6: '7', 7: ')', 8: '2', 9: 'O', 10: '+', 11: '-', 12: '#', 13: ']', 14: 'F', 15: '\\n', 16: '[', 17: '3', 18: '6', 19: '=', 20: 'c', 21: '4', 22: 's', 23: 'I', 24: 'n', 25: '1', 26: '(', 27: 'S', 28: '/', 29: 'B', 30: 'H', 31: '@', 32: 'C'}\n"
          ]
        }
      ],
      "source": [
        "def map_int_to_char(unic_chars):\n",
        "\n",
        "    int_to_char = {i: char for i, char in enumerate(unic_chars)}\n",
        "\n",
        "    return int_to_char\n",
        "\n",
        "unic_chars = unic_characters(concat_smiles)\n",
        "int_to_char_map = map_int_to_char(unic_chars)\n",
        "print(int_to_char_map)"
      ]
    },
    {
      "cell_type": "markdown",
      "metadata": {
        "id": "1etZs7T3yyh1"
      },
      "source": [
        "For each smile molecule add the ending token to it"
      ]
    },
    {
      "cell_type": "markdown",
      "metadata": {
        "id": "QpuIn5z1yyh2"
      },
      "source": [
        "## Building the dataset\n",
        "\n",
        "Now we will create the dataset so that it has the good share for our Keras LSTM model\n",
        "\n",
        "Remember Keras recurrent models expect a 3D array with shapes (n_examples, seq_len, n_features)\n",
        "\n"
      ]
    },
    {
      "cell_type": "markdown",
      "metadata": {
        "id": "ldUup-_Qyyh2"
      },
      "source": [
        "What will be n_features in our case ?"
      ]
    },
    {
      "cell_type": "markdown",
      "metadata": {
        "id": "90SP7KoTyyh3"
      },
      "source": [
        "n_features is the number of possible tokens"
      ]
    },
    {
      "cell_type": "markdown",
      "metadata": {
        "id": "Jwkwafxdyyh4"
      },
      "source": [
        "Code a function **build_X_and_y(string, i_char, seq_lenght)** which takes a string, a **seq_length** number and a position.\n",
        "\n",
        "\n",
        "It should create X by by getting all character between i and i + seq_length\n",
        "and create y by getting the character following the X sequence\n",
        "it returns X and y"
      ]
    },
    {
      "cell_type": "markdown",
      "metadata": {
        "id": "PfRJ_Lpkyyh4"
      },
      "source": [
        "Test your function on the following string \"\" with seq_length = 4 and i = [1, 2, 3]"
      ]
    },
    {
      "cell_type": "code",
      "execution_count": 15,
      "metadata": {
        "id": "ToDrNcT8yyh5",
        "colab": {
          "base_uri": "https://localhost:8080/"
        },
        "outputId": "051c2f1d-db1e-4b76-ac11-5ae868d50903"
      },
      "outputs": [
        {
          "output_type": "stream",
          "name": "stdout",
          "text": [
            "X: CC(=\n",
            "y: O\n",
            "X: C(=O\n",
            "y: )\n",
            "X: (=O)\n",
            "y: N\n",
            "X: =O)N\n",
            "y: C\n",
            "X: O)NC\n",
            "y: 1\n",
            "X: )NC1\n",
            "y: =\n",
            "X: NC1=\n",
            "y: C\n",
            "X: C1=C\n",
            "y: C\n"
          ]
        }
      ],
      "source": [
        "def build_X_and_y(string, i_char, seq_length):\n",
        "    X = string[i_char:i_char + seq_length]\n",
        "\n",
        "    y = string[i_char + seq_length] if i_char + seq_length < len(string) else None\n",
        "\n",
        "    return X, y\n",
        "\n",
        "\n",
        "string_example = \"CC(=O)NC1=CC=C(O)C=C1\\n\"\n",
        "for i in [0,1,2,3,4,5,6,7]:\n",
        "  X, y = build_X_and_y(string_example, i, seq_length=4)\n",
        "  print(\"X:\", X)\n",
        "  print(\"y:\", y)"
      ]
    },
    {
      "cell_type": "markdown",
      "metadata": {
        "id": "y9DdyLSUyyh5"
      },
      "source": [
        "By using build_X_and_y and map_char_to_int build a list nameed X_train and a list named y_train"
      ]
    },
    {
      "cell_type": "code",
      "source": [
        "concat_smiles = ''.join(smiles_csv['smiles'])\n",
        "concat_smiles"
      ],
      "metadata": {
        "colab": {
          "base_uri": "https://localhost:8080/",
          "height": 87
        },
        "id": "zzWSDc7eNQ13",
        "outputId": "da7f579b-1a70-46ef-be8b-1ea1b4d40e74"
      },
      "execution_count": 16,
      "outputs": [
        {
          "output_type": "execute_result",
          "data": {
            "text/plain": [
              "'CC(C)(C)c1ccc2occ(CC(=O)Nc3ccccc3F)c2c1\\nC[C@@H]1CC(Nc2cncc(-c3nncn3C)c2)C[C@@H](C)C1\\nN#Cc1ccc(-c2ccc(O[C@@H](C(=O)N3CCCC3)c3ccccc3)cc2)cc1\\nCCOC(=O)[C@@H]1CCCN(C(=O)c2nc(-c3ccc(C)cc3)n3c2CCCCC3)C1\\nN#CC1=C(SCC(=O)Nc2cccc(Cl)c2)N=C([O-])[C@H](C#N)C12CCCCC2\\nCC[NH+](CC)[C@](C)(CC)[C@H](O)c1cscc1Br\\nCOc1ccc(C(=O)N(C)[C@@H](C)C/C(N)=N/O)cc1O\\nO=C(Nc1nc[nH]n1)c1cccnc1Nc1cccc(F)c1\\nCc1c(/C=N/c2cc(Br)ccn2)c(O)n2c(nc3ccccc32)c1C#N\\nC[C@@H]1CN(C(=O)c2cc(Br)cn2C)CC[C@H]1[NH3+]\\nCCOc1ccc(OCC)c([C@H]2C(C#N)=C(N)N(c3ccccc3C(F)(F)F)C3=C2C(=O)CCC3)c1\\nCc1ccc2nc(S[C@H](C)C(=O)NC3CCC(C)CC3)n(C)c(=O)c2c1\\nO=C(N1CCc2c(F)ccc(F)c2C1)C1(O)Cc2ccccc2C1\\nCc1ccccc1C(=O)N1CCC2(CC1)C[C@H](c1ccccc1)C(=O)N2C\\nCCCc1cc(NC(=O)CN2C(=O)NC3(CCC(C)CC3)C2=O)n(C)n1\\nCC(C)Cc1nc(SCC(=O)NC[C@@H]2CCCO2)c2c(=O)n(C)c(=O)n(C)c2n1\\nCc1ccc(CNC(=O)c2ccccc2NC(=O)[C@@H]2CC(=O)N(c3ccc(C)cc3)C2)cc1\\nCCCCC(=O)NC(=S)Nc1ccccc1C(=O)N1CCOCC1\\nCc1c(NC(=O)CSc2nc3sc4c(c3c(=O)[nH]2)CCCC4)c(=O)n(-c2ccccc2)n1C\\nCC(C)[C@@H](Oc1cccc(Cl)c1)C(=O)N1CCC(n2cccn2)CC1\\nCCN(CC)C(=O)C[C@@H](C)[NH2+][C@H](C)c1cccc(F)c1F\\nCc1nc2c(c(Nc3ncc(C)s3)n1)CCN(C(=O)CCc1ccccc1)C2\\nO=C(NCCNC(=O)N1C[C@H]2CC=CC[C@@H]2C1)c1cccnc1\\nO=c1n(CCO)c2ccccc2n1CCO\\nCOC(=O)Cc1csc(NC(=O)Cc2coc3cc(C)ccc23)n1\\nCc1ccc(N2CC[C@@H](NS(=O)(=O)c3ccccc3C)C2=O)cc1C\\nCC[C@H](C)C[C@@H](C)NC(=O)N1CCN(CC(=O)NC2CC2)CC1\\nCC(=O)Nc1c2n(c3ccccc13)C[C@](C)(C(=O)NC1CCCCC1)N(C1CCCCC1)C2=O\\nN#Cc1ccncc1NC[C@@H]1C[C@@]12CCc1ccccc12\\nCc1cccn2c(=O)c(C(=O)NC[C@H]3CCO[C@@H]3C(C)C)cnc12\\nCNC(=O)c1ccc(/C=C/C(=O)Nc2c(C)cc(C)nc2Cl)cc1\\nCC1=C(CNC(=O)c2cc(-c3ccccc3)nc3c2CNN3C(C)C)CN=N1\\nC[C@@H](NC(=O)COC(=O)/C=C/c1ccc(Cl)cc1)c1ccccc1\\nCCc1ccc(N(Cc2ccc(C)s2)C(=O)c2ccc(=O)n(C)n2)cc1\\nCCOC(=O)c1nnc2ccccc2c1N1CC[C@@H]([NH+](CC)CC)C1\\nCc1ccc(C#N)cc1S(=O)(=O)NCc1ccnc(OC(C)(C)C)c1\\nO=C(O[C@H]1CCOC1)C1(c2ccc(Cl)c(Cl)c2)CCC1\\nCCC[NH2+][C@@H]1COC[C@H]1C(=O)NCc1cscc1C\\nO=C(NCc1nccc2ccccc12)c1ccc[nH]c1=O\\nCC(=O)c1ccc(S(=O)(=O)N2CCCC[C@H]2C)cc1\\nO=[N+]([O-])c1c(Nc2cccc3ncccc23)ncnc1N1CCN(c2cccc(Cl)c2)CC1\\nO=C(CCCO)Nc1ccc(F)cc1F\\nNC(=O)CCOc1ccc(NC(=O)C[C@H]2CCc3ccccc32)cc1\\nCOc1cc(C)ccc1OCC(=O)Nc1nnc(C)s1\\nCC(=O)c1c(O)cccc1COc1ccccc1\\nCCn1cc(S(=O)(=O)N2CCCCC[C@@H]2c2cc(-c3ccc(F)cc3)no2)cn1\\nCOC(=O)[C@](NC(=O)c1cccc(Cl)c1)(Nc1ccc(Br)c[nH+]1)C(F)(F)F\\nCc1[nH]c2ccc(C(=O)Nc3cc(C(C)(C)C)nn3-c3ncccn3)cc2c1C\\nCc1noc(C)c1C[C@H](C)C(=O)N[C@@H](C)C1CCCCC1\\nCCn1cc(C(=O)N[C@H]2CC(=O)N(C)C2)c(C(C)C)n1\\nCOc1cccc(-c2cncc3ccccc23)c1C(=O)N(C(C)C)C(C)C\\nCOc1ccc([C@@H](C)NC(=O)Cc2cccc3ccccc23)cc1\\nO=C1C[C@H](c2nc(-c3cccnc3)no2)CN1c1cccc(Cl)c1\\nC[C@H]1CCCN(c2ccc(C(=O)Nc3ccc(N4CCOCC4)cc3)cc2[N+](=O)[O-])C1\\nC=CCN(C(=O)C/C=C/c1ccc(C)cc1)[C@@H]1CCS(=O)(=O)C1\\nO=C(CSc1nnc(-c2cccc([N+](=O)[O-])c2)o1)Nc1nncs1\\nCN(CCc1ccc(F)cc1)c1cc(Br)cc(F)c1C(N)=O\\nCOc1ccccc1NC(=O)CSc1ccc(-c2ccccc2OC)nn1\\nCc1occc1C(=O)/C(C#N)=C\\\\c1cccc(C(F)(F)F)c1\\nCOc1ccc2c(c1)N(C(=O)CCSc1ccccn1)C[C@@H](C)O2\\nCC[C@@H](NC(=O)[C@H](C)n1cccn1)c1ccc(C)c(F)c1\\nCCC[C@]1(C(=O)N[C@@H]2CONC2=O)CC[NH2+]C1\\nO=C(c1cc2cc([N+](=O)[O-])ccc2oc1=O)N1CCN(Cc2ccccc2)CC1\\nCCn1c(CC2CC[NH2+]CC2)nn(CCO)c1=O\\nC=CCn1c(S[C@H](C)C(=O)N2CCC(C)CC2)nnc1-c1ccc(Cl)cc1\\nCCO[C@H]1C(=O)O[C@H]([C@@H](O)CO)C1=O\\nCc1ccc(-c2nnc(C[NH+](CCO)[C@H]3CCc4ccccc43)o2)cc1\\nCc1cc(-n2c(C)cc(C[NH2+][C@H](C)c3ccc(F)c(F)c3)c2C)no1\\nC[C@@H](NC(=O)Nc1ccn(-c2ncccc2Cl)n1)[C@@H]1CCCO1\\nCOc1cc(S(=O)(=O)N2CCN=C2Cc2ccccc2)ccc1Cl\\nCOc1ccc(OC)c(/C=C2\\\\Oc3cc(OC(=O)c4ccncc4)cc(C)c3C2=O)c1\\nCOc1ccc([C@@H](NC(=O)Nc2cc(C)ccc2Cl)C2CCOCC2)cc1\\nC[C@H](Cc1cccs1)N(C)C[C@@H]1CCCC[C@@H]1[NH3+]\\nC[C@H]([NH3+])c1nc2cc(C(F)(F)F)ccc2n1C\\nCOc1cccc(CN2CCc3nnc(CCc4ccccc4)n3CC2)c1\\nO=C(N[C@H]1CCS(=O)(=O)C1)C1CC[NH2+]CC1\\nCOCC[C@H](C)C(=O)N[C@@H](C)COC\\nCc1cc(N(C)C)ccc1NC(=O)c1ccc(CN2CC[NH+](C)CC2)cc1\\nC[C@H](CNC(=O)[C@H]1CC[NH2+][C@@H]1C)C[NH+]1CCCC1\\nCN(C)c1ccc([C@H](CNC(=O)C(=O)Nc2ccccc2C#N)N2CC[NH+](C)CC2)cc1\\nCCOc1ncnc(S(=O)(=O)CC)c1N\\nCC[C@@H](NC(=O)N(C)Cc1ccc(-c2ccccc2)cc1)c1ccncc1\\nO=C(Nc1ccc(-c2nc3ccccc3o2)cc1)[C@H]1CCCN1S(=O)(=O)c1ccc(F)cc1\\nCC[C@@H](C)CNc1nc2ccc(Cl)cc2s1\\nCc1cc(C)c2nc(N3CCN(C(=O)[C@@H]4CCCCN4S(C)(=O)=O)CC3)sc2c1\\nCCc1nnc(-c2cc3ccccc3n2CC(=O)NC(C)(C)C)o1\\nCCc1ccc(NC(=O)c2nn(-c3ccc(CC)cc3)ccc2=O)cc1\\nCc1ccc(C(=O)N[C@H]2CCC[NH2+][C@H]2C)cc1F\\nC[C@H](OC(=O)c1nc(C2CC2)n2ccccc12)c1cnc2ccccc2c1\\nCCCCOc1ccccc1C[C@@H]([NH3+])C(=O)[O-]\\nCCC[C@@H]1CN(C(=O)C(=O)Nc2ccc(C)nc2Cl)CCO1\\nC[C@H]1C(=O)N(c2ccc3c(c2)CCC3)CCN1C(=O)c1ccc(Cl)c(Cl)c1\\nCOC(=O)C1(NC(=O)[C@H]2C[C@H]2c2c(F)cccc2F)CCSCC1\\nN#CC1(NC(=O)COc2cccc(Cl)c2)CCCC1\\nCOC1CC[NH+](CCNc2nccn(C)c2=O)CC1\\nC=CCN(Cc1cccc([N+](=O)[O-])c1)C(=O)Nc1cc(OC)ccc1Cl\\nCc1cc(Cl)ccc1OCC(=O)N/N=C/c1ccccn1\\nO=C1NC(=S)NC(=O)C1=CNc1ccc([N+](=O)[O-])cc1O\\nCc1c(C(=O)N2CCOCC2)oc2c1-c1nn(CC(=O)NCc3ccco3)cc1CC2\\nCCc1ccc(CNC(=O)c2ccc(-c3nccnc3N3CCCCC3)cc2)cc1\\nCOc1ccc([C@H]2C[C@@H](C(F)(F)F)n3nc(C(=O)NC4CCCCC4)cc3N2)cc1OC\\nCCCc1cc(C(=O)NNC(=O)c2cccc(Br)c2)[nH]n1\\nO=[N+]([O-])c1c(Nc2ccc(F)c(F)c2)ncnc1Oc1cccc2cccnc12\\nCC(C)(C)n1ncc2c1CCC[C@H]2NC(=O)CSc1nc2ccccc2o1\\nCc1ccc([C@@H](C)NC(=O)N[C@@H](CCO)c2cccs2)cc1\\nCCN(CC)S(=O)(=O)c1ccc2nc(-c3ccncc3)cc(C(=O)[O-])c2c1\\nCCCN(CC)c1cc[nH+]c(C(=O)[O-])c1\\nCc1ccccc1N1C(=O)C[C@H]([NH+](C2CCCCC2)C2CCCCC2)C1=O\\nCS(=O)(=O)[C@H]1O[C@H]1c1ccc(Cl)cc1Cl\\nC[C@H](CSc1ccc(C(=O)N(C)C)cn1)C(=O)[O-]\\nCCOC(=O)[C@H]1C=C(C#N)O[C@@H](c2ccc(C)cc2)C1\\nCCC[NH2+]C1CCC(O)(Cc2nc(C)cs2)CC1\\nO=C1c2ccccc2N[C@H](CSC2=NC=NC3=NC=N[C@@H]32)N1c1ccc(Cl)cc1\\nCCc1nc2ccccc2c(C(=O)NCc2ccc(OC)c(C(=O)OC)c2)c1C\\nCc1nn(-c2nncc(-c3ccc(Cl)cc3)n2)c2c1[C@H](c1ccccc1)CC(=O)N2\\nCC(C)NC(=O)Nc1cccc(C(=O)N(C)Cc2nnc(C3CC3)n2C)c1\\nCc1nnccc1C(=O)N[C@H](C)c1ccc(Cl)s1\\nO=C(NCCCc1nc(-c2ccc(Br)o2)no1)C1CC1\\nCCOc1cccc(NC(=O)CCc2ccc(N)cc2)c1\\nCOc1ccc(/C=C2/SC(=O)N(CC(=O)Nc3ccc(F)cc3)C2=O)cc1OC\\nCC(C)N(C)C(=O)[C@H]1CSCN1C(=O)/C=C/SCc1ccco1\\nCCC1(CC)[C@@H](NC(=O)Nc2ccc(C(=O)NC)cc2)[C@H](C)[C@@H]1OC\\nCc1ccc2ncc(C(=O)Nc3ncccc3OCc3ccncc3)n2c1\\nN#Cc1ccnc(N2CCC([NH2+]C[C@@H]3CCCO3)CC2)c1\\nO=C(Cn1nnn(-c2cccs2)c1=O)OC1CCCCC1\\nCOc1cccc(COc2ccc(OC)cc2CCl)c1\\nCC[C@H](NC(=O)NCc1c(C)noc1C)c1ccc(OC)cc1\\nCCc1c(C(=O)Nc2ccc3c(c2)NC(=O)CS3)[nH]c(C)c1C(C)=O\\nCSc1ccc(/C=c2\\\\sc3ncnn3c2=O)cc1\\nCOc1ccc(C(=O)/C=C(\\\\C)Nc2ccc(F)cc2F)cc1\\nO=C(C=C1CCSCC1)N[C@@H]1CCC[C@H]1Cc1ccccc1\\nC[C@@H](Sc1nc(/C=C/c2cccs2)n[nH]1)C(=O)N1CCOCC1\\nCc1cccc(C(=O)N[C@@H](C(=O)N2CCC[C@@H](C)C2)C(C)C)c1\\nCOC(=O)[C@@H](C)Sc1nnc(Nc2cccc(Br)c2)s1\\nCc1cnc(C(=O)Nc2ccc(N(C)C3CC[NH+](C)CC3)cc2)cn1\\nCC(=O)Nc1nc2ccc(NC(=O)NCc3ccccc3)cc2s1\\nC=CCN1C(=O)/C(=C/c2ccccc2F)S/C1=N\\\\S(=O)(=O)c1cccs1\\nCC[C@H]1CC(=O)N(Cc2ccccc2C#CCCO)C1\\nCOc1ccc(F)cc1C(=O)Nc1nccs1\\nCC[C@@H](CC(=O)NC1(C(=O)OC)CCSCC1)c1ccccc1\\nCc1ccc(C)c(-n2c(SCCCCCO)nc3ccccc3c2=O)c1\\nCC[C@@H](C)[C@@H]([NH3+])c1ccc(Cl)s1\\nCOc1cccc([C@@H](C)[NH2+]CCOc2ncccc2Cl)c1\\nCC[C@@H]1CCCCN1C(=O)NC1CCN(C(=O)OC(C)(C)C)CC1\\nCCOc1cccc(NC(=O)NCc2ccc(N3CCSCC3)cc2)c1\\nCc1cccc(NC(=O)CN2CCN(c3ccc4c(c3)OCCO4)C2=O)n1\\nC=C(C)C(=O)N[C@H](C)c1nc2ccccc2n1CCC(=O)N1CCCCCC1\\nCCOC[C@H]1CC[NH+](Cc2ccc(-c3nc4ccccc4s3)o2)C1\\nCCOC(=O)[C@]1(Cc2cccc(Cl)c2)CCCN(C(=O)c2ccnn2C)C1\\nCc1ccc([N+](=O)[O-])cc1NC(=O)C(=O)N1CC[C@H]([NH+]2CCCC2)C1\\nCCOCCCNC(=O)N[C@@H]1CCC[C@@H](CC)C1\\nO=C(Cc1cccc(F)c1F)Nc1cccc(Br)n1\\nCOc1ccccc1NC(=O)[C@@H]1CCCN(C(=O)Nc2cccs2)C1\\nC[C@H]1CCC[C@](C#N)([C@]2(O)CCCCC2(C)C)C1\\nO=C(NCc1ccc([N+]2=CCCC2)cc1)NC1(c2ccc(Cl)cc2)CC1\\nCCCC(=O)N[C@@H]1CCC[NH+](Cc2ncccc2C)C1\\nO=C(NCc1cccs1)C1(c2cccc(Cl)c2)CCC1\\nC[C@H]1CCC[C@H](NC(=O)[C@@H](C)Sc2ncn[nH]2)[C@@H]1C\\nCOc1ccc([C@@H]([NH2+]Cc2ccc(Cl)nc2)c2ccc(F)cc2)cc1\\nCOc1cc(NC(=O)[C@H](C)Sc2ccccc2Cl)cc(OC)c1\\nCCN1CCC(=NNC(=O)c2ccccc2)CC1\\nCCCOc1ccc(Br)cc1C[NH+]1CCC([C@@H](C)O)CC1\\nCc1cc2n(C[C@H](O)CO[C@H](c3ccccc3)c3ccccc3C)c(=O)c3ccccc3n2n1\\nCCc1ncc(CN(C)C(=O)Nc2c(C)ccc([N+](=O)[O-])c2C)s1\\nc1ccc2nc(NCCCc3nc4ccccc4[nH]3)cnc2c1\\nCc1c([C@H](C)[NH2+]Cc2cccn2C)cnn1C\\nCC(=O)N[C@@H](C(=O)NC1COC1)C(C)C\\nO=C(Nc1ccccc1F)c1cc2ccccc2c2cccnc12\\nCc1ccccc1N1C(=O)/C(=C/c2cccn2-c2cccc([N+](=O)[O-])c2)C([O-])=NC1=S\\nCOCCN1C[C@H](C(=O)N(Cc2cccc(Cl)c2)C(C)C)CC1=O\\nCOc1ccc(NC(=O)N2CCN(C(=O)Cc3csc4ccccc34)CC2)cc1OC\\nC#CCN(C[C@H]1CCCO1)C(=O)N[C@@H](C)c1cccc([N+](=O)[O-])c1\\nCc1cccc(C2=CCN(C(=O)Nc3ccc(C(N)=O)c(Cl)c3)CC2)c1\\nCOCCCN1C(=O)c2ccc(C(=O)Nc3nc(-c4ccc(C)cc4)cs3)cc2C1=O\\nO=S(=O)(Nc1ccc(N2CCCS2(=O)=O)cc1)c1ccc(F)c(Cl)c1\\nO=C1/C(=C/c2ccccc2)Oc2c1ccc1c2CN(Cc2cccs2)CO1\\nCC[C@@H](C)[C@@H](NC(=O)c1cccc(F)c1)C(=O)N=c1[nH]c2ccccc2[nH]1\\nCc1c(F)cc(N)cc1S(=O)(=O)N[C@@H](C)C1CC1\\nCc1ccc(Cn2ncc3c(N)ncnc32)cc1\\nCCOC(=O)C(C)(C)c1nc(-c2ccccc2)no1\\nCCOC(=O)c1sc(/C=C/c2nc3c(s2)CCC3)nc1C\\nC[C@@H]1CC[C@@H]([NH2+]C2CCC(NS(C)(=O)=O)CC2)c2ccccc21\\nCN(C)S(=O)(=O)c1ccc(C(=O)N(C(=O)N2CCCCC2)c2ccccc2)cc1\\nCC[NH2+][C@@H](CC)c1ccccc1OCc1cccc(F)c1\\nC=CCOC(=O)C1=C(C)N=C2S[C@H](C)C(=O)N2[C@H]1c1ccc(F)cc1\\nCCC[NH2+][C@]1(C(=O)OCC)CC[C@H](n2cc(Cl)c(C)n2)C1\\nCc1cc(NC(=O)CSc2nnc3c4ccccc4n(C)c3n2)ccc1Br\\nCCOC(=O)c1sc(NC(=O)c2ccc(-n3c(C)nc4ccccc4c3=O)cc2)cc1C\\nCC#CCC(=O)C1([NH+](CC)CC)CCCC1\\nO=C(NCCCc1ccccc1)C1CCN(C(=O)[C@@H]2CC(=O)N(c3ccccc3)C2)CC1\\nO=Cc1ccc(OCc2ccn(-c3cccc(F)c3)n2)cc1\\nClc1ccccc1Cn1ccnc1\\nCc1[nH]c(=O)c(C(=O)N2CCN(c3ccccc3)C(=O)C2)c(C)c1C\\nC[C@@H](NC(=O)NC[C@H]1CCCN(c2ncccn2)C1)C1CCOCC1\\nO=C(NCCS(=O)(=O)c1ccccc1)N1CCC[C@@H]2CCC[C@@H]21\\nCc1ccc(-c2cc(NC(=O)C(C)C)c(=O)n(CC(=O)Nc3cccc(C)c3)n2)cc1\\nCc1ccc(S(=O)(=O)N2CCN(C(=O)[C@H]3CCCC[C@@H]3C(=O)[O-])CC2)cc1C\\nCCc1ccc(-c2nc(C(=O)N3CCO[C@H](CC)C3)cs2)cc1\\nCc1cc(C)cc(OCC(C)(C)C[NH2+]C2CC2)c1\\nCCOC(=O)[C@H](F)[C@@]1(O)CCC[NH+](C(C)C)CC1\\nCCn1cc(/C=C/C(=O)c2ccc3ccccc3c2)cn1\\nCCC(CC)C(=O)Nc1cnn(-c2ccccc2F)c1\\nO=C1O[C@H](C(=O)Nc2ccnc3ccnn23)Cc2ccccc21\\nCOCCn1nnnc1[C@@H](C(C)C)N1CCSCC1\\nO=C(NCCNS(=O)(=O)c1cccc(Cl)c1F)c1cccnc1\\nCc1ccc(CNC(=O)NCc2nnc3n2CCC3)s1\\nC/C=C/C[C@]1(C(=O)[O-])CCN(C(=O)OC(C)(C)C)C1\\nO=C(N[C@@H](CO)c1ccco1)c1cc(Cl)ccc1OC1CCCC1\\nCc1cc(N(C)C)ccc1NC(=O)c1c[nH]c2nccc(Cl)c12\\nCCOC(=O)c1cccc(NC(=O)c2cn[nH]c2C)c1\\nCCC(CC)[S@](=O)CCC(=O)[O-]\\nCOCc1ccc(C(=O)N(C)Cc2ccc(Cl)s2)cc1\\nO=C(CCc1nc2ccccc2c(=O)[nH]1)Nc1cc(Cl)c(Cl)cc1Cl\\nCC[C@@H](C)NC(=O)c1ccc2c(c1)CCCN2S(C)(=O)=O\\nCOc1ccc(C)cc1-n1nnnc1SCC(=O)Nc1cc(C)cc(C)c1\\nC[C@H](NC(=O)Cc1ccc[nH]1)C(=O)N1CCCC[C@H]1C\\nCCOC(=O)[C@H]1CCCN(C(=O)c2cc(C(C)C)n(C)n2)C1\\nC[C@H]([NH2+]Cc1nc(Cc2ccccc2)no1)[C@@H](C)n1cccn1\\nc1cc(CN2CC[NH+](Cc3ccc4c(c3)OCCO4)CC2)no1\\nCCCCNC(=O)CCc1c(C)nc2c3ccccc3nn2c1C\\nO=C(C[C@@H]1C[NH2+]CCO1)N[C@H]1C=CS(=O)(=O)C1\\nC[C@@H]1CCO[C@@H]1C(=O)N1CC[C@H](C(N)=O)c2ccccc21\\nCCC[NH2+][C@H](Cc1nn(C)c2ccccc12)c1ncc[nH]1\\nCC(C)c1noc(-c2cc[nH+]c(N3CCN(C(=O)[C@H]4C[C@H]4C)CC3)c2)n1\\nO=C(NCc1cccnc1)NCc1ccnc(OCC(F)F)c1\\nC[C@@H](NC(=O)N1CCCCCCC1)[C@@H]1CCCO1\\nCOc1ccc([C@H]2C(C(=O)NCc3ccccc3)=C(C)Nc3ncnn32)cc1OC\\nCc1cc(=O)n2c(n1)SC[C@@H]2CC(=O)NCCC(C)C\\nCC(C)C1=CN=N[C@H]1[C@H]1CCC[NH+](C[C@@H](C)Cc2ccc3c(c2)OCO3)C1\\nCOc1cc(CNC(=O)c2occc2Br)ccn1\\nCc1cccc(COc2ccc(Br)cc2/C=C2\\\\SC(=S)NC2=O)c1\\nO=C(N[C@@H]1CCO[C@@H]1c1ccc(Cl)c(F)c1)[C@H]1Cc2ccccc2O1\\nCc1ccc([C@]2([NH3+])CC[C@@H]2C)cc1\\nO=C(CNC(=O)c1ccco1)OCC(=O)c1ccc2ccccc2c1\\nO=C(c1cc2c(F)cccc2[nH]1)N(C[C@@H]1CCCO1)c1ccncc1\\nCc1cc(C)c(NC(=O)c2cc3ccccc3n2C)c(C)c1\\nCSc1ccccc1NC(=O)N[C@@H](CO)c1ccc(Cl)cc1\\nCc1cc(Br)ccc1CNC(=O)C1CC=CC1\\nCOc1ccc(CN/C(C)=C2/C(=O)N(c3ccc(OC)cc3)N=C2C)cc1\\nO=C(COC(=O)C1(c2ccccc2F)CCCC1)N1CCOCC1\\nCC1(C)C(=O)NCC[NH+]1Cc1ccc(OCC(F)F)cc1\\nCc1ccc([N+](=O)[O-])cc1C(=O)Nc1ccc(C(=O)NC(C)C)cc1\\nC[C@@H]([C@@H](O)c1ccc2ncnn2c1)[N+](=O)[O-]\\nC[C@H](Oc1ccc(Cl)c(Cl)c1)C(=O)NC[C@H]1CCC[C@@H]1O\\nCOC[C@H]1CCC[NH+](Cc2cc(C)n(Cc3ccco3)c2C)C1\\nCc1ccc([C@H](C)NC(=O)CN(C)C(=O)OC(C)(C)C)cc1F\\nCC(=O)NCCC(=O)N1CCC[C@@H](C)C1\\nCOc1ccc(N2CCn3c2nn(CC(N)=O)c(=O)c3=O)cc1\\nClC(Cl)(Cl)c1nonc1C(Cl)(Cl)Cl\\nCCc1sc(C(=O)N2CCN([C@@H](C(N)=O)c3ccccc3)CC2)cc1C\\nC[NH+](C)Cc1cc(NC(=O)CCCC(=O)N2CCCCCC2)[nH]n1\\nC[C@@H](Nc1ccc(COC(C)(C)C)cc1)c1ccc(C#N)cc1\\nNC(=O)c1ccc(NC(=O)c2cccn(Cc3ccc(F)cc3)c2=O)cc1\\nCc1cc(C(=O)N2CC[C@H](C)C[C@H]2C)c2c(C)nn(C)c2n1\\nCc1c(C(=O)N2CCCC2)oc2c1-c1nn(CC(=O)N3C[C@@H](C)C[C@@H](C)C3)cc1CC2\\nCc1cc(C)cc(NC(=O)CC(C)C)c1\\nCOc1cc(OC)cc([C@H]2CC[NH+](CCC(F)(F)F)C2)c1\\nCCn1ccnc(N2CCCC[C@@H](N3CC[NH+](C)CC3)C2)c1=O\\nC[C@@H]1CCC[C@](O)(c2ccc(Cl)s2)CC1\\nCCOC(=O)C[C@H](C)CNC(=O)C(=O)N1CCc2ccc(C)cc21\\nCOc1ccccc1C[NH+]1CCC[C@H](N2CCCC2=O)C1\\nCCNc1ccc2c(OC)ccc(F)c2n1\\nOc1ccc(C2[NH+](Cc3ccccc3)CC[NH+]2Cc2ccccc2)c(O)c1\\nFc1ccc([C@@H]2C[C@@H](c3ccc(Br)cc3)Nc3ncnn32)cc1Br\\nCOc1ccc(O)c(CNC2CC[NH+](Cc3ccccc3Cl)CC2)c1\\nCc1ccc(NCc2cccc(C(=O)NCc3ccco3)c2)c(F)c1\\nCc1c(C(=O)N(C)[C@@H]2CCN(c3ccccc3Cl)C2=O)cnn1C\\nCc1nc(C(C)(C)C)[nH]c(=O)c1C(=O)Nc1cccc(Cl)c1C\\nCCOC(=O)[C@H]1CCCN(C(=O)c2cn(CCc3ccccc3)nn2)C1\\nC[C@@H]1[C@H](C(=O)[O-])CCN1S(=O)(=O)c1ccc(F)c(Cl)c1\\nCC1CCC(OC(=O)C2=NC3=C(C(=O)C[C@@H](c4ccccc4)C3)[C@H]2C)CC1\\nCN(Cc1ccno1)Cc1c(C(=O)N2CC[NH+](C3CCCCC3)CC2)nc2ccccn12\\nCc1cc(F)c([C@@H]([NH3+])[C@H]2Cc3ccccc3O2)cc1F\\nCOc1ccc(OCC(=O)N/N=C2\\\\CCCc3ccccc32)cc1\\nCC(C)[NH+]1CCC(N2CC[NH+](Cc3c(F)ccc(F)c3F)C[C@@H]2CCO)CC1\\nCC[NH2+][C@@H](C)c1cc(F)c(C)cc1N1C[C@H](C)S[C@H](C)C1\\nCC(C)c1nsc(NC[C@H](C2CC2)[NH+](C)C)n1\\nCc1ccc(-c2nc(C[NH+]3CCCC[C@H]3c3cccnc3)c(C)o2)s1\\nCOc1cccc(C2=C[C@H](C(=O)N3CCCCC3)N=N2)c1\\nO=C(Nc1ccc2[nH]c(=O)[nH]c2c1)c1cc(S(=O)(=O)NC2CC2)ccc1Br\\nc1ccc2c(c1)CC[C@H]([C@H]1CCCc3cccnc31)N2\\nCc1ccc(NC(=S)NC(C)C)cc1C\\nC[C@@H](Nc1ccc2c(c1)CCC2)C(=O)N1CCCC1\\nCCOc1ccc(Nc2ccc(C#N)c([N+](=O)[O-])c2)cc1\\nCC(C)OC(=O)CCNC(=O)c1cnn(-c2ccc(F)cc2)n1\\nCCCCOc1ccccc1NC(=O)c1scnc1C1CC1\\nO=C1N=C(N2CCCCC2)S/C1=C1/C(=O)Nc2ccccc21\\nCc1c([C@H](C)NC(=O)c2[nH]c3ccccc3c2Cl)cnn1C\\nCSc1cccc2sc(N3CCN(C(=O)c4ccn(C(C)C)n4)CC3)nc12\\nCc1ccc(C)c2nc3sc(C(=O)Nc4ccc5c(c4)OCO5)c(N)c3cc12\\nCOC(=O)CCN(Cc1cnc2ncccn12)C1CCOCC1\\nO=C(c1c[nH]c2ccc(F)cc12)N(CC1CC1)CC(F)(F)F\\nO=C(Cc1ccc(Cl)cc1)/N=C1/S[C@@H]2CS(=O)(=O)C[C@H]2N1c1cc(Cl)ccc1Cl\\nCc1cccc(C)c1NC(=O)C[NH+]1CCC(OCc2ccc(F)cc2)CC1\\nC[C@H]1CCC[C@@H](C)N1C(=O)[C@@H]1COCCO1\\nCC(C)[C@@H](C)CC(=O)NNC(=S)NC1CCCCC1\\nCc1cccc(NC(=O)CN2C(=O)/C(=C3\\\\SC(=S)N(Cc4ccco4)C3=O)c3ccccc32)c1\\nCC(=O)N[C@@H]1C(=O)C[C@@H]2[C@H]3CCC4=CC(=O)CC[C@@]4(C)[C@@H]3CC[C@]12C\\nCCCNC(=O)[C@H]1CS[C@H](c2ccccc2O)N1C(C)=O\\nCc1ccc(N2CC[C@H](C(=O)NC[C@@H](CC(C)C)N3CCOCC3)C2=O)cc1\\nCOc1ccc(NC(=O)CCc2ccc3c(c2)OCCO3)cc1OC\\nCc1ccc(C(F)(F)F)cc1/C=C/C(=O)[O-]\\nCc1ccccc1C(=O)Nc1ccc(N2CC[NH+](Cc3ccccc3)CC2)cc1\\nc1cc(C[NH2+]Cc2ccco2)cc(OC2CCCC2)c1\\nO=C(c1cccs1)N(Cc1ccc(F)cc1)Cc1cc(-c2ccccc2)cn2nnnc12\\nCOc1ccccc1CC(=O)N[C@@H]1CS(=O)(=O)C[C@H]1Cl\\nc1cc(-c2nc3c4cn[nH]c4ncn3n2)ccc1COc1ccc2c(c1)CCC2\\nCN(C(=O)c1ccc(Cl)cc1O)C1CCC(=O)CC1\\nCNC(=O)CNS(=O)(=O)c1cccc(C(F)(F)F)c1\\nCc1ccc(S(=O)(=O)N2C[C@@H](CC(=O)[O-])c3ccccc32)c(C)c1\\nCc1cc(N)nc(SCC(=O)NC[C@@H](c2ccccc2)C(C)C)n1\\nCn1cc(C(N)=O)c(NC(=O)c2ccc3sccc3c2)n1\\nCOc1cc2c(cc1O)[C@H](c1cnc(-c3cccc(C)c3)nc1)CC(=O)N2\\nCC(=O)Nc1ccc(O[C@H](C)c2nc(C(C)(C)C)no2)cc1\\nO=C(c1c(-c2ccccc2)nc2sc3c(n12)CCCC3)C(F)(F)F\\nCC(C)CNC(=O)NC(=O)[C@@H](C)Nc1ccc(OC(C)C)cc1\\nC=C[C@](C)(O)CC[C@H]1C(C)=CC(=O)[C@H]2C(C)(C)CCC[C@@]21C\\nCC[C@H](C)Sc1nncn1-c1ccccc1C\\nCOCC(=O)N1CCCc2ccc(NC(=O)c3cccc(Br)c3)cc21\\nC[C@H](Oc1cccc(Cl)c1)C(=O)Nc1ccc2ccccc2c1\\nCc1cc(Br)ccc1SCC(=O)N1CCC(C(=O)c2ccc3c(c2)OCCO3)CC1\\nNc1ccc2c(c1)CN(C(=O)c1ccc(Cl)cn1)CC2\\nC[C@H](CN(C)C(=O)c1ccc(F)c(F)c1F)C(=O)[O-]\\nNC(=O)c1ccc(SCC(=O)Nc2ccc3c(c2)Cc2ccccc2-3)c([N+](=O)[O-])c1\\nCN(C(=O)CSCC(F)(F)F)c1cccc([N+](=O)[O-])c1\\nC=CCn1c(SCC(=O)Nc2cc(C)on2)nnc1[C@H]1COc2ccccc2O1\\nCC(=O)N[C@@H](CC(=O)Nc1ccnn1Cc1ccc(C)o1)c1ccccc1\\nCNC(=O)Cc1nc(C[NH+](C)C2CCC(c3ccccc3)CC2)cs1\\nCOCCOc1c(Cl)cccc1NC(=O)Cc1c[nH]c2ccccc12\\nCOCCN1[C@@H](C)CN(C(=O)C[NH+](C)C2CC2)C[C@H]1C\\nCSc1nncn1/N=C\\\\c1cc(Cl)ccc1F\\nCC(C)(C)OC(=O)N1CC[C@H]2CC(=O)[C@H]2C1\\nC[C@@H](CCO)SCc1ccccc1OC(F)F\\nC[C@@H]1C[C@@H]1C(=O)Nc1ccc(F)cc1C(=O)NC1CCC(O)CC1\\nCOc1ccccc1CNC(=O)COc1ncnc2oc(C)c(C)c12\\nFc1ccc(F)c(C[NH+]2CCC(n3cc(-c4cccnc4)nn3)CC2)c1F\\nO=C(C[NH+]1CCC(C(=O)c2ccc(Cl)cc2)CC1)NC[C@H]1COCCO1\\nCCC[NH+](C)C[C@H]1CCN(C(=O)Nc2cc(NC(C)=O)ccc2C)C1\\nCc1nc2ncnn2c(NCCOC2CCCCCC2)c1C\\nC[C@H]1CN(Cc2cnn(-c3ccccc3)n2)C[C@H](C)S1\\nCOc1cc(OC)cc([C@@H](N[C@@H](C)c2ccc(F)cn2)c2[nH+]ccn2C)c1\\nCC(C)CCc1noc(C[NH+](C)[C@H]2CCC[C@@H]2S(C)(=O)=O)n1\\nCCc1nc2n(n1)CCC[C@H]2NC(=O)c1ccc(-n2cc(C)cn2)cc1\\nC[C@@H](NC(=O)c1ccccc1CSc1nc2ccccc2[nH]1)C1CC1\\nO=C([C@H]1CCCN1S(=O)(=O)N1CCCCC1)N1CCSCC1\\nCn1c(=O)c(=O)n(CC(=O)N2CCC3(CC2)OCCO3)c2cccnc21\\nCOc1ccc(C(=O)N(CC2=CC=C[C@@H]3N=CC=C23)C2CC2)cc1\\nCCc1ccc(-c2nc(N)ccc2[N+](=O)[O-])cc1\\nc1csc([C@@H]2CN(Cc3cnc(C4CCC4)s3)CCO2)c1\\nO=S(=O)(/N=C(\\\\[O-])c1ccsc1)N1CCCC1\\nCc1nccn1CC(=O)N1CCCC[C@@H]1CCNC(=O)c1ccccc1\\nC[C@H](Sc1nnc(-c2ccc(Cl)cc2)n1C[C@H]1CCCO1)C(=O)Nc1ccc2c(c1)OCO2\\nCOc1ccc(-n2nnc(-c3nc(-c4ccc5c(c4)OCO5)cs3)c2C)cc1OC\\nCN(c1ccccc1)S(=O)(=O)c1ccc2c(c1)C(C)(C)C(=O)N2\\nCc1cc(S(=O)(=O)N2CCN(C(=O)[C@H]3C[C@H]3c3ccc(Cl)cc3)CC2)c(C)s1\\nO=C(Nc1ccc(Oc2ccc(Cl)nn2)cc1)[C@@H](O)c1ccccc1\\nCCCc1cc(=O)n2c(n1)SC[C@@H]2CC(=O)Nc1cccc(Cl)c1Cl\\nCc1ccc(NC(=O)CSc2nnc([C@@H]3CCCN3C(=O)c3cccc(C)c3)n2C)cc1\\nCc1noc(C)c1CCCNC(=O)N[C@H]1CC(=O)N(C2CC2)C1\\nCC(C)(C)[C@@H]1CCC(=O)[C@@H](CN2CCOCC2)C1\\nCOc1cc(/C=C2\\\\SC([N-]c3cccc(C(=O)[O-])c3)=NC2=O)cc(OC)c1O\\nC=CCO[C@H](C)C(=O)Nc1ccc(F)cc1Br\\nO=C(CN1CCN(Cc2ccc(F)c(F)c2)CC1)c1cccs1\\nCC[NH+]1C[C@H](c2ccccc2)CC2(CCN(C(=O)c3ccon3)CC2)C1\\nC[C@H]1C[C@H]([NH+]2CC[C@H](S(=O)(=O)NC3CC3)C2)CC(C)(C)C1\\nCC[C@H](Sc1cc(C)c2cccc(C)c2n1)C(=O)Nc1nc2ccc(S(N)(=O)=O)cc2s1\\nCOC(=O)[C@]1(NC2CC2)CC[C@H](Sc2ncc(C)cn2)C1\\nCOc1ccccc1Nc1nn(CN(C)OC)c(=S)s1\\nCc1cc(C)c(C)c(S(=O)(=O)/N=C(\\\\[O-])c2cc(C3CC3)n(C(C)(C)C)n2)c1C\\nCC(C)(O)C#Cc1ccc(C[NH2+][C@H]2CCCN(c3nc4ccccc4s3)C2)s1\\nCOc1ccc(OC)c(S(=O)(=O)n2cc3c(=O)n(C)c(=O)n(C)c3n2)c1\\nC/[NH+]=C(/NCc1noc(C(C)(C)C)n1)N[C@@H](C)c1ccc(F)cc1F\\nCc1nnsc1C(=O)Nc1nnc(-c2ccc(Br)cc2)o1\\nCCN(Cc1ccc(OC)c(OC)c1)C(=O)C[NH+]1CC[C@@H](C)[C@H](O)C1\\nO=C([O-])[C@H]1CCCCN1C(=O)CSCc1ccccc1\\nCc1cccc([C@H](O)C[C@@H]2CCCCC[NH2+]2)c1\\nO=C(C1CCCCC1)N1CCN(Cn2cc(Br)cn2)CC1\\nCc1ccccc1COc1ccc([C@@H]2C3=C(CCCC3=O)Nc3nnnn32)cc1\\nCCO[C@@H]1C[C@@H]([NH+](C)C[C@@H]2CCCN(S(C)(=O)=O)C2)C12CCCCC2\\nCCn1c(=O)c(=O)[nH]c2cc(C(=O)NN3C(=O)N[C@](C)(c4ccccc4)C3=O)ccc21\\nCOc1cc(OC)cc([C@@H](NC(=O)N(C)C2CCCCC2)c2nccn2C)c1\\nO=C1[C@H]2[C@@H]3C=C[C@@H](C3)[C@H]2C(=O)N1CN(C(=O)C(F)(F)F)c1cccc(C(F)(F)F)c1\\nCCNc1ncc(COc2cccc3ccccc23)s1\\nCc1noc(C)c1CCCNC(=O)c1c(C)nn(Cc2ccccc2)c1C\\nC[C@H]1CC([NH2+][C@@H](C)c2c[nH]c3cc(F)ccc23)C[C@H](C)O1\\nC/C(=C1/SC(=O)N(c2ccc(Cl)cc2)C1=O)c1ccc(Br)cc1\\nCc1ccc(NC(=O)C[C@H]2SC([N-]c3ccc(N(C)C)cc3)=NC2=O)c(C)c1\\nCO[C@H]1CCCC[C@H]1NC(=O)NC[C@H](c1cccc(F)c1)[NH+](C)C\\nCc1nn(C)c(C)c1CN[C@H]1CCC[NH2+]C1\\nCc1cc(=O)[nH]c(SCC(=O)N2C[C@]3(C)C[C@H]2CC(C)(C)C3)n1\\nCOC1CC[NH+](Cn2nc(-c3ccc(C)cc3)n(C)c2=S)CC1\\nC[NH2+][C@]1(C(=O)[O-])CCC[C@@H](OCC2CCCCC2)C1\\nCc1nnc(SCC(=O)c2cc(C)n(CC(F)(F)F)c2C)s1\\nCC(C)CN(CCC#N)C(=O)NC[C@@H]1CC[C@H](C(=O)[O-])O1\\nCc1cc(CN2CCN3C(=O)NC[C@@H]3C2)cc(C)c1OC(F)F\\nCCNC(=O)c1cccc(NC(=O)NCCCSC)c1\\nCn1c(-c2cccc3ccccc23)nn(CN2CCOCC2)c1=S\\nCCCCCN1C(=O)/C(=C/c2ccc(O)c(OCC)c2)SC1=S\\nN#CCCN(Cc1ccccc1)C(=S)NC(=O)c1cccc(Cl)c1\\nCCCS(=O)(=O)c1ccccc1C(=O)Nc1nnc(CC)s1\\nCNC(=O)[C@H](C)CN(C)Cc1cc(=O)n2cccc(C)c2[nH+]1\\nCOCCNC(=O)/C(C#N)=C/c1cccc(O)c1\\nCNC(=O)CN1c2ccccc2C(=O)N(C)[C@H]1c1ccccc1O\\nCC(=O)N[C@H](C)C(=O)Nc1ccc(Sc2nncs2)c(Cl)c1\\nCC[n+]1c(N)n(CCOc2ccc(Cl)cc2Cl)c2ccccc21\\nCOC(=O)CCCc1nnc(NC(=O)N2CCC[C@@H]3CCC[C@@H]32)s1\\nO=C(N[C@H]1CCCC[C@H]1OC1CCCC1)c1ccc([N+](=O)[O-])cc1\\nO=C(CCOc1ccccc1)NNC(=O)CC1(O)CCCC1\\nC=CCN(CC(=O)[O-])C(=O)[C@@H](C[NH3+])C(C)C\\nO=C(CCn1ccccc1=O)NCC1(c2ccccc2)CC1\\nCOc1cc(C)c([C@@H](C)NC(=O)CSC2CCCC2)cc1OC\\nC=CCNC(=O)Nc1ccc(F)c(NC(=O)OC)c1\\nOc1ccccc1/C=[NH+]/CCC/[NH+]=C/c1ccccc1O\\nCn1cccc1Cc1nnc(SCC(=O)Nc2ccc3c(c2)OCCO3)n1C\\nC[C@@H](C#N)CNC(=O)c1cccc(Oc2cccc(C(F)(F)F)c2)c1\\nCc1oc(-c2ccccc2)nc1CCNC(=O)c1ccc([S@@](C)=O)cc1\\nCCc1noc(C)c1C[NH+](C[C@@H]1CCCCO1)C(C)C\\nCc1ccccc1Oc1cc(Br)ccc1C[NH3+]\\nCCc1cccc(CC)c1NC(=O)NC1CC1\\nCC[NH+]1CCN(C2(CNC(=O)c3ccccc3Br)CCCCC2)CC1\\nCCCCn1nc(C)c(C[NH2+]C[C@@H](C)O)c1Cl\\nC/C=C/C=C/C(=O)N1C[C@@H](C(=O)OC)[C@@H](C)C1\\nCOc1cccc(OC)c1OC1CC[NH+](Cc2ccc([C@H]3C[C@@H]3C)o2)CC1\\nCOC(=O)c1cc(CSc2nnc(-c3cccnc3)n2-c2ccccc2F)oc1C\\nCCOc1ccc2cc(C(=O)NCc3ccccc3)c(=[NH2+])oc2c1\\nO[C@H]1CCN(c2ccnc(N3CCc4[nH]c5ccc(Cl)cc5c4C3)n2)C1\\nO=S(=O)(NC[C@H](O)c1ccc(C(F)(F)F)cc1)c1cc(F)ccc1F\\nO=C(CSc1ccc2c(c1)OCCCO2)NC(=O)c1cccs1\\nC[NH+](C)CCSc1ccc(NC(=O)C2CC2)nn1\\nCc1ccc(C)c(NC(=S)NCCc2cccs2)c1\\nCNc1ncc(F)c(-c2cccc(Cl)c2)n1\\nCc1ccc(-c2nnc(SCC(=O)Nc3ccc(CC#N)cc3)n2N)cc1\\nCCN(CC)C(=O)c1ccccc1OC(C)=O\\nCc1ccc(-c2nc(-c3ccc(OCC(F)(F)F)nc3)no2)cc1\\nCOc1ccc([C@@H](CNc2nc3ccccc3o2)N2CCOCC2)cc1\\nCNC(=O)[C@H]1CCCC[C@H]1[NH2+][C@H](C)c1cc(C)cc(C)c1\\nCCN[C@H](c1cccnc1)C1([NH+]2CCCCC2)CCCC1\\nCn1ncc2c(NCc3ccco3)nc(CCc3ccccc3)nc21\\nCn1cc[nH+]c1C[C@H]1CCC[NH+](Cc2ncc(-c3ccccc3Cl)o2)C1\\nCc1cc(N2CC[C@H](C)[C@H](O)C2)nc(C)[nH+]1\\nCc1nnc(CCC[NH+]2CCC(CC[NH+]3CCCC[C@@H]3C)CC2)o1\\nCCc1nn(C)cc1CNC(=O)C1(CC)CCC1\\nCOc1ccc(N2/C(=N/C(=O)CCCC(=O)[O-])S[C@@H]3CS(=O)(=O)C[C@H]32)cc1Cl\\nCC(=O)C1=C([O-])C(=O)N(CCC2=c3ccccc3=[NH+][C@H]2C)[C@H]1c1ccccc1F\\nCOc1cc(C)c(C(=O)N[C@H]2C[C@H](C)N(c3ccccc3)C2)cc1OC\\nCc1ccc([C@H]2C[C@@H]2NC(=O)N2CCC(C(N)=O)CC2)cc1C\\nCc1nc2n(n1)CCC[C@@H]2N[C@@H]1CCc2c(Cl)cc(Cl)cc21\\nCC(C)Oc1ccc(-c2nc(C(=O)O[C@@H](C)[C@@H]3CCOC3)cs2)cc1\\nCN(C[C@@H]1CCCN(C(=O)NCCc2ccc(F)cc2)C1)C(=O)OC(C)(C)C\\nCOc1cc(Cl)c(C)cc1NC(=O)[C@H](C)N1CCN(S(=O)(=O)c2c(C)noc2C)CC1\\nCc1nc(-c2ccc(Cl)s2)sc1C(=O)N[C@H]1C[C@H]1C\\nCOc1cc(F)c([C@H]([NH3+])c2ccc(SC)cc2)cc1OC\\nCc1ccc(-n2ccnc2SCC(=O)N(CC(N)=O)C(C)C)cc1C\\nCc1cccc(/C=C2\\\\SC(=S)N(c3c(C)cccc3C)C2=O)c1\\nCC1=C(C(=O)OC(C)C)[C@H](C)N=C1C(=O)Nc1ncc(C)s1\\nCOC(=O)c1cccc(C(=O)N2C[C@@H](c3ccc(F)cc3)C[C@H]2C)c1\\nO=C(NCCCn1ncccc1=O)[C@@H]1CC(=O)N(c2ccccc2)C1\\nCCC(=O)N1CCCN(C(=O)N[C@@H]2CCc3ccccc32)CC1\\nCc1cccc([C@@H](C)[NH2+]CCS(=O)(=O)C(C)(C)C)c1C\\nCc1ccc(-c2cnc(CCC(=O)NCC(C)(C)c3ccncc3)o2)cc1\\nCc1cc(NN)c2cccc(OC(F)(F)F)c2[nH+]1\\nC[C@H]1CCC[C@@H](C(=O)Nc2cccc(OCCc3ccccc3)c2)[NH2+]1\\nCn1ncnc1CCNC(=O)[C@H]1C[C@@H]1c1cc(Cl)cc(Cl)c1\\nCC[C@H](Sc1nnc2cc(C)c3cc(C)cc(C)c3n12)C(=O)Nc1nnc(COC)s1\\nCCOc1ccc(S(=O)(=O)N2CCC(c3nnc(C4CC4)o3)CC2)cc1\\nCc1cc2nc(C)c(CCC(=O)NC[C@@H](c3ccccc3)N3CCOCC3)c(C)n2n1\\nCOc1ccc(N2C(=O)CS[C@H]2c2ccc(Cl)cc2)cc1Cl\\nC/C=C(\\\\C)[C@@H]1C=C[C@@H]2C[C@H](C)C[C@H](C)[C@@H]2[C@@H]1C(=O)C1=C([O-])[C@H](C[C@](C)(O)C(=O)[O-])NC1=O\\nCS(=O)(=O)c1ccc(NC(=O)N2CCC[C@H]2CC2CCCCC2)cc1\\nCOc1ccc(C(=O)OCc2nc3ccccc3s2)cn1\\nCOc1ccc(S(=O)(=O)Nc2ccccc2-n2nc(C)cc2C)cc1NC(C)=O\\nCn1c(=O)n(CC(=O)N[C@@H]2CCCc3ccc(F)cc32)c2ccccc21\\nN#C/C(C(=O)NC1CCCC1)=C(/[O-])Cc1cnn(-c2ccccc2)c1\\nNC(=O)[C@H](Nc1cccc(Oc2ccccc2)c1)c1ccc(F)cc1\\nCCN(C[C@@H]1CCOC1)C(=O)Nc1cc2c(cc1Cl)OCCO2\\nCCCCc1nnc(NC(=O)C2CCN(S(=O)(=O)c3ccc(C)cc3)CC2)s1\\nCC[C@@H](NC(=O)c1ccc(Br)o1)C(=O)N1CCOCC1\\nCC[C@]1(c2ccccc2)NC(=O)N(CCOc2ccc(Cl)cc2Cl)C1=O\\nCOc1ccc(OC)c(NC(=O)c2ccc3c(c2)C(=O)N(c2cc(C)on2)C3=O)c1\\nCc1ccc(OCC(=O)NC(=S)NC[C@H]2CCCO2)cc1\\nCN(C(=O)CCOc1cccc(C(N)=O)c1)[C@H]1CCC[NH+](C)C1\\nCOC(=O)c1ccc(NC(=O)c2c(C)sc3ncnc(N4CCC[C@H](C)C4)c23)cc1\\nCn1ncc2c1CC/C(=C\\\\c1ccc(-n3cncn3)c(F)c1)C2=O\\nO=C(Cc1ccc([N+](=O)[O-])cc1)NCC1(O)CCOCC1\\nC=CCOc1ccc(CNc2ccc(OC)cc2)cc1\\nC[C@H]1N=C(CCNC(=O)CCC2=c3ccccc3=[NH+]C2)CS1\\nCOC(=O)c1cc(NC(=O)[C@@H]2CCO[C@H]2C)ccc1C\\nCOc1ccccc1[C@@H](C)NC(=O)c1cnc2c(C)cccn2c1=O\\nCC[C@@H](C)NS(=O)(=O)c1cc(N2C(=O)[C@@H](C)CS2(=O)=O)ccc1OC\\nCC(C)(C)NS(=O)(=O)c1ccc(OCC(=O)N2CCOCC2)cc1\\nCOCCCNC(=O)[C@H]1CN(C(=O)c2cccs2)CC12CCCCC2\\nCc1nc(-n2cccc2)sc1C(=O)Nc1cccc(-c2cn3ccsc3n2)c1\\nCC[S@](=O)[C@H]1CCCC[C@@H]1NC(=O)NC[C@H](O)c1ccco1\\nCc1cc2ncn(C[C@H]3CC3(Cl)Cl)c2cc1C\\nCc1ccccc1OCC(=O)O[C@@H](C)c1nccs1\\nC[C@H](C(=O)N1CCOCC1)[NH+]1CCN(Cc2ccc3c(c2)OCO3)CC1\\nCCN(C(=O)[C@@H]1Cc2ccccc2S1)[C@H]1CCC[C@@H]1C[NH3+]\\nCc1cc(Br)ccc1NC(=O)[C@@H](C)[NH+](C)Cc1cccs1\\nCOC(=O)[C@H]1CCC[C@H]1NC(=O)Nc1ccc(C)cc1C\\nCC(C)NS(=O)(=O)c1ccc(C(=O)N[C@H](C)c2ccccc2Br)cc1\\nCC(C)OCCN1CCN(C(=O)Nc2ccccc2C(F)(F)F)CC1\\nCCn1cc(-c2nc(-c3cccc(Cl)c3)no2)c(=O)c2ccccc21\\nCOC[C@@H](C)NC(=O)C(=O)Nc1cc(-c2ccccc2)nn1C(C)C\\nC#CCOc1ccccc1CN1CCN(C2=[NH+]C[C@@H](C)S2)CC1\\nCOCCNC(=O)[C@H]1CCCN1S(=O)(=O)c1ccc(Br)cc1\\nCc1ccc(C[C@H](O)c2c(F)cc(Br)cc2F)cc1\\nCOC(=O)[C@@]1(NC2CCCC2)CCCS[C@H]1C\\nCCC[NH2+][C@H](Cc1ccccc1)[C@@H]1CN(CC)CCO1\\nC=CCn1c(=O)c2c(nc3n2[C@H](C)C(C)=NN3C)n(C)c1=O\\nC[C@H]1CCCC[C@H]1NC(=O)c1cc(S(=O)(=O)N2CCOCC2)ccc1Cl\\nCOCCn1ccc2ccc(NC(=O)NCCc3ccccn3)cc21\\nCc1nc(CNC(=O)C(=O)Nc2cc(Cl)ccc2Cl)no1\\nCS[C@@H]1CC[C@H](NC(=O)CCC(=O)c2ccc(C)s2)C1\\nCc1nc(/C=N/Nc2ccc(Cl)nn2)c[nH]1\\nO=C(CSc1nnnn1C1CC1)N[C@H](CO)C(=O)[O-]\\nO=C(COc1ccc(Br)cc1)N[C@H]1CCS(=O)(=O)C1\\nCCc1nnc(NC(=O)c2ccccc2N)s1\\nO=C([O-])c1ccccc1-c1ccc(/C=C2\\\\C(=O)N(c3cccc(Br)c3)C(=O)N=C2[O-])o1\\nCOc1ccc(-c2csc(NC(=O)c3ccc(S(C)(=O)=O)cc3)n2)cc1OC\\nCOc1ccc(Cn2ccc3nc(N4CCN(c5ccccc5)CC4)ncc3c2=O)cc1\\nCc1nn(C)cc1/C=N/NC(=O)c1ccncc1\\nN#Cc1ccc(OC2CCC(NC(=O)c3ccc[nH]3)CC2)nc1\\nCC(C)c1ccc2oc(-c3ccc(C[NH3+])cc3)nc2c1\\nCOc1ccc([C@@H]2NC(=O)N[C@@](O)(C(F)(F)F)[C@H]2C(=O)c2ccc(F)cc2)cc1OC\\nCc1cc(NC(=O)c2cccc([N+](=O)[O-])c2C)n(-c2ccccc2F)n1\\nCCC(=O)N1CCCC[C@@H]1C(=O)NCCc1ccc(F)cc1C\\nCc1ccc(S(=O)(=O)N2C(N)=C(C#N)[C@H](c3ccc(Cl)cc3)[C@H]2C(=O)c2ccccc2)cc1\\nC[NH+](C)[C@@H]1CC[C@H](NC(=O)[C@@H]2CCCc3[nH]ncc32)C1\\nCCOCCS(=O)(=O)[N-]c1cc(Br)ccc1O\\nNC1=NC(=O)[C@H](CC(=O)N2CC[C@H](c3ccccc3)C2)S1\\nCc1noc(-c2cccnc2N2CC[C@H](NC(=O)COc3ccc(F)cc3)C2)n1\\nCc1ccc(OC(=O)c2cccc(C(=O)Oc3ccc(C)cn3)n2)nc1\\nCN(CC1CCCC1)C(=O)C(=O)Nc1cccc(SC(F)F)c1\\nCOc1cccnc1N(C)C(=O)C[C@H](C)Cc1ccc(Cl)cc1\\nO=C(c1cc(=O)[nH]c2ccccc12)N1CCC([C@H](O)c2ccccc2)CC1\\nCCO[C@@H]1C[C@@H]([NH3+])[C@@H]1Nc1ncc(Cl)cc1F\\nCC(=O)Nc1ccc(NC(=O)c2ccc3c(c2)Cc2ccccc2-3)cc1\\nCOCCOC[C@H]1CC[NH+](C2C[C@@H](C)O[C@H](C)C2)C1\\nO=C1OC(c2ccccc2OC(F)F)=N/C1=C\\\\c1cccc(F)c1\\nCOc1ccccc1CNC(=O)c1cc2sccc2n1Cc1cccc(F)c1\\nCCOC(=O)C1(NCc2nnc(-c3cc(C)oc3C)o2)CCCC1\\nN#Cc1cccc(NC(=O)N2CCC(NC(=O)CC3CCCC3)CC2)c1\\nCCOC(=O)C1=C(c2ccccc2)Nc2ncnn2[C@H]1c1ccc(SC)cc1\\nCc1cc(NC(=O)N[C@@H](Cc2ccccc2)c2ccccc2F)n(C)n1\\nC[C@H](Sc1cccc[n+]1[O-])C(=O)NC[C@H]1COc2ccccc2O1\\nO=C(NCCOc1ccc2c(c1)OCO2)c1cc(C2CC2)on1\\nN#CCC[NH2+]C1(C(=O)[O-])CC1\\nCC[C@@H](Oc1ccccc1OC)C(=O)NCc1ccccn1\\nCc1nc(C[C@@H](N)[C@]2([NH+](C)C)CCC[C@H](C)C2)cs1\\nCCOc1ccccc1/C=C1\\\\Oc2c(ccc([O-])c2C[NH+]2CCN(C)CC2)C1=O\\nCC(C)Cn1cc[nH+]c1CN[C@@H](c1ccccc1)C(C)C\\nCc1c(C[NH+]2CCC[C@H]2c2ccc3c(c2)OCO3)cc(C#N)n1C\\nO=C(CBr)c1cnc2ccc(Cl)cn12\\nCOc1ccc(F)cc1NC(=O)c1sccc1S(=O)(=O)N(C)C\\nCOc1ccc(Br)cc1/C=C1/C(=O)NN(c2ccc(C)c(C)c2)C1=O\\nCC(C)(C)c1ccc(C(=O)N[C@H]2CCN3CCCc4cccc2c43)cc1\\nCC[NH+]1CCC[C@@]2(CC1)C[NH+]=C(N)N2c1ccc(C)cc1\\nCN(C)c1ccc(/C=C(/C#N)C(=O)c2cccc(C#N)c2)cc1\\nCCCC[C@@H](NC(N)=O)C(=O)Nc1cc(OC)ccc1F\\nCOC1=CC2=NC(SCc3cc(-c4ccccc4)on3)=NC2=CC1\\nCc1ccc([C@@](C)(O)CNC(=O)NC[C@@H](c2ccco2)[NH+]2CCCCC2)o1\\nC[C@@H](NC(=O)CSc1ccc2c(c1)OCCCO2)c1ccc2ccccc2c1\\nCCN1CCN(S(=O)(=O)c2cc(-c3csc(C)n3)ccc2C)CC1\\nCc1nccn1Cc1ccc(NC(=O)c2cccc(-n3cccc3)c2)cc1\\nCc1cccc([S@@](=O)Cc2ccc(N)c(F)c2)c1\\nCC(C)C[C@@H](C[NH3+])c1nc(C2CCOCC2)no1\\nCC1=NC(SCC(=O)Nc2ccccc2C(F)(F)F)=NC(=O)[C@H]1Cc1ccccc1\\nCc1ccc(F)cc1NC(=O)C(=O)NCCCn1cc[nH+]c1\\nCOc1cccc(C[NH2+]Cc2cccc(Br)c2OC)c1OC\\nNc1cc(=O)[nH]c(SCC(=O)Nc2nc(-c3ccc(Br)cc3)cs2)n1\\nCCc1noc(CN(CC)C(=O)C(C)(C)NC(=O)c2cccs2)n1\\nCC(C)C[C@](C)(O)CNC(=O)CC[C@H](C)O\\nC=C[C@@H](C)NC(=O)c1c(C)cc(C)c([N+](=O)[O-])c1C\\nO=C(Nc1ccc(S(=O)(=O)NC[C@@H]2CCCO2)cc1)[C@H]1CC(=O)N(c2ccc(F)c(Cl)c2)C1\\nCC1(C)CCC[C@H]1N1C(=O)c2cccc(N)c2C1=O\\nCCCNC(=O)NC(=O)CN1C(=O)N[C@](Cc2ccccc2)(c2ccccc2)C1=O\\nO=C(COc1cc(Cl)c(Cl)cc1Cl)N1CCN(C(=O)Nc2ccccc2)CC1\\nCCc1nc2n(n1)C[C@H]([NH2+]CCNS(=O)(=O)c1ccccc1)CC2\\nCCCCN(C(=O)c1oc2ccccc2c1C)c1c(N)n(CCC)c(=O)[nH]c1=O\\nCCCn1c(S[C@H](C(N)=O)c2ccccc2)nc2sc(CC)cc2c1=O\\nCOc1cccc(CCNC(=O)CN2CCN(c3ccccc3O)CC2)c1\\nc1ccc2c(NCc3nnc(C4CCC4)o3)cccc2c1\\nCC1=C(C(=O)C2=C([O-])C(=O)N(CC[NH+](C)C)[C@H]2c2cccc(Cl)c2)[C@H](C)N=N1\\nCCOc1ccc([C@@H]2Nc3ccc(C(=O)N(C)C)cc3[C@H]3C=CC[C@H]32)cc1\\nCOc1ccc(Cc2sc(NC(=O)[C@H]3COc4ccccc4O3)nc2C)cc1\\nCc1cnc2nc(C[C@H](O)C(F)(F)F)[nH]c2c1\\nCCN(CC(C)(C)O)C(=O)COCc1ccccc1Cl\\nO=C(Nc1cccc2ccccc12)NC1CC[NH+](CC(F)F)CC1\\nO=C1C(=O)N(CC[NH+]2CCOCC2)[C@@H](c2cccc([N+](=O)[O-])c2)/C1=C(\\\\O)c1cccs1\\nCC[C@@H](C)N(CC)C(=O)c1ccccc1N\\nCc1cc(C)c(C(=O)Cn2nc(N)n(Nc3cccs3)c2=S)c(C)c1\\nC[C@H]1CN(C(=O)CC[C@H](C)c2ccccc2)C(C)(C)CO1\\nCN(C)c1nc2c(c(-c3ccc(S(C)(=O)=O)cc3)n1)CCCC2\\nCC(C)c1ccc(CNC(N)=[NH2+])cc1\\nCN(C)N1C(N)=C(C#N)[C@@H](c2cccs2)C2=C1CCCC2=O\\nO=C(N[C@H]1C=C[C@H](C(=O)[O-])C1)c1cc(F)c(Cl)cc1Cl\\nCC(C)n1nnnc1COc1cccc(C(=O)NC2CCCCCC2)c1\\nO=S(=O)(NCc1ccc(Cl)cc1Cl)c1ccccc1Br\\nCOC[C@H](NC(=O)c1cc(-c2ccccc2)c(C)[nH]c1=O)C(N)=O\\nO[C@H]1CCCCC[C@H]1n1cc(-c2ccccc2Cl)cn1\\nCC1=C[C@@H](C)[C@H]2C(=O)N([C@H](Cc3ccccc3)C(=O)[O-])C(=O)[C@H]2C1\\nCCCCNS(=O)(=O)Cc1ccc([N+](=O)[O-])cc1\\nCOc1ccc(CC[C@H]2C[C@@H](C(C)(C)C)CCC2=O)cc1\\nC[C@H]1CN(CC(=O)Nc2nc(-c3ccccc3Cl)cs2)CCO1\\nCc1cc(Cl)cc(Cl)c1CNC(=O)c1cccs1\\nCC(C)(C)OC(=O)NC1CCN(CC(=O)c2nccs2)CC1\\nCOc1ccc(C)cc1[C@@H](C)NC[C@@H]1CN(C2CC2)CCO1\\nCCOC(=O)c1ccn(-c2cccc(NC(=O)C3CCCC3)c2)n1\\nO=C1N(C[NH+]2CCN(c3ccccc3)CC2)c2ccccc2C12O[C@@H]1CCCC[C@H]1O2\\nCC(C)c1nc(C(=O)[O-])nn1-c1ccccc1F\\nC1=C[C@H]2C[C@@H]1C[C@H]2CN1CC[NH+](C2CCCCCC2)CC1\\nCC(C)C[C@H](C[NH+](C)C)Nc1ncncc1N\\nO=C1C=C(c2cccs2)C[C@H](c2cccs2)[C@@H]1n1cnc([N+](=O)[O-])n1\\nC[NH2+]C1CCC([NH+](C)CC(=O)N[C@H](C)c2ccco2)CC1\\nCC(C)c1nc2n(n1)CCC[C@H]2[NH2+]C[C@@H]1CCC[C@H](C)C1\\nCCCOC(=O)c1ccc(NC(=O)c2ccc[n+]([O-])c2)cc1\\nCCOc1cc(CO)cc(Br)c1OCc1ccccc1F\\nO=C(Cn1nnn(-c2cccs2)c1=O)NC[C@@H]1CN(Cc2ccccc2)CCO1\\nCC(C)[C@H](O)CCNC(=O)C(=O)Nc1ccn(-c2ncccc2Cl)n1\\nCc1cccc(C(=O)NCCS(=O)(=O)NCC2CCC2)c1C\\nCCCC(=O)N1CCC(C(=O)NN=C(c2ccccc2)c2ccccc2)CC1\\nO=C(N[C@H](NC(=S)Nc1ccccc1)C(Cl)(Cl)Cl)c1cccc(Br)c1\\nCCN(Cc1ccccc1)C(=O)c1cc(NC(=O)Cc2ccccc2)n(C)n1\\nCC(C)CC(=O)N1CCN(C(=O)c2cnc3c(c2)NC(=O)CO3)CC1\\nO=C(Cc1csc(NC(=O)Nc2ccc(Cl)cc2)n1)NCCc1ccc(Cl)cc1\\nCc1ccc2c(c1)C[C@@H](C[C@@H](C[NH3+])c1ccc(F)cc1)O2\\nCC1=C(C(=O)OC(C)C)[C@@H](c2ccc(C)s2)NC(=O)N1C\\nCOc1cc(F)c([N+](=O)[O-])c(NC[C@@H](O)c2cnn(C)c2)c1\\nCOc1ccc(C(=O)N2CCC([C@@]3(C)NC(=O)N(C4Cc5ccccc5C4)C3=O)CC2)cc1\\nCCc1cnc(NC(=O)c2cc(C)n(C(C)C)c2C)s1\\nCOc1ccccc1-c1nc(C[NH+](C)Cc2ccc(C#N)cc2)cs1\\nCOc1ccc(-c2noc(-c3cc(-c4ccc(Cl)cc4)n[nH]3)n2)cc1OC\\nCC[C@H](NC(=O)CN1C(=O)c2ccccc2N2C(=O)CC[C@]12C)c1ccc(C)cc1\\nCc1ccc(CNC(=O)NCc2ccnc(OC(C)(C)C)c2)cn1\\nCCN(CCO)C(=O)Nc1cccc(C(=O)Nc2cccc(C#N)c2)c1\\nCc1cccc(-c2nn(C[NH+]3CCCCC3)c(=S)n2-c2ccccc2)c1\\nC[NH2+][C@@H](C1CCCC1)[C@@H]1CCc2cccnc21\\nCc1ccc(-c2cccc(F)c2C(=O)[O-])c(C)c1\\nCN(C)C(=O)[C@@H](Sc1nnc2n(C)c3ccccc3n12)c1ccccc1\\nCc1ccc(C(=O)NNC(=O)c2ccc(SC[C@H]3CCCO3)c([N+](=O)[O-])c2)cc1\\nCCCn1/c(=N/C(=O)[C@@H](CCSC)NC(N)=O)[nH]c2ccccc21\\nCn1/c(=N/C(=O)c2sccc2S(=O)(=O)N2CCOCC2)sc2ccccc21\\nCOc1ccccc1N1C[C@@H](C(=O)NN2C(=O)NC3(CCCCC3)C2=O)CC1=O\\nCOc1cc(OC)cc(C(=O)Nc2ccccc2C(=O)NC(C)(C)C)c1\\nC[C@H](Nc1nc(-c2ccncc2)nc2ccccc12)c1ccccn1\\nCCOc1ccc(C[NH+]2CCC[C@H]([C@H](O)c3nccn3C)C2)cc1OC\\nO=C([O-])c1ccc([S@@](=O)Cc2ccc(O)cc2)cc1\\nCCc1nn(C)cc1CNC(=O)NCC(C)(C)Cc1ccccc1\\nCOC(=C(C#N)C#N)c1cccs1\\nO=C(NCc1ccnc(OCC(F)F)c1)NCc1cscn1\\nC[C@@H](C(=O)N1CCCC1)N1CCN(C(=O)NCc2ccco2)CC1\\nCC(C)c1ccc(CN(C)C(=O)NCCCn2cccn2)cc1\\nCNC(=O)[C@@H]1CCCN(C(=O)Nc2nn(-c3ccccc3Cl)cc2C)C1\\nCOc1ccccc1N1CC[NH+]([C@@H](C)C(=O)Nc2ccc(F)cc2)CC1\\nCN1C[NH+](C)CC2=C1NCNS2(=O)=O\\nCNC(=O)c1ccc(O[C@@H]2CCC[C@H]([NH3+])C2)nn1\\nCOc1ccc(C(=O)O[C@@H](C)[C@@H]2CCCO2)cc1OC(F)F\\nCc1ccc(/C=C2/SC(=S)N(CCC(=O)N3CCCc4ccccc43)C2=O)cc1\\nCCc1cccc(S(=O)(=O)Nc2cccc(-c3nnnn3C)c2)c1\\nCc1ccc2c(c1)CCN2C(=O)c1ccc(C)nc1C\\nCCCNC(=O)CN1CCN(C(=O)Cc2c(C)nn(-c3ccccc3)c2C)CC1\\nCc1ccc(C(=O)NC2CC[NH+](Cc3nc(-c4ccccc4)cs3)CC2)s1\\nCCOc1ccc(F)c(C(=O)OC[C@H]2CCCCO2)c1F\\nC[NH+]1CCC(NC(=O)c2ncoc2-c2ccccc2)CC1\\nO=C(NC[C@@H](O)CN1CCCC1=O)Nc1cccc(F)c1\\nCC[NH+]1CCC[C@H](NC(=O)c2ccc(OC)c(O)c2)C1\\nO=C(CSCC(F)(F)F)N1CCN(c2ccc(Cl)cn2)CC1\\nCOc1ccc(Cl)cc1S(=O)(=O)N[C@H](C)C(=O)NCc1ccc2c(c1)OCO2\\nCn1cc(C(=O)Nc2ccc(-n3ccnn3)cc2)c(C(C)(C)C)n1\\nCc1cccc(NC(=O)C[C@@H]2CCCCO2)c1C(=O)[O-]\\nClc1ccc([C@H](NCCc2nnc3ccccn23)C2CC2)cc1Cl\\nClc1ccc(OCCCCSc2ncccn2)cc1Cl\\nCn1nnc2cc(C(=O)N[C@@H](C#N)c3ccc(Cl)c(Cl)c3)ccc21\\nCc1cc(C)cc(-c2nnc(Sc3nc(C(C)C)ns3)o2)c1\\nC/C(=C/c1ccc(F)cc1)C(=O)NCc1cccc(OCC(F)F)n1\\nCC(C)Nc1cccc(CNC(=O)N[C@@H]2CC[NH+](CC3CC3)C2)c1\\nO=C(COc1ccc(F)cc1F)NC[C@H](O)c1ccccc1Cl\\nCc1ccc(-n2nc3c(c2NC(=O)C(C)C)C[S@@](=O)C3)cc1\\nCOc1nc(Oc2ccc3ccccc3c2)ccc1N\\nO=C(c1ccccc1)c1ccc2nc(Nc3ccccc3)c3nncn3c2c1\\nO=C(C[C@@H](O)c1cccc(F)c1)Nc1cc(F)ccc1O\\nCC(C)c1nc(CSCc2ccnn2C)no1\\nO=C(C1CCC1)N1CCC[C@H]1c1nc2cc(-c3ccccc3)ccc2o1\\nO=C(CC[C@@H]1NC(=O)NC1=O)NC1CCN(c2ccccc2F)CC1\\nCc1ccc(-n2nc3c(c2NC(=O)c2ccc(Br)o2)CSC3)cc1C\\nC=CCn1c(SCc2nnc([S-])n2-c2ccccc2)nnc1-c1ccccc1\\nc1nnn(C23C[C@H]4C[C@H](CC(c5nc6c7cn[nH]c7ncn6n5)(C4)C2)C3)n1\\nCCCn1ncnc1COc1ccc(C)nc1C[C@H](C)[NH3+]\\nCCSc1ccc(C(=O)N2CC[C@H](C)[C@H](O)C2)cn1\\nC[C@H]1[C@H](C(=O)[O-])CCN1S(=O)(=O)[C@@H](C)C#N\\nCOc1ccccc1NC(=O)CSc1nnc(C)c(=O)n1N\\nCc1ccc(S(=O)(=O)OCCc2coc3ccccc23)cc1\\nCOc1ccccc1[C@@H](C)NC(=O)[C@@H](C)Oc1cccc(F)c1\\nCC[C@@H](Oc1ccccc1/C=C1\\\\S/C(=N\\\\c2cccc(O)c2)N(CC)C1=O)C(=O)[O-]\\nC[C@@H]([NH2+]C[C@H]1CC[C@H](C(N)=O)O1)c1ccc2c(c1)OCCCO2\\nCc1ccccc1Nc1nc(N)nc(COc2ccc(F)c(Cl)c2)n1\\nCC(=O)Nc1ccc(OC(=O)/C=C/c2ccc(C(N)=O)cc2)cc1\\nO=C([O-])c1ccc(-c2ccncc2)cn1\\nO[C@H](c1c(F)c(F)c(F)c(F)c1F)C(Cl)(Cl)Cl\\nCOc1ccc(/C=N/NC(=O)CNc2ccc3ccccc3c2)cc1OC\\nCc1ccc(NC(=O)/C(C#N)=C/c2cc(C)n(-c3ccc(O)cc3)c2C)cc1Cl\\nCc1cccn2c(=O)c(C(=O)N[C@H]3CCN(C(=O)C(C)C)C3)cnc12\\nO=C(NCCCS(=O)(=O)c1ccccc1)c1n[nH]c2ccccc12\\nC1=C(CC[NH2+]Cc2ccco2)CCCC1\\nCCN(CC(=O)NCc1ccc(F)cc1)C(=O)c1cnc(-c2cccnc2)s1\\nFC(F)(F)c1cccc2c1CCCC2\\nCN(C)C(=O)CCCNC(=O)c1ccnc(OC(C)(C)C)c1\\nCc1ccc(NC(=O)[C@H](C)[NH+](C)Cc2nnc(C3CC3)n2C)c(C)c1\\nCN(C)c1cccc(C(=O)OCC(=O)C(C)(C)C)c1\\nCc1nsnc1Cn1nnc(C(=O)NC(C)C)c1C\\nCC(=O)Cc1nsc(N[C@@H](C)c2ccccc2)n1\\nCOc1ccc(CNC(=O)[C@H]2Oc3ccccc3O[C@@H]2C)cn1\\n[NH3+]CC1CCC(c2nc3ccc(Cl)cc3s2)CC1\\nCCN(C(=O)NC1CC[NH+](C[C@@H](O)COC)CC1)C1CCCC1\\nCCSc1nc2ccccc2c(=O)n1CCc1ccccc1\\nCc1cc(C(=O)COC(=O)c2cc(Cl)c3c(c2)OCCCO3)c(C)n1C1CC1\\nCOc1ccc([C@@H](CNC(=O)c2ccc([N+](=O)[O-])o2)[NH+](C)C)cc1\\nCC[C@H](NC(=O)c1ccc(C#N)cn1)C(=O)N1CCOCC1\\nCCOC(=O)NC(=O)c1c(NC(=O)Cc2ccc(F)cc2)sc2c1CC[C@H](C)C2\\nCC(C)n1cnnc1SCC(=O)Nc1ccc2c(c1)nc(C1CC1)n2C\\nCCc1ccc([C@H](O)C2(C[NH3+])CCCC2)cc1\\nCOc1ccc(CNC(=O)N2CCc3c([nH]c4ccccc34)[C@H]2C)cc1OC\\nCOc1ccc([C@@H]2C(C#N)=C(N)Oc3cc(C)n(CCN4CCOCC4)c(=O)c32)cc1OC\\nO=c1[nH]nc([O-])n1/N=C/c1ccco1\\nC[C@H](Oc1cccc(Cl)c1)C(=O)N1CCC(Cc2ccccc2)CC1\\nCOc1cc([C@@H]2C(C(=O)Nc3ccc(F)cc3)=C(C)Nc3nc(C)nn32)cc(OC)c1OC\\nCC[C@@H](C)[C@@H](O)C[NH2+][C@@H](c1cccs1)C1CC1\\nCSc1cc(-c2cccs2)oc(=O)c1C#N\\nCC(C)[C@@H](NC(=O)c1ccc(NS(C)(=O)=O)cc1)C(=O)[O-]\\n[NH3+][C@H](CO)c1ccc(N2CCOCC2)c(Cl)c1Cl\\nCCCn1cc(NC(=O)c2cc3nc(-c4ccccc4)cc(-c4ccccc4)n3n2)cn1\\nCc1ccc(S(=O)(=O)N2CCC(C(=O)N3CCCc4ccccc43)CC2)cc1C\\nC=CCN(CC=C)C(=O)C1CCN(C(=O)C(C)(C)C)CC1\\nCc1nc(CSc2nncc3ccccc23)nc2ccccc12\\nC[C@H]1CCCC[NH+]1C[C@@H]1CCC(C)(C)[C@@H]1[NH3+]\\nCOc1cc(C(=O)Nc2ccccc2Oc2ccccc2)on1\\nCOc1ccc(S(=O)(=O)N2CCOCC2)cc1NC(=O)/C=C/c1ccc(F)c(Cl)c1\\nCc1ccc(F)c(C[NH+]2CCC(C(=O)NC(C)C)CC2)c1\\nCCn1nc(C)c(CNC(=O)[C@H]2[NH+]=c3ccccc3=C2NC(=O)c2cccc(C)c2)c1C\\nCOc1ccc(C(=O)N2CCC[C@H](C(=O)Nc3cc(Cl)ccc3F)C2)c2ccccc12\\nCCc1ccc(/C=C(\\\\C#N)C(N)=O)s1\\nCOc1cccc(N2C(=O)Nc3ccccc3[C@]2(O)C(=O)NCc2ccccc2)c1\\nCOC(=O)c1sccc1NC(=O)[C@@H]1CC[NH2+][C@@H]1C\\nC/[NH+]=C(/NCc1ccc([N+]2=CCCC2)cc1)N[C@H]1CC[C@@H](SC)C1\\nN#Cc1csc(C(=O)N2CC[C@H]3CCCC[C@@H]32)c1\\nCc1cccc(NC(=O)[C@H](C)[S@@](=O)Cc2ccc(F)c(F)c2)c1C\\nCNS(=O)(=O)c1cccc([C@H](C)NC(=O)c2ccc(Cn3cccn3)cc2)c1\\nCC[NH2+][C@@]1(C(=O)OC)CCC[C@@H](Oc2ccccc2)C1\\nCOCCCn1c(C)c(C)c(C#N)c1NC(=O)C[NH+]1CC(C)(C)C1(C)C\\nC[C@H]1CCC[C@@H](C)N1C(=O)[C@H]1C[C@H]1c1ccccc1Cl\\nCOCc1ccc(C[NH+](C)Cc2ccccc2O)o1\\nCc1c(F)cc(N)cc1S(=O)(=O)NCC(N)=O\\nCCNS(=O)(=O)[C@@H]1CC[NH+](C[C@@H]2CCCc3ccccc32)C1\\nCC1(C)[C@@H]2CC[C@@]1(CS(=O)(=O)NCCCO)C(=O)C2\\nCOc1ccc(-n2ccc(CNC(=O)c3cc(Cl)ccc3[N+](=O)[O-])n2)cc1\\nCC[C@@H](NC(=O)NC1CCC(C(=O)OC(C)(C)C)CC1)[C@H]1CCCO1\\nCN(CC[NH+](C)C)C(=O)C[C@H]1COCCN1C(=O)c1ccc2[nH]nnc2c1\\nCC[C@H](c1ccc(F)cc1)N(C)C(=O)Cn1nnc(-c2ccccc2)n1\\nO=C(Cn1cccc1-c1nc(-c2ccc(OC(F)(F)F)cc2)no1)Nc1nccs1\\nCCc1nsc(Nc2ccc(CC(=O)N3CC[NH+](CC)CC3)cc2)n1\\nCS[C@@H]1CC[C@H](NC(=O)/C=C(/C)c2ccccc2)C1\\nCc1ccc([N+](=O)[O-])cc1NCC(=O)N[C@](C)(C#N)C1CC1\\nCC1(C)[C@H]2OCC[C@@H]2[C@H]1NC(=O)CCNC(=O)C12CC3CC(CC(C3)C1)C2\\nc1ccc(COC2CC[NH+](Cc3cccnc3)CC2)cc1\\nO=C(C1CCCC1)N1CCC[C@@H]([NH+]2CCC(CO)CC2)C1\\nCOC(=O)CNC(=O)c1sc2ncn(CC(=O)N3CCCCC3)c(=O)c2c1C\\nCC(C)CCNC(=O)[C@@H](C)Oc1ccc(N)cc1C(=O)[O-]\\nCCN(CC)C(=O)[C@@H]1C[C@@H]([NH3+])CN1C(=O)Cc1cccc(O)c1\\nCOc1ccc(F)cc1NC(=O)N1CCO[C@H](c2ccc(C)o2)C1\\nCOc1ccc(-c2nnc(SCC(=O)c3ccc(Br)cc3)o2)cc1OC\\nCC(C)=CC(=O)NCCC1CCN(c2cc[nH+]cc2)CC1\\nC[C@]1(O)[C@](C)(O)[C@@H](CO)O[C@](C)(Oc2c[nH]c3ccc(Br)c(Cl)c23)[C@]1(C)O\\nO=C(CCCc1nc(-c2cccnc2)no1)N1CCC[C@@H](Cc2ccccc2)C1\\nCn1nc(NC(=O)c2cccc(F)c2)c2c1NC(=O)C[C@@H]2c1ccccc1\\nO=C(CSc1ccncc1)NCCN1Cc2ccccc2O[C@@H](c2ccccc2)C1\\nN#Cc1ccc(OCCn2cc(Cl)cn2)cc1\\nC[C@@H]1CCN(C(=O)Nc2ccc(O[C@@H]3CCOC3)cc2)[C@H](C)C1\\nCC[C@H](C)[C@H](C)[NH2+]Cc1ncccc1F\\nC#CC(C)(C)NC(=O)c1ccc(OC)c(O)c1\\nCOc1cc([N+](=O)[O-])ccc1OCc1nc(-c2cccs2)no1\\nCC1CCN(C(=O)C[NH+]2CCC[C@@H](c3nc4ccccc4o3)C2)CC1\\nC[C@H]1CCC[C@H](NC(=O)Cc2c[nH]c3ccccc23)[C@@H]1C\\nCn1nc(CNC(=O)Nc2ccccc2C(F)(F)F)cc1-c1ccncc1\\nCC[NH2+]C[C@H](Cc1cscn1)c1cccc(F)c1\\nCCCCS(=O)(=O)N1CCN(c2ccc(-n3ccnc3C)nn2)CC1\\nO=C(c1cc2ccccc2o1)N(C[C@H]1CCCO1)c1nc2c(F)cccc2s1\\nC[C@H](CC#N)Sc1ccccc1NC(=O)c1ccc(Cl)nc1Cl\\nO=C(CCCc1nc2ccccc2s1)N[C@H]1CCOC1=O\\nCOC(=O)c1cc(S(=O)(=O)N[C@H](C)c2ccccc2C)cn1C\\nCc1cnn(CC(=O)[C@@H](C#N)c2nc([O-])c3ccc(Cl)cc3n2)c1\\nCOc1ccc(C)cc1NC(=O)[C@H]1CCCN1c1cc(C)ccc1[N+](=O)[O-]\\nCC[NH+]1CCC2(CC1)OC[C@H](C(=O)[O-])N2C(=O)c1ccc(F)cc1\\nCc1ccc2c(c1)N(C(=O)C[C@H](O)c1ccc(Cl)cc1)CC2\\nO=c1[nH]cnc2c1[nH]c(=S)n2[C@@H]1O[C@H](CO)[C@@H](O)[C@H]1O\\nCc1cn2c([nH+]1)CC[C@H](NC(=O)C[C@@H]1CCCc3ccccc31)C2\\nCC(=O)c1cc(CN2CCC3=NN=C(c4ccccc4F)[C@@H]3C2)cs1\\nC[C@H](Nc1ccc(S(=O)(=O)N2CCCCC2)cn1)[C@@H](C)CO\\nCOCCn1nc(C)c(NC(=O)N2CCC[C@H]2c2cccc(C)c2)c1C\\nCCCCS(=O)(=O)[N-]c1ccc(NC(=O)[C@H]2CCC[NH+](C)C2)cc1\\nFc1ccc(Oc2ccnc(Sc3nnc(-c4cccs4)o3)n2)cc1\\nN#Cc1ccc(NC(=O)[C@@H]2CSCN2C(=O)c2cn(Cc3ccccc3)c3ccccc23)cc1\\nCC[C@@H](C)n1nccc1NC(=O)C(=O)N1CCc2cc(F)ccc2C1\\nCc1ccc(-c2cnc(CCC(=O)N(C)C3CCOCC3)o2)cc1\\nC[C@H](CNC(=O)c1ccc(-c2ccccc2)[nH]c1=O)Oc1ccc(F)cc1\\nCCOC(=O)c1c(NC(=O)[C@H]2CCCN2S(C)(=O)=O)sc2ccccc12\\nCc1ccc(C(=O)Cc2cccc(O)c2)cc1\\nCc1ccccc1-c1nn(CN2CCCc3ccc(S(C)(=O)=O)cc32)c(=S)o1\\nCCOc1cccc([C@H](C)NC[C@@](C)(O)c2ccc(F)cc2F)c1\\nCC[C@@H]1CCCCCN1C(=O)c1cnc2sc(C)cn2c1=O\\nN#Cc1ccc(OCC(=O)NCc2cccc(CO)c2)cc1\\nO=C(Nc1ccccc1)NC1CCN(C(=O)[C@H]2CCCC[C@H]2C(F)(F)F)CC1\\nCC1(C)CCC(O)(C[NH2+][C@@H]2CCOC3(CCC3)C2)CC1\\n[NH3+][C@H]1CCC[C@H]1CCN1C(=O)c2cccc3cccc1c23\\nC#CCN(Cc1cc(Br)cc(OC)c1O)[C@@H]1CCS(=O)(=O)C1\\nCc1ccc(-c2nc3nc(CN4CC[NH+](C)CC4)cc([O-])n3n2)cc1\\nC[C@@](O)(CNC(=O)C1CCCC1)c1cccs1\\nO[C@H](CSc1nnc(-c2c[nH]c3ccccc23)n1C1CC1)CN1CCOCC1\\nC[C@@H]1CCC/C(=N/[NH+]=C(/[S-])NCc2ccccc2)C1\\nO=C(c1cc2ccc(Cl)cc2[nH]1)N1CCC[C@@H]1Cn1nnc(-c2cccs2)n1\\nCOc1ccc(S(=O)(=O)Oc2ccc(C(C)=O)cc2OC)cc1\\nCC(C)c1ccccc1NC(=O)C[NH+](C(C)C)[C@@H]1CCCC[C@@H]1O\\nO=Cc1ccn(-c2ccc(Br)cc2)c1\\nO=C(C1CC1)N1CCC[C@H](Cn2cc[nH+]c2-c2cc3n(n2)CC[NH2+]C3)C1\\nO=C(CCNc1ccccc1[N+](=O)[O-])N1CCC[C@@H]([NH+]2CCCC2)C1\\nCc1ccc2c(c1)-c1onc(C(=O)N3C[C@@H](C)C[C@H](C)C3)c1CO2\\nO=C(COC(=O)c1ccc(Cl)nc1)NC(=O)Nc1ccc2c(c1)OCCO2\\nCCC[C@@H]1C[C@H]1NC(=O)C1(c2ccc(F)cc2F)CCOCC1\\nCCOC(=O)C1CCC(NC(=O)[C@@](C)([NH3+])CC)CC1\\nCC[C@@H](O)C(=O)NCc1cccnc1Oc1ccccc1OC\\nC[C@@H](Sc1nnc(-c2cccs2)n1-c1ccccc1)C(=O)N1CC(=O)Nc2ccccc21\\nCc1cc(F)ccc1NC(=O)COc1ccc2c(c1)CCC2\\nC[C@H](NC(=O)NCCC[S@](C)=O)c1ccc(Cl)s1\\nO=C(Cn1c(=O)c(=O)n(Cc2ccncc2)c2ncccc21)NCCc1ccccc1\\nCS(=O)(=O)c1ccc(C(=O)Nc2ccc(F)c(F)c2F)cc1\\nCCCCOc1ccccc1/C=C1\\\\SC(N2CCC(C)CC2)=NC1=O\\nCC(C)[C@@H](CNC(=O)N1CCc2ccc(Cl)cc2C1)c1cccnc1\\nCCCOc1ncnc(Nc2cc(Cl)cc(Cl)c2)c1N\\nCC(=O)Nc1ccc(NC(=O)c2nnn(-c3ccc(C)c(C)c3)c2C)cc1\\nCCOC1CC[NH+](CC[C@@H](O)c2ccc(C)c(F)c2)CC1\\nIC[C@@H]1Cn2c(nnc2-c2ccncc2)S1\\nCCOc1ccc([C@H]2CCCN2C(=O)c2[nH]c(C)c(C(C)=O)c2C)cc1\\nCC(C)CONc1ncnc2sc3c(c12)CCC3\\nCC(C)[C@@H](ON1C(=O)c2ccccc2C1=O)C(=O)[O-]\\nCOC[C@H](O)C[NH+]1CCC(C)(C)C1\\nCOC(=O)[C@@H](c1ccccc1Cl)N1CCCSCC1\\nO=C(Nc1nc2ccc(F)cc2s1)c1cc(-c2ccccc2O)[nH]n1\\nC/C(=N\\\\Nc1ncnc2sc(C)c(C)c12)c1cccc(OC(F)F)c1\\nCC(C)CN1CCO[C@@H](CNC(=O)/C=C/c2ccnc(Cl)c2)C1\\nCc1cc(F)ccc1CCNC(=O)Cc1c[nH]c2c(C)cccc12\\nNC(=O)[C@@H]1CCCN(C(=O)Cn2nc(-c3cccs3)oc2=O)C1\\nCCCCCn1c(SCC(=O)[O-])nc2ccccc2c1=O\\nCc1ccc2nc(NC(=O)c3ccc(OCc4nc(-c5ccco5)cs4)cc3)sc2c1\\nCOc1ccccc1N1CCN(c2ccc(=O)n(CC(=O)NC3CC3)n2)CC1\\nC/C(=C/C(=O)N[C@@H](C)c1c(C)noc1C)c1ccccc1OC(F)F\\nCOCCn1nc(C)c(NC(=O)N2CC[C@H](Cc3ccccc3)C2)c1C\\nCc1ccsc1C[NH+](Cc1nc2ccccc2n1C(C)C)C[C@H](C)O\\nCc1cccc(CNC(=O)C[C@H]2Oc3ccc(C)cc3NC2=O)c1\\nC[C@@H](c1ccc([S@](C)=O)cc1)N(C)C(=O)c1cc2cccc(F)c2o1\\nCOc1cc(OC)c(C(C)=O)cc1CSc1nnnn1-c1ccccc1\\nCc1sc(=O)n(CCC(=O)NC2CC(C)(C)[NH2+]C(C)(C)C2)c1C\\nCC[C@@H]1CCCCN1C(=S)NC(=O)c1ccc(C)cc1\\nCCC[C@H](C)C(=O)N[C@H](C)c1cccc(Br)c1\\nCOc1cccc([C@H]2CCCN2C(=O)c2ccccc2I)c1\\nC[C@H](NC(=O)N1CCCC[C@@H]1C1OCCO1)c1cccc(-n2ccnc2)c1\\nCS(=O)(=O)N1CCC[C@@H](C[NH+]2CCC[C@H](CO)C2)C1\\nCCN(C(=O)Cn1nc2n(c1=O)CCCCC2)[C@H]1CCS(=O)(=O)C1\\nCOc1ccccc1NC[C@H]1CCCN(S(C)(=O)=O)C1\\nCOc1cc([C@@H]2CC(=O)Nc3c2cnn3Cc2cccnc2)cc2c1OCO2\\nO=C(CNc1ccc(Cl)cc1NC(=O)c1ccco1)Nc1ccc(F)c(Cl)c1\\nCc1nn(C)cc1[C@@H](C)NC(=O)C(=O)Nc1ccc(OCC2CCCCC2)cc1\\nCC(C)(C)[S@](=O)CCNC(=O)c1cccc(F)c1Cl\\nC[C@@H](O)c1ccc(F)cc1OCc1nc(C(C)(C)C)cs1\\nCOC[C@H](NC(=O)Nc1cn[nH]c1)c1ccc(F)c(F)c1\\nC[C@@H]1CS(=O)(=O)N(c2ccc(S(=O)(=O)Nc3ccccc3C(F)(F)F)cc2)C1=O\\nCC(C)c1ccc2c(c1)[C@]1(CC(O)=Nc3c1cnn3Cc1ccccc1Cl)C(=O)N2C\\nCC[C@@H](C)C(=O)NCC(=O)N(C)[C@@H](C)c1cc(F)ccc1F\\nCO/N=C\\\\C(C#N)=C/c1cccnc1\\nCO[C@H](c1ccc(Cl)cc1)[C@@H](C)NC(=O)C(=O)Nc1ccccc1C\\nCC(C)CNC(=O)[C@](C)(N)C(F)(F)F\\nC[C@@H](C(=O)C1=c2ccccc2=[NH+]C1)[NH+]1CCC[C@@H]1[C@@H]1CC=CS1\\nCc1nc(Br)ccc1NC(=O)NCc1cnn(C)c1\\nCOc1c(C)cnc(CNC(=O)Nc2ccc(N(C)C)cc2)c1C\\nCOc1ccc2cc(COC(=O)COc3ccccc3C#N)ccc2c1\\nCCS(=O)(=O)CCN(C)Cc1c[nH]nc1-c1ccc(C)cc1\\nCOc1ccc([C@@](C)([NH3+])Cc2[nH+]ccn2C)cc1\\nC[C@H]1CCN(C(=O)NCCc2nnc3n2CCCCC3)[C@@H](C)C1\\nO=C(NC[C@@H]1CCC[NH+](Cc2ccccc2F)C1)c1nc[nH]n1\\nO=C1CC[C@@H](NC(=O)COc2ccc(Cl)c(Cl)c2)CN1\\nCc1noc(C)c1COc1ccc(C[NH2+]C[C@H]2CCCO2)cc1\\nN#Cc1cnn2c1N[C@@H](c1ccccc1)C[C@@H]2C(F)F\\nC[C@@H]1Cc2ccccc2N1C(=O)[C@H]1CCCN(C(=O)NC2CC2)C1\\nCOCc1nc(C(=O)OCC2=CC[C@H]3C[C@@H]2C3(C)C)cs1\\nCCN(Cc1ccc(Br)s1)C(=O)C[NH+](C)CC(=O)[O-]\\nO=C([O-])[C@H]1CCCN(c2ccc([O-])nn2)C1\\nCOc1ccc(CCCC(=O)Nc2cccc(S(N)(=O)=O)c2)cc1F\\nFc1ccccc1[C@@H](c1nnnn1C1CCCCC1)[NH+]1CCN(c2ccccc2)CC1\\nO=C(C/C(=N\\\\Nc1nc(-c2ccccc2)cs1)c1ccccc1)C(F)(F)F\\nC[C@H]([NH2+]CC(=O)N(C)C)c1ccc(Cl)s1\\nCCOC(=O)COc1ccccc1/C=C1/C(=O)NC(=O)N(c2ccc3c(c2)OCO3)C1=O\\nCc1cc(C(=O)NNC(=O)c2cccc3ccccc23)c(C)o1\\nCOc1ccc(-c2csc(NC(=O)Nc3ccc(F)cc3)n2)cc1OC\\nCc1ccc(C)c(S(=O)(=O)N2CCN([C@H](C)c3nc(N)nc(Nc4ccccc4)n3)CC2)c1\\nCc1cccc(C)c1-n1nnnc1CSCc1nnc(C)n1C\\nCOc1cccc(C(=O)N[C@@](C)(C(N)=O)c2cccc(Cl)c2)c1\\nC[C@H](CCO)[NH2+][C@H]1CCc2c(Br)cccc21\\nCCc1ccsc1-c1cnc(C[NH3+])o1\\nNC(=O)C1(N2CCCC2)CC[NH2+]CC1\\nCC(C)C[C@@H]([NH3+])C(=O)N1CC[C@H](C(=O)[O-])[C@@H]1C\\nCC[C@H](C)Cn1c(CCCl)nc2c(C)nn(C)c21\\nCc1csc([C@H](C)NC(=O)CCC[NH+]2CCCCC2)n1\\nCCC(=O)NN/C(C)=C/C(=O)NCC(C)(C)C\\nCCC(=O)N1CCC([NH+](C)Cc2ccc(SC)c(OC)c2)CC1\\nClc1ccc(CNc2ncccc2Cl)cn1\\nC[C@H](c1nc(C(C)(C)C)no1)[S@](=O)Cc1ncn(-c2ccccc2)n1\\nCn1cnn(C[NH+](Cc2ccc(F)cc2)C2CC2)c1=S\\nC#CC(C)(C)NC[C@H]1CN(C)CCO1\\nC[C@H](NC(=O)[C@H]1CCCN1S(C)(=O)=O)c1ccc2c(c1)OCO2\\nO=C(Nc1ccc2ncccc2c1)C(=O)NC1CCC(O)CC1\\nCC(C)[C@H]([NH2+]CC1CCN(C(=O)OC(C)(C)C)CC1)c1cccnc1\\nCCC[C@H](C)NC(=O)C[NH2+]Cc1cscc1C\\nCS(=O)(=O)N1CCC(C(=O)Nc2sc3c(c2C#N)CCCC3)CC1\\nO=C(CN(C(=O)Cn1nnc2ccccc21)c1ccccc1)NC[C@H]1CCCO1\\nO=C(Nc1cccc(N2CCCNC2=O)c1)C(=O)N1CCc2cc(F)ccc2C1\\nC[C@@H]1CC[NH+](CCCN2C(=O)CNC2=O)C[C@@H]1O\\nO=C(COc1ccc(Br)cc1)NOCc1ccccc1\\nCC(=O)C[C@]1(O)C(=O)N(Cc2ccc(C)cc2)c2c(C)cccc21\\nC[C@H](OC(=O)c1ccc2ccccc2n1)C(=O)NCC1CCCCC1\\nC[C@@H](Sc1cc(Cl)ccc1Cl)C(=O)N1CCC[C@H](CCC(N)=O)C1\\nCOc1cc(-c2ccno2)ccc1S(=O)(=O)NCc1ccco1\\nCCC[C@@H](CC)Nc1c(F)c(F)nc(F)c1F\\nOc1cccc([C@@H]2CN(c3nccc(Oc4ccc(F)cc4)n3)CCO2)c1\\nCOc1ccc([C@H](CNC(=O)c2cccc3ccccc23)[NH+]2CCCC2)cc1\\nCC1(C)[C@@H]2CC[C@@]1(C)[C@H](NC(=O)COc1ccc(C3SCCCS3)cc1)C2\\nCc1c(C)n(-c2ccccc2)c2nc(C(=O)Nc3ccc(F)cc3)nc(N3CCCCC3)c12\\nCC(C)C(=O)Nc1cccc(NC(=O)C(=O)NCC[C@H]2C[C@H]3CC[C@@H]2C3)c1\\nCOc1ccc(CNC(=O)c2cc(N3C(=O)C(C)(C)CS3(=O)=O)ccc2Cl)cc1OC\\nCC(=O)Nc1cccc(NC(=O)CCc2c(C)[nH]c(=S)[nH]c2=O)c1\\nCOc1ccccc1[C@H]1CCCN1C(=O)[C@@H](C)CCOc1ccccc1\\nCCNc1ncc(COCC2CCCCC2)s1\\nCC[C@H](C)C(=O)Nc1ccccn1\\nO=C([O-])CC1=C(C(=O)[O-])CCCC1\\nFc1ccc(C[NH2+]C[C@@H]([C@H]2CCOC2)N2CCOCC2)c(F)c1\\nCCc1cc(Cn2cc(N)nn2)n(C)n1\\nN#Cc1cccnc1Oc1ccccc1NCc1cccc2ccccc12\\nO=C(NCc1ccc([N+](=O)[O-])cc1)N[C@@H]1CCCC[C@H]1CO\\nC[C@H](NC(=O)NC[C@H](C)C[C@@H](C)O)c1ccc(S(C)(=O)=O)cc1\\nCC(C)Oc1ccc(NC(=O)NC[C@H](C)N2CCOCC2)c(F)c1\\nCOc1ccccc1COC1CCN(C(=O)[C@H]2CCC[C@@H](C)C2)CC1\\nCC(=O)O[C@H]1CC[C@H]2[C@H]3C[C@H](OC(C)=O)[C@]45C[C@H]4CC[C@]5(C)[C@@H]3CC[C@]12C\\nCCCn1nnnc1CN1CC[C@]2(C1)NC(=O)N(C(C)C)C2=O\\nCC1=C(C(=O)OCC(C)C)[C@H](c2cccc(F)c2)c2c(n(C)c(=O)n(C)c2=O)N1\\nCc1cc(C)c2c(-c3ccccc3)nc(SCC(=O)NC3CC3)n2n1\\nCOc1cc2c(cc1OC)[C@H](C(=O)[O-])[C@H](c1cccc(Cl)c1)N(C)C2=O\\nCOCCN1C(=O)CC[C@@H]2C[NH+](Cc3cc(C)ccc3C)CC[C@@H]21\\nCc1cnc([C@H](C)NC(=O)NNC(=O)Nc2ccccc2)s1\\nCNC(=O)c1ccc(NC(=O)c2csc(-c3ccccc3)n2)cc1\\nCNc1nc(C2CCN(C(=O)Cc3ccccn3)CC2)[nH+]c2c1CN(C(C)=O)CC2\\nCc1cc(C)n(C[C@@H](C)CNC(=O)NCc2cc3ccccc3o2)n1\\nCc1nc2n(n1)C[C@H]([NH2+]C[C@@H](O)CN(C)Cc1ccccc1)CC2\\nc1ccc(Cn2c(SCc3ncon3)nnc2-c2cccs2)cc1\\nCOc1ccc(-n2nc(C)c3c2C[C@H](c2cc(OC)c(OC)c(OC)c2)CC3=O)cc1\\nCOc1ccc(OC)c(/C=C/C(=O)OCC(C)C)c1\\nC[C@H](NC(=O)[C@H]1CC[C@H](C[NH3+])O1)C(=O)N(C)C\\nCc1cccc(C(C)C)c1NC(=O)[C@@H](C)Sc1nnc(-c2cccs2)n1N\\nCn1cc(C(=O)Nc2ccccc2C(=O)NCCc2ccccc2)c(=O)c2cccn21\\nCc1ccccc1[C@@H]1C[C@H](C)N(C(=O)[C@@H](C)Sc2ccccn2)C1\\nCc1occc1C(=O)/C(C#N)=C/c1ccc([C@@H]2C[C@H]2C)o1\\nCC[C@](C)(C[NH3+])[C@H](O)c1ccc2c(c1)OCO2\\nCCc1nn(CC)c(C[C@@]2(C3CC3)CCC[NH2+]2)c1Br\\nCC(=O)Nc1ccc(CN2CC[NH+](C3CCCC3)[C@H](CCO)C2)cc1\\nCOc1ccc([C@H](O)[C@@H](C)NC(=O)[C@@H](C)SC)cc1\\nCCC(=O)N1CCC[C@@H]1c1cc(C(F)(F)F)c2c(=O)n(C)c(=O)n(C)c2n1\\nC[C@H]([NH3+])[C@@H](CC(=O)[O-])c1ccccc1\\nCc1ccc([C@H]2C3=C(NC(=O)N2C)c2ccccc2C3=O)cc1\\nC[C@@]1(Cc2ccc3c(c2)OCO3)CCC(=O)N(CCc2ccc(O)cc2)C1\\nCc1cc(C)cc(O[C@H]2CCCC(C)(C)[C@@H]2O)c1\\nCc1c(-c2nc(-c3cccs3)no2)sc2nc[nH]c(=O)c12\\nCOc1cc([C@H]2C(C(=O)Nc3ccccn3)=C(C)NC3=C2C(=O)CCC3)ccc1OCc1ccccc1\\nCOc1cc(C)c([C@@H](C)NC2CC[NH+]([C@H]3CCCC[C@@H]3O)CC2)cc1OC\\nC[C@@H]1CCC[C@@H](NS(=O)(=O)Cc2cccc(N)c2)C1\\nCCCN1C(N)=[NH+]C[C@@H]1c1cc(Cl)c2c(c1)OCO2\\nCC(C)C[C@@H](NC(=O)[C@@H]1C[C@@H]1c1cccc(Cl)c1Cl)C(=O)Nc1cc[nH]n1\\nCc1nc(CCC[NH+]2CCC[C@H]2C(N)=O)cs1\\nNC(=O)COc1cccc(CNC(=O)c2cc3cc(Cl)ccc3[nH]2)c1\\nCOc1ccc(CNC(=O)c2cc(=O)c3ccc(Br)cc3o2)cc1\\nCC[C@@H](C)c1ccccc1N1C[C@H](C(=O)N2CCN(C)CC2)CC1=O\\nCC[NH2+][C@H](Cc1ccccc1Cl)[C@H]1C[NH+](C)CCN1C\\nC[NH+]1CCC(N[C@@H]2CC(=O)N(CCc3cccc(Cl)c3)C2)CC1\\nCCN1CC(=O)Nc2cc(C(=O)NC3CC[NH+](C4CCCC4)CC3)ccc21\\nCOc1ccc(Br)cc1/C=C/C(=O)N1CCN(C(=O)c2ccccc2)CC1\\nNC(=O)COc1ccc(C(=O)N[C@H]2CCCc3ccccc32)cc1\\nO=C(COc1ncnc2ccc(Br)cc12)Nc1ccccc1Cl\\nC[C@@H](c1ccc(Cl)cc1Cl)N(C)C(=O)c1ccc(NC(N)=O)cc1\\nCc1ccc(N2C(=O)[C@@H](Cc3cccc(C)c3)S/C2=C(/C#N)C(N)=O)cc1\\nCC(C)CN(C(=O)NCc1ccc(C(F)(F)F)cc1)C1CC1\\nClCCc1nc2cccnc2n1CCn1cccn1\\nCC[C@@](C)([C@@H]([NH3+])c1cc(Br)ccc1F)N1CCOCC1\\nCc1ccc(NC(=O)c2cc3ccccc3oc2=O)c([N+](=O)[O-])c1\\nCC1(C)OC[C@H]([C@H]2O[C@@H]3OC(C)(C)O[C@@H]3[C@H]2OS(C)(=O)=O)O1\\nCc1cccc([C@H](CCl)CCC[C@@H]2CCCO2)c1\\n'"
            ],
            "application/vnd.google.colaboratory.intrinsic+json": {
              "type": "string"
            }
          },
          "metadata": {},
          "execution_count": 16
        }
      ]
    },
    {
      "cell_type": "code",
      "execution_count": 17,
      "metadata": {
        "id": "xRb61XzXyyh6"
      },
      "outputs": [],
      "source": [
        "X_train = []\n",
        "y_train = []\n",
        "\n",
        "seq_length = 4\n",
        "for i in range(len(concat_smiles) - seq_length):\n",
        "    X_seq, y_char = build_X_and_y(concat_smiles, i, seq_length)\n",
        "    X_seq_int = [char_to_int_map[char] for char in X_seq]\n",
        "    y_seq_int = [char_to_int_map[y_char]]\n",
        "    if 19 not in X_seq_int: #skip when stop token is in X bc nonsense\n",
        "      X_train.append(X_seq_int)\n",
        "      y_train.append(y_seq_int)"
      ]
    },
    {
      "cell_type": "markdown",
      "metadata": {
        "id": "fubbPe7Vyyh6"
      },
      "source": [
        "Create numpy arrays from the lists"
      ]
    },
    {
      "cell_type": "code",
      "execution_count": 18,
      "metadata": {
        "id": "il1hbrsbyyh7"
      },
      "outputs": [],
      "source": [
        "import numpy as np\n",
        "\n",
        "X_train_np = np.array(X_train)\n",
        "y_train_np = np.array(y_train)\n",
        "\n",
        "np.random.seed(42)\n",
        "\n",
        "np.random.shuffle(X_train_np)\n",
        "np.random.shuffle(y_train_np)"
      ]
    },
    {
      "cell_type": "code",
      "source": [
        "X_train_np"
      ],
      "metadata": {
        "colab": {
          "base_uri": "https://localhost:8080/"
        },
        "id": "UsXBfBwF-OV8",
        "outputId": "516f2290-b478-4bc8-ae50-47fd70bc795c"
      },
      "execution_count": 19,
      "outputs": [
        {
          "output_type": "execute_result",
          "data": {
            "text/plain": [
              "array([[10, 13, 16, 32],\n",
              "       [13,  8, 32,  5],\n",
              "       [ 9,  7, 16,  9],\n",
              "       ...,\n",
              "       [25, 32,  4,  7],\n",
              "       [16, 32, 31, 31],\n",
              "       [32,  7, 32, 15]])"
            ]
          },
          "metadata": {},
          "execution_count": 19
        }
      ]
    },
    {
      "cell_type": "markdown",
      "metadata": {
        "id": "Wb5Y3ERkyyh8"
      },
      "source": [
        "Reshape the X numpy array (n_examples, seq_lenght, 1)"
      ]
    },
    {
      "cell_type": "code",
      "execution_count": 20,
      "metadata": {
        "id": "T6mf5a4Dyyh8",
        "colab": {
          "base_uri": "https://localhost:8080/"
        },
        "outputId": "044acfd4-6c91-49bf-c7f5-ee430a1bdfb5"
      },
      "outputs": [
        {
          "output_type": "stream",
          "name": "stdout",
          "text": [
            "(38884, 4, 1)\n"
          ]
        }
      ],
      "source": [
        "X_train_reshaped = X_train_np.reshape(X_train_np.shape[0], X_train_np.shape[1], 1)\n",
        "\n",
        "print(X_train_reshaped.shape)"
      ]
    },
    {
      "cell_type": "code",
      "source": [
        "y_train_reshaped = y_train_np.reshape(y_train_np.shape[0], 1)\n",
        "\n",
        "print(y_train_reshaped.shape)"
      ],
      "metadata": {
        "colab": {
          "base_uri": "https://localhost:8080/"
        },
        "id": "ET_bQhT0T54q",
        "outputId": "c9999e92-43de-474c-e492-cf2a79df9f8d"
      },
      "execution_count": 21,
      "outputs": [
        {
          "output_type": "stream",
          "name": "stdout",
          "text": [
            "(38884, 1)\n"
          ]
        }
      ]
    },
    {
      "cell_type": "markdown",
      "metadata": {
        "id": "l7x4U0tCyyh9"
      },
      "source": [
        "Normalize X by dividing each values by the total number of unic characters"
      ]
    },
    {
      "cell_type": "code",
      "execution_count": 22,
      "metadata": {
        "id": "lHTjPnv4yyh9",
        "colab": {
          "base_uri": "https://localhost:8080/"
        },
        "outputId": "b425f622-fabe-4d5d-92d4-b63804511990"
      },
      "outputs": [
        {
          "output_type": "execute_result",
          "data": {
            "text/plain": [
              "array([[[0.3030303 ],\n",
              "        [0.39393939],\n",
              "        [0.48484848],\n",
              "        [0.96969697]],\n",
              "\n",
              "       [[0.39393939],\n",
              "        [0.24242424],\n",
              "        [0.96969697],\n",
              "        [0.15151515]],\n",
              "\n",
              "       [[0.27272727],\n",
              "        [0.21212121],\n",
              "        [0.48484848],\n",
              "        [0.27272727]],\n",
              "\n",
              "       ...,\n",
              "\n",
              "       [[0.75757576],\n",
              "        [0.96969697],\n",
              "        [0.12121212],\n",
              "        [0.21212121]],\n",
              "\n",
              "       [[0.48484848],\n",
              "        [0.96969697],\n",
              "        [0.93939394],\n",
              "        [0.93939394]],\n",
              "\n",
              "       [[0.96969697],\n",
              "        [0.21212121],\n",
              "        [0.96969697],\n",
              "        [0.45454545]]])"
            ]
          },
          "metadata": {},
          "execution_count": 22
        }
      ],
      "source": [
        "nb = len(char_to_int_map)\n",
        "\n",
        "X_train_normalized = X_train_reshaped / nb\n",
        "\n",
        "X_train_normalized"
      ]
    },
    {
      "cell_type": "markdown",
      "metadata": {
        "id": "iWnIpi2uyyh9"
      },
      "source": [
        "Import Keras and build (at least) a two layered LSTM network with 128 neurone in each.\n",
        "\n",
        "You can also add Dropoutlayers\n",
        "\n",
        "Do you think you should use the return_sequences = True ? If yes, when ?\n",
        "\n",
        "\n",
        "Add a Dense layer on top with with the appropriate activation function and number of neurones\n"
      ]
    },
    {
      "cell_type": "code",
      "execution_count": 23,
      "metadata": {
        "id": "9a0Vz4L8yyiM",
        "colab": {
          "base_uri": "https://localhost:8080/"
        },
        "outputId": "c34c158b-a797-43d3-9095-2bcd70104f4d"
      },
      "outputs": [
        {
          "output_type": "stream",
          "name": "stdout",
          "text": [
            "Model: \"sequential\"\n",
            "_________________________________________________________________\n",
            " Layer (type)                Output Shape              Param #   \n",
            "=================================================================\n",
            " lstm (LSTM)                 (None, 4, 128)            66560     \n",
            "                                                                 \n",
            " dropout (Dropout)           (None, 4, 128)            0         \n",
            "                                                                 \n",
            " lstm_1 (LSTM)               (None, 128)               131584    \n",
            "                                                                 \n",
            " dropout_1 (Dropout)         (None, 128)               0         \n",
            "                                                                 \n",
            " dense (Dense)               (None, 33)                4257      \n",
            "                                                                 \n",
            "=================================================================\n",
            "Total params: 202401 (790.63 KB)\n",
            "Trainable params: 202401 (790.63 KB)\n",
            "Non-trainable params: 0 (0.00 Byte)\n",
            "_________________________________________________________________\n"
          ]
        }
      ],
      "source": [
        "from keras.models import Sequential\n",
        "from keras.layers import LSTM, Dense, Dropout\n",
        "\n",
        "model = Sequential()\n",
        "\n",
        "model.add(LSTM(128, input_shape=(4, 1), return_sequences=True))\n",
        "model.add(Dropout(0.2))\n",
        "\n",
        "model.add(LSTM(128))\n",
        "model.add(Dropout(0.2))\n",
        "\n",
        "model.add(Dense(nb, activation='softmax'))\n",
        "\n",
        "model.summary()"
      ]
    },
    {
      "cell_type": "markdown",
      "metadata": {
        "id": "q1cAV53EyyiN"
      },
      "source": [
        "Compile the model with the appropriate loss function and the adam optimizer"
      ]
    },
    {
      "cell_type": "code",
      "execution_count": 24,
      "metadata": {
        "id": "6q2XpZQ4yyiO"
      },
      "outputs": [],
      "source": [
        "model.compile(loss='sparse_categorical_crossentropy', optimizer='adam', metrics=['accuracy'])"
      ]
    },
    {
      "cell_type": "markdown",
      "metadata": {
        "id": "ZIq8gdLyyyiP"
      },
      "source": [
        "Train the model on 20 epochs and 10 examples (yeah you read correctly) and check that the model overfits !"
      ]
    },
    {
      "cell_type": "code",
      "execution_count": 25,
      "metadata": {
        "id": "7Qm3jXR7yyiP",
        "colab": {
          "base_uri": "https://localhost:8080/"
        },
        "outputId": "30de8fc3-0777-4e08-8188-7aed70a68c7b"
      },
      "outputs": [
        {
          "output_type": "stream",
          "name": "stdout",
          "text": [
            "Epoch 1/20\n",
            "973/973 [==============================] - 27s 22ms/step - loss: 2.6546 - accuracy: 0.2064 - val_loss: 2.6047 - val_accuracy: 0.2228\n",
            "Epoch 2/20\n",
            "973/973 [==============================] - 21s 21ms/step - loss: 2.6268 - accuracy: 0.2113 - val_loss: 2.5953 - val_accuracy: 0.2228\n",
            "Epoch 3/20\n",
            "973/973 [==============================] - 19s 20ms/step - loss: 2.6247 - accuracy: 0.2091 - val_loss: 2.6002 - val_accuracy: 0.2228\n",
            "Epoch 4/20\n",
            "973/973 [==============================] - 21s 22ms/step - loss: 2.6239 - accuracy: 0.2115 - val_loss: 2.5970 - val_accuracy: 0.2232\n",
            "Epoch 5/20\n",
            "973/973 [==============================] - 21s 21ms/step - loss: 2.6228 - accuracy: 0.2123 - val_loss: 2.5979 - val_accuracy: 0.2228\n",
            "Epoch 6/20\n",
            "973/973 [==============================] - 20s 20ms/step - loss: 2.6205 - accuracy: 0.2127 - val_loss: 2.5952 - val_accuracy: 0.2228\n",
            "Epoch 7/20\n",
            "973/973 [==============================] - 22s 23ms/step - loss: 2.6211 - accuracy: 0.2135 - val_loss: 2.5953 - val_accuracy: 0.2228\n",
            "Epoch 8/20\n",
            "973/973 [==============================] - 21s 21ms/step - loss: 2.6202 - accuracy: 0.2130 - val_loss: 2.5948 - val_accuracy: 0.2228\n",
            "Epoch 9/20\n",
            "973/973 [==============================] - 21s 22ms/step - loss: 2.6206 - accuracy: 0.2136 - val_loss: 2.5941 - val_accuracy: 0.2228\n",
            "Epoch 10/20\n",
            "973/973 [==============================] - 21s 21ms/step - loss: 2.6202 - accuracy: 0.2139 - val_loss: 2.5925 - val_accuracy: 0.2228\n",
            "Epoch 11/20\n",
            "973/973 [==============================] - 20s 20ms/step - loss: 2.6193 - accuracy: 0.2148 - val_loss: 2.5971 - val_accuracy: 0.2227\n",
            "Epoch 12/20\n",
            "973/973 [==============================] - 21s 22ms/step - loss: 2.6191 - accuracy: 0.2138 - val_loss: 2.5942 - val_accuracy: 0.2228\n",
            "Epoch 13/20\n",
            "973/973 [==============================] - 20s 20ms/step - loss: 2.6189 - accuracy: 0.2153 - val_loss: 2.5942 - val_accuracy: 0.2228\n",
            "Epoch 14/20\n",
            "973/973 [==============================] - 21s 22ms/step - loss: 2.6185 - accuracy: 0.2149 - val_loss: 2.5935 - val_accuracy: 0.2228\n",
            "Epoch 15/20\n",
            "973/973 [==============================] - 20s 20ms/step - loss: 2.6185 - accuracy: 0.2153 - val_loss: 2.5954 - val_accuracy: 0.2228\n",
            "Epoch 16/20\n",
            "973/973 [==============================] - 21s 22ms/step - loss: 2.6185 - accuracy: 0.2147 - val_loss: 2.5958 - val_accuracy: 0.2217\n",
            "Epoch 17/20\n",
            "973/973 [==============================] - 21s 21ms/step - loss: 2.6183 - accuracy: 0.2139 - val_loss: 2.5924 - val_accuracy: 0.2228\n",
            "Epoch 18/20\n",
            "973/973 [==============================] - 21s 21ms/step - loss: 2.6182 - accuracy: 0.2148 - val_loss: 2.5961 - val_accuracy: 0.2222\n",
            "Epoch 19/20\n",
            "973/973 [==============================] - 21s 21ms/step - loss: 2.6179 - accuracy: 0.2151 - val_loss: 2.5961 - val_accuracy: 0.1993\n",
            "Epoch 20/20\n",
            "973/973 [==============================] - 20s 20ms/step - loss: 2.6182 - accuracy: 0.2150 - val_loss: 2.5954 - val_accuracy: 0.2228\n"
          ]
        }
      ],
      "source": [
        "history = model.fit(X_train_normalized, y_train_reshaped, validation_split=0.2, epochs=20)"
      ]
    },
    {
      "cell_type": "code",
      "source": [
        "import matplotlib.pyplot as plt\n",
        "\n",
        "plt.plot(history.history['loss'])\n",
        "plt.plot(history.history['val_loss'])\n",
        "plt.legend([\"loss\", \"val_loss\"])\n",
        "plt.xlabel(\"Epochs\")\n",
        "plt.ylabel(\"Loss\")\n",
        "plt.show()"
      ],
      "metadata": {
        "colab": {
          "base_uri": "https://localhost:8080/",
          "height": 449
        },
        "id": "LeDhJxaey_g3",
        "outputId": "6bb7f6d1-50c4-48cf-fbef-35a5ae72c3ca"
      },
      "execution_count": 26,
      "outputs": [
        {
          "output_type": "display_data",
          "data": {
            "text/plain": [
              "<Figure size 640x480 with 1 Axes>"
            ],
            "image/png": "[encoded data removed]"
          },
          "metadata": {}
        }
      ]
    },
    {
      "cell_type": "markdown",
      "metadata": {
        "id": "altB1J4xyyiQ"
      },
      "source": [
        "If it does not overfit try to fix data prep and model architecture so it does"
      ]
    },
    {
      "cell_type": "markdown",
      "metadata": {
        "id": "BMCFxz-wyyiR"
      },
      "source": [
        "Create a function **make_prediction(seed_start)** which takes a starting string sequence and uses it to generate a molecule\n"
      ]
    },
    {
      "cell_type": "code",
      "execution_count": 27,
      "metadata": {
        "id": "ulAAk9plyyiS"
      },
      "outputs": [],
      "source": [
        "def make_prediction(seed_start):\n",
        "  num = [char_to_int_map[char] for char in seed_start]\n",
        "  p = model.predict(np.array([num[-4:]]).reshape(1, -1), verbose=0).argmax()\n",
        "  i = 0\n",
        "  while p != 19:\n",
        "    num.append(p)\n",
        "    p = model.predict(np.array([num[-4:]]).reshape(1, -1), verbose=0).argmax()\n",
        "    if i == 20:\n",
        "      break\n",
        "    i = i + 1\n",
        "  string = \"\".join(int_to_char_map[i] for i in num)\n",
        "  return string"
      ]
    },
    {
      "cell_type": "markdown",
      "metadata": {
        "id": "cHb0mnp5yyiS"
      },
      "source": [
        "generate a molecule of your overfitted model"
      ]
    },
    {
      "cell_type": "code",
      "execution_count": 28,
      "metadata": {
        "id": "yWlnEs0-yyiT",
        "colab": {
          "base_uri": "https://localhost:8080/"
        },
        "outputId": "55de72a2-5ad3-4c16-910e-cd0f8897977e"
      },
      "outputs": [
        {
          "output_type": "stream",
          "name": "stdout",
          "text": [
            "Prediction on CC(C :  CC(Cccccccccccccccccccccc\n"
          ]
        }
      ],
      "source": [
        "print(\"Prediction on CC(C : \", make_prediction(\"CC(C\"))"
      ]
    },
    {
      "cell_type": "markdown",
      "metadata": {
        "id": "AyZcbVC4yyiU"
      },
      "source": [
        "Make a model checkpoint so that the model is saved after each epoch\n",
        "if you train on a plateform and it stops you do not lose your training"
      ]
    },
    {
      "cell_type": "code",
      "execution_count": null,
      "metadata": {
        "id": "hhOqrs9NyyiV"
      },
      "outputs": [],
      "source": []
    },
    {
      "cell_type": "markdown",
      "metadata": {
        "id": "chEa4hmZyyiV"
      },
      "source": [
        "Now go to your favorite plateform (colab or something else) and train the dataset on the whole data for 10 epochs and batch size 256\n",
        "\n",
        "it should take a long time so either follow the class or go take a nap"
      ]
    },
    {
      "cell_type": "code",
      "execution_count": null,
      "metadata": {
        "id": "-iyk8BvZyyiW"
      },
      "outputs": [],
      "source": []
    },
    {
      "cell_type": "markdown",
      "metadata": {
        "id": "QGzxqv3hyyiX"
      },
      "source": [
        "Generate between 100 and 1000 molecules.\n",
        "\n",
        "create a list where molecules have between 10 and 50 atoms"
      ]
    },
    {
      "cell_type": "code",
      "execution_count": null,
      "metadata": {
        "id": "9E9fhvHQyyiY"
      },
      "outputs": [],
      "source": []
    },
    {
      "cell_type": "markdown",
      "metadata": {
        "id": "eQwmMBBnyyiY"
      },
      "source": [
        "With rdkit compute the Quantified Estimated Drug likelyness (QED) of each molecule in this subset"
      ]
    },
    {
      "cell_type": "code",
      "execution_count": null,
      "metadata": {
        "id": "EPboRawUyyiZ"
      },
      "outputs": [],
      "source": []
    },
    {
      "cell_type": "markdown",
      "metadata": {
        "id": "9En9mvfOyyiZ"
      },
      "source": [
        "Bonus 1 : Using rdkit, compute the quantitative estimation of drug-likeness (QED) of your generated molecules."
      ]
    },
    {
      "cell_type": "code",
      "execution_count": null,
      "metadata": {
        "id": "xEVMckghyyia"
      },
      "outputs": [],
      "source": []
    },
    {
      "cell_type": "markdown",
      "metadata": {
        "id": "PtCbYnIuyyib"
      },
      "source": [
        "Bonus 2 : try to adapt a transformer model training from hugging face to see if it is better"
      ]
    },
    {
      "cell_type": "code",
      "execution_count": null,
      "metadata": {
        "id": "SnMy9_I1yyib"
      },
      "outputs": [],
      "source": []
    }
  ],
  "metadata": {
    "kernelspec": {
      "display_name": "Python 3 (ipykernel)",
      "language": "python",
      "name": "python3"
    },
    "language_info": {
      "codemirror_mode": {
        "name": "ipython",
        "version": 3
      },
      "file_extension": ".py",
      "mimetype": "text/x-python",
      "name": "python",
      "nbconvert_exporter": "python",
      "pygments_lexer": "ipython3",
      "version": "3.9.9"
    },
    "colab": {
      "provenance": []
    }
  },
  "nbformat": 4,
  "nbformat_minor": 0
}